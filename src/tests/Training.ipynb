{
 "cells": [
  {
   "cell_type": "code",
   "execution_count": 8,
   "metadata": {},
   "outputs": [],
   "source": [
    "import igl \n",
    "import meshplot as mp\n",
    "import numpy as np\n",
    "import polyfempy as pf\n",
    "import wildmeshing as wm"
   ]
  },
  {
   "cell_type": "code",
   "execution_count": 11,
   "metadata": {},
   "outputs": [
    {
     "data": {
      "application/vnd.jupyter.widget-view+json": {
       "model_id": "71d9ebbaeffc492ea06921f298816721",
       "version_major": 2,
       "version_minor": 0
      },
      "text/plain": [
       "Renderer(camera=PerspectiveCamera(children=(DirectionalLight(color='white', intensity=0.6, position=(10.012492…"
      ]
     },
     "metadata": {},
     "output_type": "display_data"
    },
    {
     "name": "stdout",
     "output_type": "stream",
     "text": [
      "[[ 10.01249218   0.         -17.34214592]\n",
      " [  7.50936937   0.         -13.00660896]\n",
      " [  5.00624609   0.          -8.67107296]\n",
      " [  6.64022064   0.          -7.72048473]\n",
      " [  5.64646673   0.          -5.99925232]\n",
      " [  7.37851763   0.          -4.99925232]\n",
      " [  8.37539482   0.          -6.72589397]\n",
      " [ 10.01249218   0.          -5.78071499]\n",
      " [ 11.4820509    0.          -6.62916517]\n",
      " [ 12.4820509    0.          -4.89711428]\n",
      " [ 14.20785522   0.          -5.90793276]\n",
      " [ 13.21410179   0.          -7.62916517]\n",
      " [ 15.01873875   0.          -8.67107296]\n",
      " [ 12.51561546   0.         -13.00660896]]\n"
     ]
    }
   ],
   "source": [
    "v, f = igl.read_triangle_mesh(\"ressources/3way/tri1.obj\")\n",
    "#it is the colorcoding because the faces on the top of the sphere are more bright \n",
    "#, which match with the y-values of their coordinates are the biggest at the top.\n",
    "mp.plot(v, f, v[:,1], shading={\"wireframe\": True})\n",
    "print(v)"
   ]
  },
  {
   "cell_type": "code",
   "execution_count": 3,
   "metadata": {},
   "outputs": [
    {
     "name": "stdout",
     "output_type": "stream",
     "text": [
      "[ 58  59  74  89 104 103  88  73]\n"
     ]
    },
    {
     "data": {
      "application/vnd.jupyter.widget-view+json": {
       "model_id": "e4ded2aff23c444495040d067d05bd68",
       "version_major": 2,
       "version_minor": 0
      },
      "text/plain": [
       "HBox(children=(Output(), Output()))"
      ]
     },
     "metadata": {},
     "output_type": "display_data"
    }
   ],
   "source": [
    "vc, fc = igl.read_triangle_mesh(\"ressources/sphere_with_hole.obj\")\n",
    "# Find the open boundary\n",
    "bnd = igl.boundary_loop(fc)\n",
    "# Map the boundary to a circle, preserving edge proportions\n",
    "bnd_uv = igl.map_vertices_to_circle(vc, bnd)\n",
    "# Harmonic parametrization for the internal vertices\n",
    "uv = igl.harmonic_weights(vc, fc, bnd, bnd_uv, 1)\n",
    "print(bnd)\n",
    "# Plotting the results\n",
    "p = mp.subplot(vc, fc, uv=uv, s=[1, 2, 0])\n",
    "mp.subplot(uv, fc, uv=uv, shading={\"wireframe\": True, \"wire_color\": \"red\", \"wire_width\": 1.0}, s=[1, 2, 1], data=p)\n",
    "\n",
    "# Adding the boundary\n",
    "p.rows[0][0].add_points(vc[bnd], shading={\"point_size\": 0.1});\n",
    "lines = np.vstack([bnd, np.roll(bnd, -1)]).T\n",
    "p.rows[0][0].add_edges(vc, lines, shading={\"line_width\": 1.0, \"line_color\": \"red\"});"
   ]
  },
  {
   "cell_type": "markdown",
   "metadata": {},
   "source": [
    "# MeshPlot\n",
    "    plot a mesh by its vertices and faces:\n",
    "        mp.plot(v, f,v[:, 2], shading={\"wireframe\": True}) ???(the 2)\n",
    "        \n",
    "    plot the triangulated svg file with wildmeshing:\n",
    "        p = mp.plot(vs, tris, shading={\"wireframe\": True}, return_plot=True)\n",
    "        \n",
    "    add vertices points and nodes ??? points:\n",
    "        p.add_points(V, shading={\"point_color\": \"red\", \"point_size\": 2});\n",
    "        p.add_points(nodes, shading={\"point_color\": \"green\", \"point_size\": 2})\n",
    " **here is not adding the nodes, it just add point named \"nodes\" to render**\n",
    "        \n",
    "    plot the ployfem solved problem: \n",
    "        mp.plot(vertices, tets, mises, shading={\"wireframe\": False}, return_plot=True)\n",
    "    \n",
    "\n",
    "\n",
    "# IGL\n",
    "    read_triangle_mesh:       input: XXX.obj \n",
    "                              output: (v,f) vertices, faces\n",
    "                        \n",
    "    bboundary_loop:           input: faces \n",
    "                              output: np.array of the missing loops\n",
    "                    \n",
    "    map_vertices_to_circle:   input: (vertices, boundary_loop) \n",
    "                              output: 2d circle mapping of the boundary \n",
    "                            \n",
    "    harmonic_weights:         input: (vertices, faces, boundary_loop, boundary 2d circle map, 1 (1 for harmonic function, 2 for biharmonic etc ) \n",
    "                              output: 2D coordinates of the flattened mesh as two harmonic functions (np.array)\n",
    "    \n",
    "    \n",
    "    \n",
    "# WildMeshing\n",
    "    tetrahedralize:           input: (source.obj, dest.mesh)\n",
    "                              output: none\n",
    "                              \n",
    "    triangulate_svg:          input: (svg_path,\n",
    "                                    stop_quality = -1,\n",
    "                                    max_its = 80,\n",
    "                                    stage = 1,\n",
    "                                    epsilon = -1,\n",
    "                                    feature_epsilon = 1e-3,\n",
    "                                    target_edge_len = -1,\n",
    "                                    edge_length_r = 1./20.,\n",
    "                                    flat_feature_angle = 10.,\n",
    "                                    cut_outside = False,\n",
    "                                    skip_eps = False,\n",
    "                                    hole_pts = None,\n",
    "                                    mute_log = False)\n",
    "                                    \n",
    "                              output: Vertices_out, Faces_out, nodes, Faces_nodes \n",
    "                             \n",
    "              \n",
    "# Polyfempy \n",
    "    settings:                input: none\n",
    "                             output: settings to ajust for the problem solver\n",
    "                  \n",
    "          settings.set_pde(any PDE) ex: polyfempy.PDEs.LinearElasticity\n",
    "          settings.discr_order = 2 order of the PDE\n",
    "          settings.set_material_params(\"E\", 210000) Young’s modulus and poisson ratio\n",
    "          settings.set_material_params(\"nu\", 0.3)\n",
    "          settings.set_problem(problem) setting up the problem\n",
    "          \n",
    "    problem:                 input: none\n",
    "                             output: the setup problem \n",
    "          problem.set_x_symmetric(n) set the stress symmetric boundary condition on axe x\n",
    "          problem.set_force(a, [100, 0]) set a force vector [100,0] on sideset a\n",
    "          \n",
    "    solver: \n",
    "          solver = pf.Solver()\n",
    "          solver.settings(settings) setup the settings for the solver\n",
    "          solver.load_mesh_from_path(mesh_path) load the mesh\n",
    "          solver.solve() solve\n",
    "          solver.get_sampled_solution(): output: [pts, tets, disp] pts the points, disp the displacement, tets ???\n",
    "          solver.get_sampled_mises_avg(): output: (mises, _ ) mises is the stresses applied to the mesh"
   ]
  },
  {
   "cell_type": "code",
   "execution_count": 4,
   "metadata": {},
   "outputs": [],
   "source": [
    "wm.tetrahedralize(\"ressources/bunny.obj\", \"ressources/bunny.mesh\", mute_log=True)"
   ]
  },
  {
   "cell_type": "code",
   "execution_count": 5,
   "metadata": {},
   "outputs": [],
   "source": [
    "vertices = np.array([[0,0],[1,0], [1,1], [0,1]])\n",
    "edges = np.array([[0,1],[1,2],[2,3],[0,3]])\n",
    "faces = np.array([[0,1,2]])"
   ]
  },
  {
   "cell_type": "code",
   "execution_count": 6,
   "metadata": {},
   "outputs": [
    {
     "data": {
      "application/vnd.jupyter.widget-view+json": {
       "model_id": "9912c36a37694d2a8aab2bc6faf97535",
       "version_major": 2,
       "version_minor": 0
      },
      "text/plain": [
       "Renderer(camera=PerspectiveCamera(children=(DirectionalLight(color='white', intensity=0.6, position=(0.5, 0.5,…"
      ]
     },
     "metadata": {},
     "output_type": "display_data"
    },
    {
     "data": {
      "text/plain": [
       "2"
      ]
     },
     "execution_count": 6,
     "metadata": {},
     "output_type": "execute_result"
    }
   ],
   "source": [
    "p=mp.plot(vertices,faces, return_plot=True)\n",
    "p.add_edges(vertices ,edges, shading={});\n",
    "p.add_points(vertices, shading={\"point_color\": \"red\", \"point_size\": 1})"
   ]
  },
  {
   "cell_type": "code",
   "execution_count": 7,
   "metadata": {},
   "outputs": [
    {
     "ename": "FileNotFoundError",
     "evalue": "[Errno 2] No such file or directory: 'figure[1].svg'",
     "output_type": "error",
     "traceback": [
      "\u001b[0;31m---------------------------------------------------------------------------\u001b[0m",
      "\u001b[0;31mFileNotFoundError\u001b[0m                         Traceback (most recent call last)",
      "\u001b[0;32m<ipython-input-7-b7823b69c913>\u001b[0m in \u001b[0;36m<module>\u001b[0;34m\u001b[0m\n\u001b[0;32m----> 1\u001b[0;31m \u001b[0mvs\u001b[0m\u001b[0;34m,\u001b[0m \u001b[0mtris\u001b[0m\u001b[0;34m,\u001b[0m \u001b[0mnodes\u001b[0m\u001b[0;34m,\u001b[0m \u001b[0mF_nodes\u001b[0m \u001b[0;34m=\u001b[0m \u001b[0mwm\u001b[0m\u001b[0;34m.\u001b[0m\u001b[0mtriangulate_svg\u001b[0m\u001b[0;34m(\u001b[0m\u001b[0;34m\"figure[1].svg\"\u001b[0m\u001b[0;34m,\u001b[0m \u001b[0mcut_outside\u001b[0m\u001b[0;34m=\u001b[0m\u001b[0;32mTrue\u001b[0m\u001b[0;34m)\u001b[0m\u001b[0;34m\u001b[0m\u001b[0;34m\u001b[0m\u001b[0m\n\u001b[0m\u001b[1;32m      2\u001b[0m \u001b[0mp\u001b[0m \u001b[0;34m=\u001b[0m \u001b[0mmp\u001b[0m\u001b[0;34m.\u001b[0m\u001b[0mplot\u001b[0m\u001b[0;34m(\u001b[0m\u001b[0mvs\u001b[0m\u001b[0;34m,\u001b[0m \u001b[0mtris\u001b[0m\u001b[0;34m,\u001b[0m \u001b[0mshading\u001b[0m\u001b[0;34m=\u001b[0m\u001b[0;34m{\u001b[0m\u001b[0;34m\"wireframe\"\u001b[0m\u001b[0;34m:\u001b[0m \u001b[0;32mTrue\u001b[0m\u001b[0;34m}\u001b[0m\u001b[0;34m,\u001b[0m \u001b[0mreturn_plot\u001b[0m\u001b[0;34m=\u001b[0m\u001b[0;32mTrue\u001b[0m\u001b[0;34m)\u001b[0m\u001b[0;34m\u001b[0m\u001b[0;34m\u001b[0m\u001b[0m\n\u001b[1;32m      3\u001b[0m \u001b[0mV\u001b[0m\u001b[0;34m,\u001b[0m\u001b[0mL\u001b[0m \u001b[0;34m=\u001b[0m \u001b[0migl\u001b[0m\u001b[0;34m.\u001b[0m\u001b[0mread_triangle_mesh\u001b[0m\u001b[0;34m(\u001b[0m\u001b[0;34m\"ressources/plane_hole.obj\"\u001b[0m\u001b[0;34m)\u001b[0m \u001b[0;31m#??? how do i get the edges instead of faces\u001b[0m\u001b[0;34m\u001b[0m\u001b[0;34m\u001b[0m\u001b[0m\n",
      "\u001b[0;32m~/anaconda3/envs/joint/lib/python3.7/site-packages/wildmeshing/triangulate_svg.py\u001b[0m in \u001b[0;36mtriangulate_svg\u001b[0;34m(svg_path, stop_quality, max_its, stage, epsilon, feature_epsilon, target_edge_len, edge_length_r, flat_feature_angle, cut_outside, skip_eps, hole_pts, mute_log)\u001b[0m\n\u001b[1;32m     19\u001b[0m         \u001b[0mhole_pts\u001b[0m \u001b[0;34m=\u001b[0m \u001b[0;32mNone\u001b[0m\u001b[0;34m,\u001b[0m\u001b[0;34m\u001b[0m\u001b[0;34m\u001b[0m\u001b[0m\n\u001b[1;32m     20\u001b[0m         mute_log = False):\n\u001b[0;32m---> 21\u001b[0;31m     \u001b[0mvertices\u001b[0m\u001b[0;34m,\u001b[0m \u001b[0mlines\u001b[0m\u001b[0;34m,\u001b[0m \u001b[0mjson\u001b[0m \u001b[0;34m=\u001b[0m \u001b[0mconvert_svg\u001b[0m\u001b[0;34m(\u001b[0m\u001b[0msvg_path\u001b[0m\u001b[0;34m)\u001b[0m\u001b[0;34m\u001b[0m\u001b[0;34m\u001b[0m\u001b[0m\n\u001b[0m\u001b[1;32m     22\u001b[0m \u001b[0;34m\u001b[0m\u001b[0m\n\u001b[1;32m     23\u001b[0m     \u001b[0;32mif\u001b[0m \u001b[0mhole_pts\u001b[0m \u001b[0;32mis\u001b[0m \u001b[0;32mNone\u001b[0m\u001b[0;34m:\u001b[0m\u001b[0;34m\u001b[0m\u001b[0;34m\u001b[0m\u001b[0m\n",
      "\u001b[0;32m~/anaconda3/envs/joint/lib/python3.7/site-packages/wildmeshing/triangulate_svg.py\u001b[0m in \u001b[0;36mconvert_svg\u001b[0;34m(input_svg)\u001b[0m\n\u001b[1;32m    165\u001b[0m \u001b[0;34m\u001b[0m\u001b[0m\n\u001b[1;32m    166\u001b[0m \u001b[0;32mdef\u001b[0m \u001b[0mconvert_svg\u001b[0m\u001b[0;34m(\u001b[0m\u001b[0minput_svg\u001b[0m\u001b[0;34m)\u001b[0m\u001b[0;34m:\u001b[0m\u001b[0;34m\u001b[0m\u001b[0;34m\u001b[0m\u001b[0m\n\u001b[0;32m--> 167\u001b[0;31m     \u001b[0mdoc\u001b[0m \u001b[0;34m=\u001b[0m \u001b[0msvg\u001b[0m\u001b[0;34m.\u001b[0m\u001b[0mDocument\u001b[0m\u001b[0;34m(\u001b[0m\u001b[0minput_svg\u001b[0m\u001b[0;34m)\u001b[0m\u001b[0;34m\u001b[0m\u001b[0;34m\u001b[0m\u001b[0m\n\u001b[0m\u001b[1;32m    168\u001b[0m     \u001b[0mpaths\u001b[0m \u001b[0;34m=\u001b[0m \u001b[0mdoc\u001b[0m\u001b[0;34m.\u001b[0m\u001b[0mflatten_all_paths\u001b[0m\u001b[0;34m(\u001b[0m\u001b[0;34m)\u001b[0m\u001b[0;34m\u001b[0m\u001b[0;34m\u001b[0m\u001b[0m\n\u001b[1;32m    169\u001b[0m \u001b[0;34m\u001b[0m\u001b[0m\n",
      "\u001b[0;32m~/anaconda3/envs/joint/lib/python3.7/site-packages/wildmeshing/parse_svg/svgpathtools/document.py\u001b[0m in \u001b[0;36m__init__\u001b[0;34m(self, filename)\u001b[0m\n\u001b[1;32m    211\u001b[0m         \u001b[0;32mif\u001b[0m \u001b[0mfilename\u001b[0m \u001b[0;32mis\u001b[0m \u001b[0;32mnot\u001b[0m \u001b[0;32mNone\u001b[0m\u001b[0;34m:\u001b[0m\u001b[0;34m\u001b[0m\u001b[0;34m\u001b[0m\u001b[0m\n\u001b[1;32m    212\u001b[0m             \u001b[0;31m# parse svg to ElementTree object\u001b[0m\u001b[0;34m\u001b[0m\u001b[0;34m\u001b[0m\u001b[0;34m\u001b[0m\u001b[0m\n\u001b[0;32m--> 213\u001b[0;31m             \u001b[0mself\u001b[0m\u001b[0;34m.\u001b[0m\u001b[0mtree\u001b[0m \u001b[0;34m=\u001b[0m \u001b[0metree\u001b[0m\u001b[0;34m.\u001b[0m\u001b[0mparse\u001b[0m\u001b[0;34m(\u001b[0m\u001b[0mfilename\u001b[0m\u001b[0;34m)\u001b[0m\u001b[0;34m\u001b[0m\u001b[0;34m\u001b[0m\u001b[0m\n\u001b[0m\u001b[1;32m    214\u001b[0m         \u001b[0;32melse\u001b[0m\u001b[0;34m:\u001b[0m\u001b[0;34m\u001b[0m\u001b[0;34m\u001b[0m\u001b[0m\n\u001b[1;32m    215\u001b[0m             \u001b[0mself\u001b[0m\u001b[0;34m.\u001b[0m\u001b[0mtree\u001b[0m \u001b[0;34m=\u001b[0m \u001b[0metree\u001b[0m\u001b[0;34m.\u001b[0m\u001b[0mElementTree\u001b[0m\u001b[0;34m(\u001b[0m\u001b[0mElement\u001b[0m\u001b[0;34m(\u001b[0m\u001b[0;34m'svg'\u001b[0m\u001b[0;34m)\u001b[0m\u001b[0;34m)\u001b[0m\u001b[0;34m\u001b[0m\u001b[0;34m\u001b[0m\u001b[0m\n",
      "\u001b[0;32m~/anaconda3/envs/joint/lib/python3.7/xml/etree/ElementTree.py\u001b[0m in \u001b[0;36mparse\u001b[0;34m(source, parser)\u001b[0m\n\u001b[1;32m   1195\u001b[0m     \"\"\"\n\u001b[1;32m   1196\u001b[0m     \u001b[0mtree\u001b[0m \u001b[0;34m=\u001b[0m \u001b[0mElementTree\u001b[0m\u001b[0;34m(\u001b[0m\u001b[0;34m)\u001b[0m\u001b[0;34m\u001b[0m\u001b[0;34m\u001b[0m\u001b[0m\n\u001b[0;32m-> 1197\u001b[0;31m     \u001b[0mtree\u001b[0m\u001b[0;34m.\u001b[0m\u001b[0mparse\u001b[0m\u001b[0;34m(\u001b[0m\u001b[0msource\u001b[0m\u001b[0;34m,\u001b[0m \u001b[0mparser\u001b[0m\u001b[0;34m)\u001b[0m\u001b[0;34m\u001b[0m\u001b[0;34m\u001b[0m\u001b[0m\n\u001b[0m\u001b[1;32m   1198\u001b[0m     \u001b[0;32mreturn\u001b[0m \u001b[0mtree\u001b[0m\u001b[0;34m\u001b[0m\u001b[0;34m\u001b[0m\u001b[0m\n\u001b[1;32m   1199\u001b[0m \u001b[0;34m\u001b[0m\u001b[0m\n",
      "\u001b[0;32m~/anaconda3/envs/joint/lib/python3.7/xml/etree/ElementTree.py\u001b[0m in \u001b[0;36mparse\u001b[0;34m(self, source, parser)\u001b[0m\n\u001b[1;32m    585\u001b[0m         \u001b[0mclose_source\u001b[0m \u001b[0;34m=\u001b[0m \u001b[0;32mFalse\u001b[0m\u001b[0;34m\u001b[0m\u001b[0;34m\u001b[0m\u001b[0m\n\u001b[1;32m    586\u001b[0m         \u001b[0;32mif\u001b[0m \u001b[0;32mnot\u001b[0m \u001b[0mhasattr\u001b[0m\u001b[0;34m(\u001b[0m\u001b[0msource\u001b[0m\u001b[0;34m,\u001b[0m \u001b[0;34m\"read\"\u001b[0m\u001b[0;34m)\u001b[0m\u001b[0;34m:\u001b[0m\u001b[0;34m\u001b[0m\u001b[0;34m\u001b[0m\u001b[0m\n\u001b[0;32m--> 587\u001b[0;31m             \u001b[0msource\u001b[0m \u001b[0;34m=\u001b[0m \u001b[0mopen\u001b[0m\u001b[0;34m(\u001b[0m\u001b[0msource\u001b[0m\u001b[0;34m,\u001b[0m \u001b[0;34m\"rb\"\u001b[0m\u001b[0;34m)\u001b[0m\u001b[0;34m\u001b[0m\u001b[0;34m\u001b[0m\u001b[0m\n\u001b[0m\u001b[1;32m    588\u001b[0m             \u001b[0mclose_source\u001b[0m \u001b[0;34m=\u001b[0m \u001b[0;32mTrue\u001b[0m\u001b[0;34m\u001b[0m\u001b[0;34m\u001b[0m\u001b[0m\n\u001b[1;32m    589\u001b[0m         \u001b[0;32mtry\u001b[0m\u001b[0;34m:\u001b[0m\u001b[0;34m\u001b[0m\u001b[0;34m\u001b[0m\u001b[0m\n",
      "\u001b[0;31mFileNotFoundError\u001b[0m: [Errno 2] No such file or directory: 'figure[1].svg'"
     ]
    }
   ],
   "source": [
    "vs, tris, nodes, F_nodes = wm.triangulate_svg(\"figure[1].svg\", cut_outside=True)\n",
    "p = mp.plot(vs, tris, shading={\"wireframe\": True}, return_plot=True)\n",
    "V,L = igl.read_triangle_mesh(\"ressources/plane_hole.obj\") #??? how do i get the edges instead of faces"
   ]
  },
  {
   "cell_type": "code",
   "execution_count": null,
   "metadata": {},
   "outputs": [],
   "source": [
    "p=mp.plot(V, np.zeros((0,3)), return_plot=True)\n",
    "p.add_edges(V, L, shading={}); \n",
    "p.add_points(V, shading={\"point_color\": \"red\", \"point_size\": 0.1})"
   ]
  },
  {
   "cell_type": "code",
   "execution_count": null,
   "metadata": {},
   "outputs": [],
   "source": []
  },
  {
   "cell_type": "code",
   "execution_count": null,
   "metadata": {},
   "outputs": [],
   "source": [
    "import tetgen\n",
    "import pyvista as pv\n",
    "sphere = pv.Sphere()\n",
    "tet = tetgen.TetGen(sphere)\n",
    "tet.tetrahedralize(order=1, mindihedral=3, minratio=1)\n",
    "grid = tet.grid\n",
    "grid.plot(show_edges=True)\n",
    "cells = grid.cells.reshape(-1, 5)[:, 1:]\n",
    "cell_center = grid.points[cells].mean(1)\n",
    "\n",
    "mask = cell_center[:, 2] < 0.2\n",
    "cell_ind = mask.nonzero()[0]\n",
    "subgrid = grid.extract_cells(cell_ind)\n",
    "\n",
    "plotter = pv.Plotter()\n",
    "plotter.add_mesh(subgrid, 'lightgrey', lighting=True, show_edges=True)\n",
    "plotter.add_mesh(sphere, 'r', 'wireframe')\n",
    "plotter.add_legend([[' Input Mesh ', 'r'],\n",
    "                    [' Tesselated Mesh ', 'black']])\n",
    "plotter.show()"
   ]
  },
  {
   "cell_type": "code",
   "execution_count": null,
   "metadata": {},
   "outputs": [],
   "source": []
  },
  {
   "cell_type": "code",
   "execution_count": null,
   "metadata": {},
   "outputs": [],
   "source": []
  },
  {
   "cell_type": "code",
   "execution_count": null,
   "metadata": {},
   "outputs": [],
   "source": []
  }
 ],
 "metadata": {
  "kernelspec": {
   "display_name": "Python 3",
   "language": "python",
   "name": "python3"
  },
  "language_info": {
   "codemirror_mode": {
    "name": "ipython",
    "version": 3
   },
   "file_extension": ".py",
   "mimetype": "text/x-python",
   "name": "python",
   "nbconvert_exporter": "python",
   "pygments_lexer": "ipython3",
   "version": "3.7.3"
  }
 },
 "nbformat": 4,
 "nbformat_minor": 2
}
