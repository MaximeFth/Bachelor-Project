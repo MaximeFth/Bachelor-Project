{
 "cells": [
  {
   "cell_type": "code",
   "execution_count": 1,
   "metadata": {},
   "outputs": [],
   "source": [
    "from __future__ import print_function\n",
    "from shapely.ops import cascaded_union\n",
    "import geopandas as gpd\n",
    "import descartes\n",
    "import shapely.geometry as shy\n",
    "from ipywidgets import interact, interactive, fixed, interact_manual\n",
    "import ipywidgets as widgets\n",
    "from ipywidgets import FloatSlider\n",
    "import numpy as np\n",
    "import cvxpy as cp\n",
    "import matplotlib.pyplot as plt\n",
    "import random\n",
    "import igl\n",
    "import math\n",
    "import tripy\n",
    "import networkx as nx\n",
    "from matplotlib.patches import Circle, Wedge, Polygon\n",
    "from matplotlib.collections import PatchCollection\n",
    "from matplotlib.pyplot import figure\n",
    "colors= np.array(['#85C17E','#E2BC74','#425B8A','#B666D2','#85C17E','#85C17E','#E2BC74','#425B8A','#B666D2','#85C17E' ,'#85C17E','#E2BC74','#425B8A','#B666D2','#85C17E' ,'#85C17E','#E2BC74','#425B8A','#B666D2','#85C17E' ,'#85C17E','#E2BC74','#425B8A','#B666D2','#85C17E' ,'#85C17E','#E2BC74','#425B8A','#B666D2','#85C17E' ,'#85C17E','#E2BC74','#425B8A','#B666D2','#85C17E' ,'#85C17E','#E2BC74','#425B8A','#B666D2','#85C17E' ,'#85C17E','#E2BC74','#425B8A','#B666D2','#85C17E' ,'#85C17E','#E2BC74','#425B8A','#B666D2','#85C17E'   ])\n",
    "import copy\n",
    "from numpy import linalg as LA\n",
    "epsilon=1e-5\n"
   ]
  },
  {
   "cell_type": "markdown",
   "metadata": {},
   "source": [
    "# part triangulation Functions\n",
    "\n",
    "            "
   ]
  },
  {
   "cell_type": "code",
   "execution_count": 2,
   "metadata": {},
   "outputs": [],
   "source": [
    "def triangulate(figure):\n",
    "    result = np.array([tripy.earclip(figure[i]) for i in range(len(figure))])\n",
    "    return result\n",
    "def display_triangulated_shape(triangles):\n",
    "    patches = []\n",
    "    xmax=0\n",
    "    ymax=0\n",
    "    fig = plt.figure(num=None, figsize=(10, 6))\n",
    "    ax = fig.gca()\n",
    "    for i in range(len(triangles)):\n",
    "        polygon = Polygon(triangles[i], fill=True,edgecolor='black',label='figure'+str(i))\n",
    "        ax.add_artist(polygon)\n",
    "    ax.set(xlim=(0, 1000), ylim=(0, 600))\n",
    "    plt.show()\n",
    "    \n"
   ]
  },
  {
   "cell_type": "code",
   "execution_count": null,
   "metadata": {},
   "outputs": [],
   "source": [
    "1) line single direction\n",
    "2 triangulate bounaray match 3\n"
   ]
  },
  {
   "cell_type": "markdown",
   "metadata": {},
   "source": [
    "# parts display function"
   ]
  },
  {
   "cell_type": "code",
   "execution_count": 3,
   "metadata": {},
   "outputs": [],
   "source": [
    "def displayPolygons(figure, v, k=0): \n",
    "    clone = copy.deepcopy(figure)\n",
    "    def update(i=0):\n",
    "        patches = []\n",
    "        xmax=0\n",
    "        ymax=0\n",
    "        xmin =0\n",
    "        ymin=0\n",
    "        k=0\n",
    "        fig2 = plt.figure(num=None, figsize=(10, 6))\n",
    "        ax2 = fig2.gca()\n",
    "        if(v.size>0):\n",
    "            for k in range(len(figure)):\n",
    "                for l in range(len(figure[k])):\n",
    "                    clone[k][l][0]=figure[k][l][0] + i * v[2*k]\n",
    "                    clone[k][l][1]=figure[k][l][1] + i * v[2*k+1]\n",
    "\n",
    "        for i in range(len(figure)):\n",
    "            polygon = Polygon(clone[i], fill=True, facecolor=colors[i],edgecolor='black',label='figure'+str(i))\n",
    "            ax2.add_artist(polygon)\n",
    "            if(xmax<np.max(clone[i][:,0])):\n",
    "                xmax=np.max(clone[i][:,0])\n",
    "            if(ymax<np.max(clone[i][:,1])):\n",
    "                ymax=np.max(clone[i][:,1])\n",
    "            if(xmin>np.min(clone[i][:,0])):\n",
    "                xmin=np.min(clone[i][:,0])\n",
    "            if(ymin>np.min(clone[i][:,1])):\n",
    "                ymin=np.min(clone[i][:,1])\n",
    "        ax2.set(xlim=(xmin, xmax), ylim=(ymin, ymax))\n",
    "            \n",
    "\n",
    "    interact(update,i=FloatSlider(min=0, max=10, step=0.1))\n",
    "def simpleDisplay(figure):\n",
    "    patches = []\n",
    "    xmax=0\n",
    "    ymax=0\n",
    "    xmin =0\n",
    "    ymin=0\n",
    "    k=0\n",
    "    fig2 = plt.figure(num=None, figsize=(10, 6))\n",
    "    ax2 = fig2.gca()\n",
    "    for i in range(len(figure)):\n",
    "        polygon = Polygon(figure[i], fill=True, facecolor=colors[i],edgecolor='black',label='figure'+str(i))\n",
    "        ax2.add_artist(polygon)\n",
    "        if(xmax<np.max(figure[i][:,0])):\n",
    "            xmax=np.max(figure[i][:,0])\n",
    "        if(ymax<np.max(figure[i][:,1])):\n",
    "            ymax=np.max(figure[i][:,1])\n",
    "        if(xmin>np.min(figure[i][:,0])):\n",
    "            xmin=np.min(figure[i][:,0])\n",
    "        if(ymin>np.min(figure[i][:,1])):\n",
    "            ymin=np.min(figure[i][:,1])\n",
    "        ax2.set(xlim=(xmin, xmax), ylim=(ymin, ymax))\n",
    "    plt.show()"
   ]
  },
  {
   "cell_type": "markdown",
   "metadata": {},
   "source": [
    "# normals computing functions"
   ]
  },
  {
   "cell_type": "code",
   "execution_count": 4,
   "metadata": {},
   "outputs": [],
   "source": [
    "def cross(a,b):\n",
    "    return a[0]*b[1]-b[0]*a[1]\n",
    "\n",
    "def is_between(a, b, c): # is point c between point a and b\n",
    "    if(np.allclose(a,c) or np.allclose(b,c)):\n",
    "        return False\n",
    "    cross_product= cross((c-a),(b-a))\n",
    "    if abs(cross_product) > epsilon:\n",
    "        return False\n",
    "    dotproduct = (b-a)@(c-a)\n",
    "    if dotproduct < 0:\n",
    "        return False\n",
    "    squaredlengthba = np.sum(np.square(b-a))\n",
    "    if dotproduct > squaredlengthba:\n",
    "        return False\n",
    "    return True\n",
    "\n",
    "def isTouching(v1,v2, u1,u2):\n",
    "    if((np.allclose(v1,u1) and np.allclose(v2,u2)) or  (np.allclose(v2,u1) and np.allclose(v1,u2))):\n",
    "        return True\n",
    "    return abs(cross(v1-v2, u1-u2)) < epsilon and (is_between(v1,v2,u1) or is_between(v1,v2,u2) or is_between(u1,u2,v1) or is_between(u1,u2,v2))  \n",
    "def compute_normal_edge(v1,v2):\n",
    "    normal = np.array(v2-v1)\n",
    "    normal[0], normal[1] = normal[1], -normal[0]\n",
    "    normal = normal / LA.norm(normal)\n",
    "\n",
    "    return np.around(np.array(normal), decimals = 3)\n",
    "\n",
    "def compute_normals_shape(shape):\n",
    "    normals_of_shape= np.array([compute_normal_edge(shape[i],shape[(i+1)%len(shape)]) for i in range(len(shape))])\n",
    "    return normals_of_shape\n",
    "\n",
    "def compute_normals_2_shapes(shape1, shape2): \n",
    "    result = np.array([compute_normal_edge(shape1[i],shape1[(i+1)%len(shape1)]) for i in range (len(shape1)) for j in range (len(shape2)) if(isTouching(shape1[i],shape1[(i+1)%len(shape1)],shape2[j],shape2[(j+1)%len(shape2)]))])   \n",
    "    return set(tuple(i) for i in result)\n",
    "\n",
    "def compute_normals_dict(figure):\n",
    "    normals_dic = {}\n",
    "    for i in range(len(figure)):\n",
    "        for j in range(len(figure)):\n",
    "            if(i != j):\n",
    "                normals_dic[i,j]= compute_normals_2_shapes(figure[i], figure[j])\n",
    "    return normals_dic"
   ]
  },
  {
   "cell_type": "markdown",
   "metadata": {},
   "source": [
    "# inequation solver functions"
   ]
  },
  {
   "cell_type": "code",
   "execution_count": 5,
   "metadata": {},
   "outputs": [],
   "source": [
    "\n",
    "def construct_A(figure):\n",
    "    normals= compute_normals_dict(figure)\n",
    "    count=0\n",
    "    for x in normals: \n",
    "        count += len(normals[x]) \n",
    "    A = np.zeros((count,  len(figure)*2))\n",
    "    c=0\n",
    "    for x in normals:\n",
    "        for j in range(len(normals[x])):\n",
    "            a= list(normals[x])\n",
    "            A[c][2*list(x)[0]]=-a[j][0]\n",
    "            A[c][2*list(x)[0]+1]=-a[j][1]\n",
    "            A[c][2*list(x)[1]]=a[j][0]\n",
    "            A[c][2*list(x)[1]+1]=a[j][1]\n",
    "\n",
    "            c=c+1\n",
    "    return A\n",
    "\n",
    "def solver(A, i): #fixes all velocities except the i part to 0\n",
    "    x = cp.Variable(len(A[0]))\n",
    "    tij=cp.Variable(len(A))\n",
    "    index=np.arange(len(A[0]))\n",
    "    index= np.delete(index, 2*i)\n",
    "    index= np.delete(index, 2*i)\n",
    "\n",
    "    constraints = [(A*x-tij)>=np.zeros(len(A)), x[index]==0, tij>=0, tij<=1]\n",
    "\n",
    "    objective =  cp.Maximize(cp.sum(tij))\n",
    "    prob = cp.Problem(objective, constraints)\n",
    "    result = prob.solve()\n",
    "    return np.round(tij.value,decimals=3), np.round(x.value,decimals=3)\n",
    "\n",
    "def solver_2(A, i,n, iskey=False,): #fixes only one reference part pr velocity to 0\n",
    "    x = cp.Variable(len(A[0]))\n",
    "    tij=cp.Variable(len(A))    \n",
    "    if(iskey and n>2):\n",
    "        constraints = [(A*x-tij)>=np.zeros(len(A)), x[(i+1)%len(A[0])]==0, x[i]==0, tij>=0, tij<=1]\n",
    "    elif(n<=2):\n",
    "        constraints = [(A*x-tij)>=np.zeros(len(A)),  tij>=0, tij<=1]\n",
    "    else:\n",
    "        constraints = [(A*x-tij)>=np.zeros(len(A)), x[(i+1)%len(A[0])]==0, tij>=0, tij<=1]\n",
    "\n",
    "    objective =  cp.Maximize(cp.sum(tij))\n",
    "    prob = cp.Problem(objective, constraints)\n",
    "    result = prob.solve()\n",
    "    return np.round(tij.value,decimals=3), np.round(x.value,decimals=3)"
   ]
  },
  {
   "cell_type": "markdown",
   "metadata": {},
   "source": [
    "# testing functions"
   ]
  },
  {
   "cell_type": "code",
   "execution_count": 6,
   "metadata": {},
   "outputs": [],
   "source": [
    "def interlocking_test(figure, allVelocitiesFixed = True, key=None):\n",
    "    A=construct_A(figure)\n",
    "    final_v = np.array([])\n",
    "    max_tij = np.zeros(len(A)) \n",
    "    \n",
    "    for i in range(len(figure)):\n",
    "        if(allVelocitiesFixed):\n",
    "            temp_tij, v = solver(A, i)\n",
    "        else:\n",
    "            if(key is not None):\n",
    "                temp_tij, v = solver_2(A, i,len(figure),True)\n",
    "            else:\n",
    "                temp_tij, v = solver_2(A, i,len(figure))\n",
    "\n",
    "        if(np.sum(temp_tij) > np.sum(max_tij)):\n",
    "            max_tij=temp_tij\n",
    "            final_v=v\n",
    "            \n",
    "    return  max_tij, final_v   \n",
    "\n",
    "def movingPieces(v):\n",
    "    movingPieces=[]\n",
    "    for i in range(len(v)//2):\n",
    "        if(v[2*i]>0 or v[2*i+1]> 0):\n",
    "            movingPieces.append(i)\n",
    "    return movingPieces\n",
    "\n",
    "def fullStudy(figure):\n",
    "    tij, v= interlocking_test(figure, False)\n",
    "    if(v.size>0):\n",
    "        if(len(movingPieces(v))>1):\n",
    "            displayPolygons(figure, v)\n",
    "            return \"non interlocking, figure {} are able to move together\".format(movingPieces(v))\n",
    "        else:\n",
    "            print(\"only piece \"+str(movingPieces(v))+\" can move, it's the key\")\n",
    "            displayPolygons(figure,v)\n",
    "            tij, v = interlocking_test(figure, False, movingPieces(v)[0])\n",
    "            if(v.size!=0):\n",
    "                print(\"it is an interlocking assembly ( deadlocking if key is fixed)\")\n",
    "                \n",
    "    else:\n",
    "        displayPolygons(figure,v)\n",
    "        return \"deadlocking\"\n",
    "        "
   ]
  },
  {
   "cell_type": "markdown",
   "metadata": {},
   "source": [
    "# figure 1 test"
   ]
  },
  {
   "cell_type": "code",
   "execution_count": 7,
   "metadata": {},
   "outputs": [
    {
     "name": "stdout",
     "output_type": "stream",
     "text": [
      "only piece [1] can move, it's the key\n"
     ]
    },
    {
     "data": {
      "application/vnd.jupyter.widget-view+json": {
       "model_id": "a64beb65575c4b42a888e9cbb3ca83a1",
       "version_major": 2,
       "version_minor": 0
      },
      "text/plain": [
       "interactive(children=(FloatSlider(value=0.0, description='i', max=10.0), Output()), _dom_classes=('widget-inte…"
      ]
     },
     "metadata": {},
     "output_type": "display_data"
    },
    {
     "name": "stdout",
     "output_type": "stream",
     "text": [
      "it is an interlocking assembly ( deadlocking if key is fixed)\n"
     ]
    }
   ],
   "source": [
    "#figure 1\n",
    "p1 = np.array([[0,0], [400,0], [400,100],[100,100], [100,200], [200,300], [0,300]])\n",
    "p2= np.array([[400,100],[400,300],[200,300],[100,200],[100,100]])\n",
    "figure1= np.array([p1,p2])\n",
    "fullStudy(figure1)"
   ]
  },
  {
   "cell_type": "markdown",
   "metadata": {},
   "source": [
    "# figure 2 test"
   ]
  },
  {
   "cell_type": "code",
   "execution_count": 8,
   "metadata": {},
   "outputs": [
    {
     "name": "stdout",
     "output_type": "stream",
     "text": [
      "only piece [0] can move, it's the key\n"
     ]
    },
    {
     "data": {
      "application/vnd.jupyter.widget-view+json": {
       "model_id": "f764e6c0ef964dabaf4208d9f73be178",
       "version_major": 2,
       "version_minor": 0
      },
      "text/plain": [
       "interactive(children=(FloatSlider(value=0.0, description='i', max=10.0), Output()), _dom_classes=('widget-inte…"
      ]
     },
     "metadata": {},
     "output_type": "display_data"
    },
    {
     "name": "stdout",
     "output_type": "stream",
     "text": [
      "it is an interlocking assembly ( deadlocking if key is fixed)\n"
     ]
    }
   ],
   "source": [
    "#figure 2\n",
    "f1= np.array([[0,600],[0,200],[200,200],[100,100],[300,100],[800,600]])\n",
    "f2= np.array([[0 ,0],[1000,0],[1000 , 600],[800, 600],[700 ,500],[800, 500],[700 ,400],[1000 , 400],[800 ,200],[400, 200],[300 ,100],[100 ,100],[200 ,200],[  0 ,200]])\n",
    "f3= np.array([[400,200],[800,200],[1000,400],[700,400],[600,300],[500,300]])\n",
    "f4= np.array([[500,300],[600,300], [800,500],[700,500]])\n",
    "figure2=np.array([f1,f2,f3,f4])\n",
    "fullStudy(figure2)"
   ]
  },
  {
   "cell_type": "markdown",
   "metadata": {},
   "source": [
    "# Trivial test "
   ]
  },
  {
   "cell_type": "code",
   "execution_count": 9,
   "metadata": {},
   "outputs": [
    {
     "name": "stdout",
     "output_type": "stream",
     "text": [
      "only piece [1] can move, it's the key\n"
     ]
    },
    {
     "data": {
      "application/vnd.jupyter.widget-view+json": {
       "model_id": "cb38f465ec8a4f7f825fd986037edf9f",
       "version_major": 2,
       "version_minor": 0
      },
      "text/plain": [
       "interactive(children=(FloatSlider(value=0.0, description='i', max=10.0), Output()), _dom_classes=('widget-inte…"
      ]
     },
     "metadata": {},
     "output_type": "display_data"
    },
    {
     "name": "stdout",
     "output_type": "stream",
     "text": [
      "it is an interlocking assembly ( deadlocking if key is fixed)\n"
     ]
    }
   ],
   "source": [
    "piece1 = np.array([[0,0],[1,0],[1,1],[0,1]])\n",
    "piece2 = np.array([[1,0],[2,0],[2,1],[1,1]])\n",
    "figureTrivial=np.array([piece1, piece2])\n",
    "fullStudy(figureTrivial)"
   ]
  },
  {
   "cell_type": "markdown",
   "metadata": {},
   "source": [
    "# DeadLocking test"
   ]
  },
  {
   "cell_type": "code",
   "execution_count": 10,
   "metadata": {},
   "outputs": [
    {
     "data": {
      "application/vnd.jupyter.widget-view+json": {
       "model_id": "74247c2820f949d7a2931f5d9c61b537",
       "version_major": 2,
       "version_minor": 0
      },
      "text/plain": [
       "interactive(children=(FloatSlider(value=0.0, description='i', max=10.0), Output()), _dom_classes=('widget-inte…"
      ]
     },
     "metadata": {},
     "output_type": "display_data"
    },
    {
     "data": {
      "text/plain": [
       "'deadlocking'"
      ]
     },
     "execution_count": 10,
     "metadata": {},
     "output_type": "execute_result"
    }
   ],
   "source": [
    "deadLockingPart1 = np.array([[0,0],[300,0],[300,200],[200,200],[200,100],[100,100],[100,400],[200,400],[200,300],[300,300],[300,500],[0,500]])\n",
    "deadLockingPart2 = np.array([[300,0],[400,0],[400,500],[300,500],[300,300],[200,300],[200,400],[100,400],[100,100],[200,100],[200,200],[300,200]])\n",
    "\n",
    "deadLockingFigure=np.array([deadLockingPart1,deadLockingPart2])\n",
    "fullStudy(deadLockingFigure)"
   ]
  },
  {
   "cell_type": "markdown",
   "metadata": {},
   "source": [
    "# triangle test"
   ]
  },
  {
   "cell_type": "code",
   "execution_count": 11,
   "metadata": {},
   "outputs": [],
   "source": [
    "v1, f1 = igl.read_triangle_mesh(\"ressources/3-way-triangle/tri1.obj\")\n",
    "v2, f2 = igl.read_triangle_mesh(\"ressources/3-way-triangle/tri2.obj\")\n",
    "v3, f3 = igl.read_triangle_mesh(\"ressources/3-way-triangle/tri3.obj\")\n",
    "v1=np.flip(np.delete(v1, np.s_[1], 1), 0)\n",
    "v2=np.flip(np.delete(v2, np.s_[1], 1), 0)\n",
    "v3=np.flip(np.delete(v3, np.s_[1], 1), 0)\n",
    "figureTriangle=np.array([v1,v2,v3])\n"
   ]
  },
  {
   "cell_type": "code",
   "execution_count": 12,
   "metadata": {},
   "outputs": [
    {
     "data": {
      "application/vnd.jupyter.widget-view+json": {
       "model_id": "a2dabe6955294fd4889263cfb3916c35",
       "version_major": 2,
       "version_minor": 0
      },
      "text/plain": [
       "interactive(children=(FloatSlider(value=0.0, description='i', max=10.0), Output()), _dom_classes=('widget-inte…"
      ]
     },
     "metadata": {},
     "output_type": "display_data"
    },
    {
     "data": {
      "text/plain": [
       "'non interlocking, figure [1, 2] are able to move together'"
      ]
     },
     "execution_count": 12,
     "metadata": {},
     "output_type": "execute_result"
    }
   ],
   "source": [
    "fullStudy(figureTriangle)"
   ]
  },
  {
   "cell_type": "code",
   "execution_count": null,
   "metadata": {},
   "outputs": [],
   "source": []
  },
  {
   "cell_type": "markdown",
   "metadata": {},
   "source": [
    "# DESIGNING PART"
   ]
  },
  {
   "cell_type": "markdown",
   "metadata": {},
   "source": [
    "# global variables"
   ]
  },
  {
   "cell_type": "code",
   "execution_count": 356,
   "metadata": {},
   "outputs": [],
   "source": [
    "baseGrid = [([shy.Polygon([(i,j),(i+1, j),(i+1,j+1),(i,j+1)]) for i in range(5) for j in range(5)])]\n",
    "baseGridArr = np.array([([(i,j),(i+1, j),(i+1,j+1),(i,j+1)]) for i in range(5) for j in range(5)])\n",
    "li= []\n",
    "numberPieces = 4\n",
    "keyIndexes = []\n",
    "anchorIndexes = []\n",
    "Graph = generateGridGraph(baseGridArr)\n",
    "color_map = []\n",
    "# triangulation of the grid\n",
    "for i in range(len(baseGridArr)):\n",
    "    li.append(tripy.earclip(baseGridArr[i])[0])\n",
    "    li.append(tripy.earclip(baseGridArr[i])[1])\n",
    "li=np.asarray(li)"
   ]
  },
  {
   "cell_type": "markdown",
   "metadata": {},
   "source": [
    "# setup functions"
   ]
  },
  {
   "cell_type": "code",
   "execution_count": null,
   "metadata": {},
   "outputs": [],
   "source": [
    "\n",
    "def isNeighboorsOf(shape1, shape2):\n",
    "    #simpleDisplay(np.array([shape1,shape2]))\n",
    "    for i in range(len(shape1)):\n",
    "        for j in range(len(shape2)):\n",
    "            if(isTouching(shape1[i],shape1[(i+1)%len(shape1)],shape2[j],shape2[(j+1)%len(shape2)])):\n",
    "                return True\n",
    "    return False\n",
    "\n",
    "def generateGridGraph(grid):\n",
    "    G = nx.Graph()\n",
    "    for i in range(len(grid)):\n",
    "        G.add_node(i)\n",
    "    for i in range(len(grid)):\n",
    "        for j in range(len(grid)):\n",
    "            if(i!=j and isNeighboorsOf(grid[i],grid[j])):\n",
    "                G.add_edge(i,j)\n",
    "                G.add_edge(j,i)\n",
    "    return G\n",
    "\n",
    "\n",
    "def display(figure): \n",
    "    patches = []\n",
    "    xmax=0\n",
    "    ymax=0\n",
    "    xmin =0\n",
    "    ymin=0\n",
    "    k=0\n",
    "    fig = plt.figure(num=None, figsize=(10, 10))\n",
    "    ax = fig.gca()\n",
    "    for i in range(len(figure)):\n",
    "        polygon = Polygon(figure[i],edgecolor='black', fill=True)\n",
    "        ax.add_artist(polygon)\n",
    "        if(xmax<np.max(figure[:,0])):\n",
    "            xmax=np.max(figure[:,0])\n",
    "        if(ymax<np.max(figure[:,1])):\n",
    "            ymax=np.max(figure[:,1])\n",
    "        if(xmin>np.min(figure[:,0])):\n",
    "            xmin=np.min(figure[:,0])\n",
    "        if(ymin>np.min(figure[:,1])):\n",
    "            ymin=np.min(figure[:,1])\n",
    "        ax.set(xlim=(xmin, 2*xmax), ylim=(ymin, 2*ymax))\n",
    "\n",
    "    plt.show()\n",
    "\n"
   ]
  },
  {
   "cell_type": "markdown",
   "metadata": {
    "scrolled": false
   },
   "source": [
    "# polygons<->Grid functions"
   ]
  },
  {
   "cell_type": "code",
   "execution_count": 171,
   "metadata": {},
   "outputs": [],
   "source": [
    "def createPieceFromPolygons(Ai):\n",
    "    boundary = gpd.GeoSeries(cascaded_union(Ai))\n",
    "    #boundary.plot(color = 'red')\n",
    "    #plt.show()\n",
    "    return boundary\n",
    "\n",
    "def getCoordFromPolygon(polygon):\n",
    "    d=shy.mapping(polygon)\n",
    "    return (list(d.get('features')[0].get('geometry').get('coordinates')))\n",
    "\n",
    "def getPolygonFromCoord(array):\n",
    "    poly= [shy.Polygon(array[i]) for i in range(len(array))]\n",
    "    return createPieceFromPolygons(poly)\n",
    "\n",
    "def createPieceFromGrid(grid):\n",
    "    grid = getCoordFromPolygon(getPolygonFromCoord(grid))\n",
    "    grid = np.flip(grid, 1)\n",
    "    grid = np.squeeze(grid,axis=0)\n",
    "    return grid"
   ]
  },
  {
   "cell_type": "markdown",
   "metadata": {},
   "source": [
    " # voxel functions"
   ]
  },
  {
   "cell_type": "code",
   "execution_count": 357,
   "metadata": {},
   "outputs": [],
   "source": [
    "\n",
    "def voxelAccessibility(x,j):\n",
    "    global Graph\n",
    "    alpha=0.1\n",
    "    if(j==0):\n",
    "        return len([n for n in Graph.neighbors(x) if n not in keyIndexes and n not in anchorIndexes ])\n",
    "    else:\n",
    "        return voxelAccessibility(x,j-1)+(alpha**j)*sumVA(x,j-1)\n",
    "def sumVA(x,j):\n",
    "    global Graph\n",
    "    s = 0\n",
    "    for  n in Graph.neighbors(x):\n",
    "        s = s+ voxelAccessibility(n,j)\n",
    "    return s\n",
    "\n",
    "def pickSeedVoxel(Ai, v):\n",
    "    seed = []\n",
    "    k=0\n",
    "    seedindex= []\n",
    "    for i in range(len(Ai)):\n",
    "        pk=Ai[i]\n",
    "        pr= np.delete(Ai, i,0)\n",
    "        pr = getCoordFromPolygon(getPolygonFromCoord(pr))\n",
    "        if(len(pr)==1):\n",
    "            \n",
    "            pr=np.flip(pr,1)\n",
    "            pr= np.squeeze(pr, axis=0)\n",
    "            tij, vij =interlocking_test(np.array([pk,pr[1:]]), allVelocitiesFixed = True, key=None)\n",
    "            if(np.allclose(v,vij)):\n",
    "                seedindex.append(i)\n",
    "    selectedSeed=seedindex[random.randint(0,len(seedindex)-1)]\n",
    "    \n",
    "    Rest = [Ai[i] for i in range(len(Ai)) if i != selectedSeed]\n",
    "    return selectedSeed, Ai[selectedSeed], Rest\n",
    "\n",
    " "
   ]
  },
  {
   "cell_type": "code",
   "execution_count": null,
   "metadata": {},
   "outputs": [],
   "source": []
  },
  {
   "cell_type": "markdown",
   "metadata": {},
   "source": [
    "# Blocking/blockee functions"
   ]
  },
  {
   "cell_type": "code",
   "execution_count": 353,
   "metadata": {},
   "outputs": [],
   "source": [
    "keyIndexes = [] # only here for debugging, reinitialize keyIndexes\n",
    "\n",
    "#find the m lowest voxelaccessibilities from the n first bfs found neighboors.\n",
    "def findBlockeeBlocking( Ai, vn, seedIndex,n, m ): \n",
    "    nNeighboorsList = list(nx.bfs_edges(Graph,seedIndex))[:n]\n",
    "    BBList = []\n",
    "    \n",
    "    for i in range(len(nNeighboorsList)):\n",
    "        if(nNeighboorsList[i][0]!=seedIndex and nNeighboorsList[i][1]!=seedIndex ):\n",
    "            if((vn[0], vn[1]) in compute_normals_2_shapes(Ai[nNeighboorsList[i][0]], Ai[nNeighboorsList[i][1]])):\n",
    "                BBList.append((nNeighboorsList[i]))\n",
    "            if((vn[0], vn[1]) in compute_normals_2_shapes(Ai[nNeighboorsList[i][1]], Ai[nNeighboorsList[i][0]])):\n",
    "                BBList.append((nNeighboorsList[i][1],nNeighboorsList[i][0]))\n",
    "    accessibilityList = [voxelAccessibility(BBList[i][0],3) for i in range(len(BBList))]\n",
    "    m= min(m, len(BBList))\n",
    "    idx = np.argsort(accessibilityList)\n",
    "    finalBBList= []\n",
    "    for i in range(m):\n",
    "        \n",
    "        finalBBList.append(BBList[idx[i]])\n",
    "    return finalBBList\n",
    "\n",
    "#find All Shortest Path To Blockee Without Crossing Blocking\n",
    "def sBBPath(BBList,seedIndex, graph):\n",
    "    shortestPaths = []\n",
    "    finalShortestPaths = []\n",
    "\n",
    "    for i in range(len(BBList)):\n",
    "        shortestPaths.append(list(nx.all_shortest_paths(graph, source=seedIndex, target=BBList[i][0])))\n",
    "        finalShortestPaths.append(list(nx.all_shortest_paths(graph, source=seedIndex, target=BBList[i][0])))\n",
    "        for j in range(len(shortestPaths[i])):\n",
    "            if(BBList[i][1] in shortestPaths[i][j]):\n",
    "                finalShortestPaths[i].remove(shortestPaths[i][j])\n",
    "                \n",
    "    return finalShortestPaths\n",
    "\n",
    "def getMinLen(sP):\n",
    "    tempMin = 10000\n",
    "    candidate = None\n",
    "    for i in range(len(sP)):\n",
    "        if(len(sP[i])<tempMin and len(sP[i])>0):\n",
    "            tempMin=len(sP[i])\n",
    "            candidate= sP[i]\n",
    "    return candidate\n"
   ]
  },
  {
   "cell_type": "markdown",
   "metadata": {},
   "source": [
    "# anchor functions"
   ]
  },
  {
   "cell_type": "code",
   "execution_count": 358,
   "metadata": {},
   "outputs": [],
   "source": [
    "def anchorScore(seedArray, blockingArray, vn):\n",
    "    \n",
    "    v = vn[:2]\n",
    "    u = blockingArray[0]-seedArray[0]\n",
    "    normU = np.linalg.norm(u)\n",
    "    normV = np.linalg.norm(v)\n",
    "\n",
    "    u = u / normU\n",
    "    v = v / normV\n",
    "    if(math.acos(np.dot(u,v))> math.pi/2 ):\n",
    "        return 0\n",
    "    return normU -  np.linalg.norm(u-v)\n",
    "    \n",
    "def getAnchorIndex(Ai, BBList, vn, seedIndex,blockingCandidate):\n",
    "    \n",
    "    maxBlockingAnchor = blockingCandidate\n",
    "    score = anchorScore(Ai[seedIndex], Ai[blockingCandidate], vn)\n",
    "    for i in range(len(BBList)):\n",
    "        #print(anchorScore(Ai[seedIndex], Ai[BBList[i][1]], vn), \"score of : \", BBList[i][1])\n",
    "        if(anchorScore(Ai[seedIndex], Ai[BBList[i][1]], vn) > score):\n",
    "            score = anchorScore(Ai[seedIndex], Ai[BBList[i][1]], vn)\n",
    "            maxBlockingAnchor = BBList[i][1]\n",
    "    \n",
    "    return maxBlockingAnchor"
   ]
  },
  {
   "cell_type": "markdown",
   "metadata": {},
   "source": [
    "# key generating functions"
   ]
  },
  {
   "cell_type": "code",
   "execution_count": 436,
   "metadata": {},
   "outputs": [],
   "source": [
    "keyIndexes = []\n",
    "def updateKey(Ai, sp, key):\n",
    "    newKey = [key]\n",
    "    global keyIndexes\n",
    "    for i in range(len(sp[0])-1):\n",
    "        newKey.append(Ai[sp[0][i+1]])\n",
    "        keyIndexes.append(sp[0][i+1])\n",
    "    print(\"key indexes : \", keyIndexes)\n",
    "    Aicut = [Ai[i] for i in range(len(Ai)) if i not in sp[0]]\n",
    "    return Aicut, np.asarray(newKey)\n",
    "\n",
    "\n",
    "\n",
    "def pieceAbove(Ai,b, up):\n",
    "    global keyIndexes\n",
    "    global anchorIndexes\n",
    "    listOfAboveNeigh = []\n",
    "    neighbors = [n for n in Graph.neighbors(b)]\n",
    "    for i in range(len(neighbors)):\n",
    "        if(neighbors[i] not in keyIndexes and neighbors[i] not in anchorIndexes):\n",
    "            for normals in compute_normals_2_shapes(Ai[b],Ai[neighbors[i]]):\n",
    "                if (np.cross(normals, up)==0 and math.acos(np.dot(normals, up)/(np.linalg.norm(up)*np.linalg.norm(normals)))!= math.pi):\n",
    "                    \n",
    "                    listOfAboveNeigh.append(neighbors[i])\n",
    "        if (len(listOfAboveNeigh) == 0):\n",
    "            return []\n",
    "    return listOfAboveNeigh\n",
    "\n",
    "\n",
    "def uiPi(uiList): #uiList is the list of all ui which are lists of voxels\n",
    "    sumI = 0\n",
    "    beta = 2\n",
    "    sumPi = 0\n",
    "    piList = []\n",
    "    length = 0\n",
    "    for i in range(len(uiList)):\n",
    "        sumI=0\n",
    "        if(type(uiList[i])==int):\n",
    "            sumI += voxelAccessibility(uiList[i], 3)    \n",
    "        else:\n",
    "            for j in range(len(uiList[i])):\n",
    "                sumI += voxelAccessibility(uiList[i][j], 3)    \n",
    "        pi = sumI**(-beta)\n",
    "        sumPi += pi\n",
    "        piList.append(pi)\n",
    "    for i in range(len(piList)):\n",
    "        piList[i]= piList[i] / sumPi\n",
    "    return piList \n",
    "    \n",
    "def expandKey(Ai):\n",
    "    \n",
    "    global keyIndexes\n",
    "    UiCandidatesIndices = []\n",
    "    graphContracted = Graph\n",
    "    numberM = len(Ai) // numberPieces\n",
    "    for i in range(len(keyIndexes)):\n",
    "        graphContracted = nx.contracted_nodes(graphContracted, keyIndexes[0], keyIndexes[i])\n",
    "    nx.draw(graphContracted, with_labels=True, font_weight='bold')\n",
    "\n",
    "    neighbors = [n for n in graphContracted.neighbors(keyIndexes[0])]\n",
    "    UiCandidatesList = []\n",
    "    for i in range (len(neighbors)):\n",
    "        templist = pieceAbove(Ai, neighbors[i], [0,1])        \n",
    "        if(len(templist)==0):\n",
    "            UiCandidatesList.append((neighbors[i]))\n",
    "        elif(len(templist)>numberM-len(keyIndexes)): \n",
    "            continue\n",
    "        else:\n",
    "            templist.append(neighbors[i])\n",
    "            UiCandidatesList.append(templist)\n",
    "    UiCandidatesIndices = np.arange(len(UiCandidatesList))                             \n",
    "    print(\"ui cand ilist \" ,UiCandidatesList)\n",
    "    probabilitiesList = uiPi(UiCandidatesList)\n",
    "    randomIndex= np.random.choice(len(UiCandidatesList), len(UiCandidatesList), replace=False , p=probabilitiesList)\n",
    "\n",
    "    while(len(randomIndex) != 0 and len(keyIndexes) < numberM ):\n",
    "        if(type(UiCandidatesList[randomIndex[0]])!=int):\n",
    "            if(len(UiCandidatesList[randomIndex[0]]) + len(keyIndex) >numberM):\n",
    "                randomIndex = randomIndex[1:]\n",
    "            else:\n",
    "                print(\"appending\",randomIndex[0], randomIndex)\n",
    "\n",
    "                keyIndexes.append(UiCandidatesList[randomIndex[0]])\n",
    "                randomIndex = randomIndex[1:]\n",
    "        else:\n",
    "            if(1 + len(keyIndexes) >numberM):\n",
    "                randomIndex = randomIndex[1:]\n",
    "            else:\n",
    "                print(\"appending\",randomIndex[0], randomIndex)\n",
    "                keyIndexes.append(UiCandidatesList[randomIndex[0]])\n",
    "                randomIndex = randomIndex[1:]\n",
    "            \n",
    "    print(\"new key is \" , keyIndexes)\n",
    "\n",
    "    \n",
    "    \n",
    "    return graphContracted\n",
    "\n",
    "   \n",
    "def generateKey(Ai):\n",
    "    v = [0,1, 0,0] #up vector \n",
    "    vn = [1,0,0,0] #normal\n",
    "    global keyIndexes\n",
    "    global anchorIndexes\n",
    "    seedIndex, seed , Aicut = pickSeedVoxel(Ai, v)\n",
    "    keyIndexes.append(seedIndex)\n",
    "    #simpleDisplay(np.array([createPieceFromGrid(Ai), seed]))\n",
    "    BBList = findBlockeeBlocking(Ai,vn, seedIndex, 20, 10)\n",
    "    shortestPaths = sBBPath(BBList, seedIndex,Graph)\n",
    "    shortestPath = getMinLen(shortestPaths)\n",
    "    nearestBlockee = shortestPath[-1][-1]\n",
    "    nearestBlocking = 0\n",
    "    \n",
    "    for i in range(len(BBList)):\n",
    "        if(BBList[0]== nearestBlockee):\n",
    "            nearestBlocking = BBList[1]\n",
    "    anchor = getAnchorIndex(Ai, BBList, vn, seedIndex, nearestBlocking)\n",
    "    anchorIndexes.append(anchor)\n",
    "    print(\"anchor index = \", anchor)\n",
    "    Aicut , key= updateKey(Ai, shortestPath, seed)\n",
    "    simpleDisplay(Aicut)\n",
    "    simpleDisplay(key)\n",
    "    expandKey(Ai)\n",
    "    \n",
    "    return None\n",
    "    #return key, createPieceFromGrid(Ai)\n"
   ]
  },
  {
   "cell_type": "markdown",
   "metadata": {},
   "source": [
    "# tests"
   ]
  },
  {
   "cell_type": "code",
   "execution_count": 438,
   "metadata": {},
   "outputs": [
    {
     "name": "stdout",
     "output_type": "stream",
     "text": [
      "anchor index =  24\n",
      "key indexes :  [9, 14, 19]\n"
     ]
    },
    {
     "data": {
      "image/png": "[encoded data removed]",
      "text/plain": [
       "<Figure size 720x432 with 1 Axes>"
      ]
     },
     "metadata": {
      "needs_background": "light"
     },
     "output_type": "display_data"
    },
    {
     "data": {
      "image/png": "[encoded data removed]",
      "text/plain": [
       "<Figure size 720x432 with 1 Axes>"
      ]
     },
     "metadata": {
      "needs_background": "light"
     },
     "output_type": "display_data"
    },
    {
     "name": "stdout",
     "output_type": "stream",
     "text": [
      "ui cand ilist  [4, 8, 13, 9, 18, 24]\n",
      "appending 0 [0 2 5 3 1 4]\n",
      "appending 2 [2 5 3 1 4]\n",
      "appending 5 [5 3 1 4]\n",
      "new key is  [9, 14, 19, 4, 13, 24]\n"
     ]
    },
    {
     "data": {
      "image/png": "[encoded data removed]",
      "text/plain": [
       "<Figure size 432x288 with 1 Axes>"
      ]
     },
     "metadata": {},
     "output_type": "display_data"
    }
   ],
   "source": [
    "keyIndexes= []\n",
    "generateKey(baseGridArr)"
   ]
  },
  {
   "cell_type": "code",
   "execution_count": 413,
   "metadata": {},
   "outputs": [
    {
     "data": {
      "text/plain": [
       "2.0"
      ]
     },
     "execution_count": 413,
     "metadata": {},
     "output_type": "execute_result"
    }
   ],
   "source": [
    "\n",
    "anchorScore(baseGridArr[14], baseGridArr[24], [1,0,0,0])"
   ]
  },
  {
   "cell_type": "code",
   "execution_count": 433,
   "metadata": {},
   "outputs": [],
   "source": [
    "a = np.arange(8)\n"
   ]
  },
  {
   "cell_type": "code",
   "execution_count": 435,
   "metadata": {},
   "outputs": [
    {
     "data": {
      "text/plain": [
       "array([1, 3, 4, 5, 6, 7])"
      ]
     },
     "execution_count": 435,
     "metadata": {},
     "output_type": "execute_result"
    }
   ],
   "source": [
    "a = np.delete(a,a[0])\n",
    "a"
   ]
  },
  {
   "cell_type": "code",
   "execution_count": null,
   "metadata": {},
   "outputs": [],
   "source": [
    "findBlockeeBlocking( baseGridArr, [0,1,0,0], 14,18, 10 ) "
   ]
  },
  {
   "cell_type": "code",
   "execution_count": 207,
   "metadata": {
    "scrolled": false
   },
   "outputs": [
    {
     "name": "stdout",
     "output_type": "stream",
     "text": [
      "[5, 6, 7, 0, 4, 8]\n"
     ]
    },
    {
     "name": "stderr",
     "output_type": "stream",
     "text": [
      "/Users/Maxime/anaconda3/envs/joint/lib/python3.7/site-packages/networkx/drawing/nx_pylab.py:579: MatplotlibDeprecationWarning: \n",
      "The iterable function was deprecated in Matplotlib 3.1 and will be removed in 3.3. Use np.iterable instead.\n",
      "  if not cb.iterable(width):\n"
     ]
    },
    {
     "data": {
      "image/png": "[encoded data removed]",
      "text/plain": [
       "<Figure size 432x288 with 1 Axes>"
      ]
     },
     "metadata": {},
     "output_type": "display_data"
    }
   ],
   "source": [
    "keyIndexes = [0,1,2,3]\n",
    "nx.draw(expandKey(), with_labels=True, font_weight='bold')\n"
   ]
  },
  {
   "cell_type": "code",
   "execution_count": null,
   "metadata": {},
   "outputs": [],
   "source": [
    "nx.draw(Graph, with_labels=True, font_weight='bold')\n"
   ]
  },
  {
   "cell_type": "code",
   "execution_count": 263,
   "metadata": {},
   "outputs": [
    {
     "data": {
      "text/plain": [
       "3.141592653589793"
      ]
     },
     "execution_count": 263,
     "metadata": {},
     "output_type": "execute_result"
    }
   ],
   "source": [
    "\n",
    "math.acos(np.dot([-2,0], [2,0])/4)"
   ]
  },
  {
   "cell_type": "code",
   "execution_count": null,
   "metadata": {},
   "outputs": [],
   "source": []
  },
  {
   "cell_type": "code",
   "execution_count": null,
   "metadata": {},
   "outputs": [],
   "source": []
  },
  {
   "cell_type": "code",
   "execution_count": null,
   "metadata": {},
   "outputs": [],
   "source": [
    "def createInterlockAssembly(R0,n):\n",
    "    i=0\n",
    "    Ai=R0\n",
    "    while(i<n):\n",
    "        if(i==0):\n",
    "            Aiplusone= generateKey(Ai)\n",
    "            if(Aiplusone is None):\n",
    "                return None\n",
    "        else:\n",
    "            generateParts(Ai)\n",
    "        if(Aiplusone is not None):\n",
    "            RankCandidates(Aiplusone)"
   ]
  },
  {
   "cell_type": "code",
   "execution_count": null,
   "metadata": {},
   "outputs": [],
   "source": []
  }
 ],
 "metadata": {
  "kernelspec": {
   "display_name": "Python 3",
   "language": "python",
   "name": "python3"
  },
  "language_info": {
   "codemirror_mode": {
    "name": "ipython",
    "version": 3
   },
   "file_extension": ".py",
   "mimetype": "text/x-python",
   "name": "python",
   "nbconvert_exporter": "python",
   "pygments_lexer": "ipython3",
   "version": "3.7.3"
  }
 },
 "nbformat": 4,
 "nbformat_minor": 2
}
