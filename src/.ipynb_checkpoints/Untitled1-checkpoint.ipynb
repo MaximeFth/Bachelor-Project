{
 "cells": [
  {
   "cell_type": "code",
   "execution_count": 1,
   "metadata": {},
   "outputs": [
    {
     "data": {
      "text/plain": [
       "<Figure size 800x800 with 1 Axes>"
      ]
     },
     "metadata": {},
     "output_type": "display_data"
    }
   ],
   "source": [
    "from __future__ import print_function\n",
    "import shapely.geometry as shy\n",
    "from ipywidgets import interact, interactive, fixed, interact_manual\n",
    "import ipywidgets as widgets\n",
    "from ipywidgets import FloatSlider\n",
    "import numpy as np\n",
    "import cvxpy as cp\n",
    "from random import randrange, uniform\n",
    "\n",
    "import matplotlib.pyplot as plt\n",
    "import random\n",
    "import igl\n",
    "import math\n",
    "import tripy\n",
    "import networkx as nx\n",
    "from matplotlib.patches import Circle, Wedge, Polygon\n",
    "from matplotlib.collections import PatchCollection\n",
    "from matplotlib.pyplot import figure\n",
    "colors= np.array(['#85C17E','#E2BC74','#425B8A','#B666D2','#9393b3','#85C17E','#E2BC74','#425B8A','#B666D2','#85C17E' ,'#85C17E','#E2BC74','#425B8A','#B666D2','#85C17E' ,'#85C17E','#E2BC74','#425B8A','#B666D2','#85C17E' ,'#85C17E','#E2BC74','#425B8A','#B666D2','#85C17E' ,'#85C17E','#E2BC74','#425B8A','#B666D2','#85C17E' ,'#85C17E','#E2BC74','#425B8A','#B666D2','#85C17E' ,'#85C17E','#E2BC74','#425B8A','#B666D2','#85C17E' ,'#85C17E','#E2BC74','#425B8A','#B666D2','#85C17E' ,'#85C17E','#E2BC74','#425B8A','#B666D2','#85C17E'   ])\n",
    "#colors = np.array(['#FFF8DC', '#FFEBCD','#FFE4C4','#FFDEAD','#F5DEB3','#DEB887','#D2B48C','#BC8F8F','#F4A460','#DAA520','#B8860B','#CD853F','#D2691E','#8B4513','#A52A2A','#800000'])\n",
    "#colors = np.array(['#e6194b', '#3cb44b', '#ffe119', '#4363d8', '#f58231', '#911eb4', '#46f0f0', '#f032e6', '#bcf60c', '#fabebe', '#008080', '#e6beff', '#9a6324', '#fffac8', '#800000', '#aaffc3', '#808000', '#ffd8b1', '#000075', '#808080', '#ffffff', '#000000'])\n",
    "import copy\n",
    "from numpy import linalg as LA\n",
    "epsilon=1e-5\n",
    "from shapely.geometry import Point\n",
    "\n",
    "\n",
    "def simpleDisplay(figure):\n",
    "    patches = []\n",
    "    xmax=0\n",
    "    ymax=0\n",
    "    xmin =0\n",
    "    ymin=0\n",
    "    k=0\n",
    "    fig2 = plt.figure(num=None, figsize=(8, 8))\n",
    "    ax2 = fig2.gca()\n",
    "    for i in range(len(figure)):\n",
    "        polygon = Polygon(figure[i], fill=True, facecolor=colors[i],edgecolor='black',label='figure'+str(i))\n",
    "        ax2.add_artist(polygon)\n",
    "        if(xmax<np.max(figure[i][:,0])):\n",
    "            xmax=np.max(figure[i][:,0])\n",
    "        if(ymax<np.max(figure[i][:,1])):\n",
    "            ymax=np.max(figure[i][:,1])\n",
    "        if(xmin>np.min(figure[i][:,0])):\n",
    "            xmin=np.min(figure[i][:,0])\n",
    "        if(ymin>np.min(figure[i][:,1])):\n",
    "            ymin=np.min(figure[i][:,1])\n",
    "        ax2.set(xlim=(xmin, xmax), ylim=(ymin, ymax))\n",
    "    plt.show()\n",
    "\n",
    "def cross(a,b):\n",
    "    return a[0]*b[1]-b[0]*a[1]\n",
    "\n",
    "def is_between(a, b, c): # is point c between point a and b\n",
    "    if(np.allclose(a,c) or np.allclose(b,c)):\n",
    "        return False\n",
    "    cross_product= cross((c-a),(b-a))\n",
    "    if abs(cross_product) > epsilon:\n",
    "        return False\n",
    "    dotproduct = (b-a)@(c-a)\n",
    "    if dotproduct < 0:\n",
    "        return False\n",
    "    squaredlengthba = np.sum(np.square(b-a))\n",
    "    if dotproduct > squaredlengthba:\n",
    "        return False\n",
    "    return True\n",
    "\n",
    "def isTouching(v1,v2, u1,u2):\n",
    "    if((np.allclose(v1,u1) and np.allclose(v2,u2)) or  (np.allclose(v2,u1) and np.allclose(v1,u2))):\n",
    "        return True\n",
    "    return abs(cross(v1-v2, u1-u2)) < epsilon and (is_between(v1,v2,u1) or is_between(v1,v2,u2) or is_between(u1,u2,v1) or is_between(u1,u2,v2))  \n",
    "def compute_normal_edge(v1,v2,i,j):\n",
    "    normal = np.array(v2-v1)\n",
    "    normal[0], normal[1] = normal[1], -normal[0]\n",
    "    normal = normal / LA.norm(normal)\n",
    "    return np.around(np.array(normal), decimals = 1)\n",
    "\n",
    "def compute_normals_shape(shape):\n",
    "    normals_of_shape= np.array([compute_normal_edge(shape[i],shape[(i+1)%len(shape)]) for i in range(len(shape))])\n",
    "    return normals_of_shape\n",
    "\n",
    "def compute_normals_2_shapes(shape1, shape2): \n",
    "    result = np.array([compute_normal_edge(shape1[i],shape1[(i+1)%len(shape1)],shape2[j],shape2[(j+1)%len(shape2)]) for i in range (len(shape1)) for j in range (len(shape2)) if(isTouching(shape1[i],shape1[(i+1)%len(shape1)],shape2[j],shape2[(j+1)%len(shape2)]))])   \n",
    "    return set(tuple(i) for i in result)\n",
    "\n",
    "def compute_normals_dict(figure):\n",
    "    normals_dic = {}\n",
    "    for i in range(len(figure)):\n",
    "        for j in range(len(figure)):\n",
    "            if(i != j):\n",
    "                normals_dic[i,j]= compute_normals_2_shapes(figure[i], figure[j])\n",
    "    return normals_dic\n",
    "\n",
    "def computeDirections(piece, randomness = False): \n",
    "    normalsDictionnary = compute_normals_dict(piece)\n",
    "    directions = []\n",
    "    r,s=1,1\n",
    "    if(randomness):\n",
    "        r,s = np.random.uniform(0.7, 1.3), np.random.uniform(0.7,1.3)\n",
    "    for i in range(len(piece)):\n",
    "        directionsi = []\n",
    "\n",
    "        for key in normalsDictionnary:\n",
    "            if(key[0]==i and len(normalsDictionnary[key]) > 0) :\n",
    "                directionsi.append(np.array((list(normalsDictionnary[key])[0])))\n",
    "        directions.append(directionsi)\n",
    "\n",
    "    for i in range(len(directions)):\n",
    "        directions[i] = (r *directions[i][0]+ s * directions[i][1])/ np.linalg.norm(r *directions[i][0]+ s * directions[i][1])\n",
    "    return directions\n",
    "\n",
    "\n",
    "baseGridArr =700* np.array([([(i,j),(i+1, j),(i+1,j+1),(i,j+1)]) for i in range(4) for j in range(4)])\n",
    "\n",
    "def isNeighboorsOf(shape1, shape2):\n",
    "    #simpleDisplay(np.array([shape1,shape2]))\n",
    "    for i in range(len(shape1)):\n",
    "        for j in range(len(shape2)):\n",
    "            if(isTouching(shape1[i],shape1[(i+1)%len(shape1)],shape2[j],shape2[(j+1)%len(shape2)])):\n",
    "                return True\n",
    "    return False\n",
    "def isNeighboorsVertical(shape1, shape2):\n",
    "    #simpleDisplay(np.array([shape1,shape2]))\n",
    "    for i in range(len(shape1)):\n",
    "        for j in range(len(shape2)):\n",
    "            if(isTouching(shape1[i],shape1[(i+1)%len(shape1)],shape2[j],shape2[(j+1)%len(shape2)])):\n",
    "                if(shape1[i][0]==shape1[(i+1)%len(shape1)][0]):\n",
    "                    return True\n",
    "    return False\n",
    "def generateGridGraph(grid):\n",
    "    G = nx.Graph()\n",
    "    for i in range(len(grid)):\n",
    "        G.add_node(i)\n",
    "    for i in range(len(grid)):\n",
    "        for j in range(len(grid)):\n",
    "            if(i!=j and isNeighboorsOf(grid[i],grid[j])):\n",
    "                G.add_edge(i,j)\n",
    "                G.add_edge(j,i)\n",
    "    return G\n",
    "\n",
    "\n",
    "graph = generateGridGraph(baseGridArr)\n",
    "\n",
    "\n",
    "def getCycles(graph, grid):\n",
    "    cycles = nx.minimum_cycle_basis(graph)\n",
    "    finalCycles = [cycles[0]]\n",
    "    append = True\n",
    "    for i in range(len(cycles)): \n",
    "        append = True\n",
    "        for j in range(len(finalCycles)):\n",
    "            if (intersection(cycles[i], finalCycles[j])!= []):\n",
    "                append=False        \n",
    "        if(append and cycles[i] not in finalCycles ):\n",
    "            finalCycles.append(cycles[i])\n",
    "    finalCycles= [ rearangeCycle(finalCycles[i], grid)  for i in range(len(finalCycles)) ]\n",
    "    return finalCycles  \n",
    "\n",
    "def rearangeCycle(cycle, grid):\n",
    "    temp = [cycle[0]]\n",
    "    for i in range(len(cycle)):\n",
    "        for j in range(len(cycle)):\n",
    "            if(isNeighboorsOf(grid[temp[i]], grid[cycle[j]])):\n",
    "                if(cycle[j] not in temp):\n",
    "                    temp.append(cycle[j])\n",
    "                    break\n",
    "    return temp\n",
    "    \n",
    "def intersection(lst1, lst2): \n",
    "    return list(set(lst1) & set(lst2)) \n",
    "def intersection2DArray(a1, a2):\n",
    "    temp = []\n",
    "    for i in range(len(a1)):\n",
    "        for j in range(len(a2)):\n",
    "            \n",
    "            if (np.allclose(a1[i],a2[j])):\n",
    "                temp.append(a1[i])\n",
    "    return np.array(temp)\n",
    "def correctPoints(v1):\n",
    "    v1 = np.round(np.flip(v1, 0),decimals=3)\n",
    "    _, idx = np.unique(v1,axis = 0, return_index=True)\n",
    "    return v1[np.sort(idx)]\n",
    "\n",
    "\n",
    "def designJoint2parts(p1,p2,v, width, height, distance_to_center=0.5 ):\n",
    "    p1 = np.asarray(p1)\n",
    "    p2 = np.asarray(p2)\n",
    "    v = v/ np.linalg.norm(v)\n",
    "    nrows, ncols = p1.shape\n",
    "    dtype={'names':['f{}'.format(i) for i in range(ncols)],\n",
    "           'formats':ncols * [p1.dtype]}\n",
    "\n",
    "    commonPoint = intersection2DArray(p1,p2)\n",
    "\n",
    "    JointAxis = np.asarray((commonPoint[1]-commonPoint[0])/np.linalg.norm(commonPoint[1]-commonPoint[0]))\n",
    "\n",
    "    \n",
    "\n",
    "    midPoint = np.asarray((commonPoint[0]+commonPoint[1])*distance_to_center)\n",
    "    alpha = math.acos(np.dot(v,JointAxis)/(np.linalg.norm(v)*np.linalg.norm(JointAxis)))\n",
    "    polyJoint = shy.Polygon([(midPoint+ JointAxis*width), (midPoint + JointAxis*width + height/math.sin(alpha)*v),(midPoint - JointAxis*width + height/math.sin(alpha)*v),(midPoint - JointAxis*width ),(midPoint - JointAxis*width - height/math.sin(alpha)*v),(midPoint + JointAxis*width - height/math.sin(alpha)*v)])\n",
    "    #simpleDisplay(np.array([p1]))\n",
    "    #print(alpha)\n",
    "    #simpleDisplay(np.array(list([polyJoint.exterior.coords])))\n",
    "\n",
    "    p1 = shy.Polygon(p1).difference(polyJoint)\n",
    "    p2 = shy.Polygon(p2).union(polyJoint)\n",
    "    \n",
    "    return correctPoints(list(p1.exterior.coords)), correctPoints(list(p2.exterior.coords))\n",
    "\n",
    "\n",
    "def onePieceJD(piece,directionIndex, randomness=False):\n",
    "    width = 100\n",
    "    height = 100\n",
    "    piece = list(piece)\n",
    "    \n",
    "\n",
    "    directions  = computeDirections(piece, randomness)\n",
    "    for i in range(len(piece)):\n",
    "        #print( designJoint2parts(piece[i],piece[(i+1)%len(piece)],directions[i], width, height, distance_to_center=0.5 ))\n",
    "        piece[i], piece[(i+1)%len(piece)] = designJoint2parts(piece[i],piece[(i+1)%len(piece)],directions[i], width, height, distance_to_center=0.5 )\n",
    "    \n",
    "    return piece    \n",
    "def gridDesign(grid, randomness = False, display = False, width = 100, height = 100):\n",
    "\n",
    "    graph = generateGridGraph(grid)\n",
    "    cycles = getCycles(graph, grid)\n",
    "    groupsOfPieces = []\n",
    "    pieceLeastNeighborsIndex = []\n",
    "    for i in range(len(cycles)):\n",
    "        temp = []\n",
    "        minNei = 0\n",
    "        dij = 100\n",
    "        for j in range(len(cycles[i])):\n",
    "            temp.append(grid[cycles[i][j]])\n",
    "            if(len([n for n in graph.neighbors(cycles[i][j])]) < dij):\n",
    "                minNei = j\n",
    "                dij = len([n for n in graph.neighbors(cycles[i][j])])\n",
    "        groupsOfPieces.append(temp)\n",
    "        pieceLeastNeighborsIndex.append(minNei)\n",
    "    groupsOfPieces = np.array(groupsOfPieces)\n",
    "    cutPieces = []\n",
    "    for i in range(len(groupsOfPieces)):\n",
    "        cutPieces.append(onePieceJD(groupsOfPieces[i],pieceLeastNeighborsIndex[i], randomness))\n",
    "        \n",
    "    asscociatesDirections = np.array([[-1. , 0.],[-1.,  1.], [0., -1.],[1.,  1.] ])\n",
    "       \n",
    "    for i in range(len(cutPieces)):\n",
    "        for j in range(len(cutPieces)):\n",
    "            \n",
    "            \n",
    "            for k in range(len(cutPieces[i])):\n",
    "                for l in range(k,len(cutPieces[j])):\n",
    "                    if(i!= j and k!=l):\n",
    "                        if(isNeighboorsOf(cutPieces[i][k], cutPieces[j][l])):\n",
    "                            cutPieces[i][k], cutPieces[j][l] = designJoint2parts(cutPieces[i][k], cutPieces[j][l], (asscociatesDirections[i] -asscociatesDirections[j]) / np.linalg.norm(asscociatesDirections[i]+asscociatesDirections[j]), width, height )\n",
    "\n",
    "\n",
    "    finalPiece = []                        \n",
    "    for i in range(4):\n",
    "        for j in range(4):\n",
    "            finalPiece.append(cutPieces[i][j])\n",
    "    \n",
    "\n",
    "    fourth = []\n",
    "    for i in range(4):\n",
    "        tempi = shy.Polygon(finalPiece[i*4])\n",
    "        for j in range(3):\n",
    "            tempi = tempi.union(shy.Polygon(finalPiece[i*4 + j +1]))\n",
    "        fourth.append(np.array(list(tempi.exterior.coords)))\n",
    "        \n",
    "    if display:\n",
    "        simpleDisplay(np.array(finalPiece))\n",
    "    return finalPiece\n",
    "\n",
    "if __name__ == \"__main__\":\n",
    "    piece = gridDesign(baseGridArr, randomness = True, display = True)\n",
    "\n"
   ]
  },
  {
   "cell_type": "code",
   "execution_count": 59,
   "metadata": {},
   "outputs": [
    {
     "data": {
      "image/png": "[encoded data removed]",
      "text/plain": [
       "<Figure size 576x576 with 1 Axes>"
      ]
     },
     "metadata": {
      "needs_background": "light"
     },
     "output_type": "display_data"
    }
   ],
   "source": [
    "piece1 = gridDesign(baseGridArr, randomness = True, display = True)\n"
   ]
  },
  {
   "cell_type": "code",
   "execution_count": 89,
   "metadata": {},
   "outputs": [
    {
     "data": {
      "image/png": "[encoded data removed]",
      "text/plain": [
       "<Figure size 576x576 with 1 Axes>"
      ]
     },
     "metadata": {
      "needs_background": "light"
     },
     "output_type": "display_data"
    }
   ],
   "source": [
    "simpleDisplay(test[1:1])"
   ]
  },
  {
   "cell_type": "code",
   "execution_count": 16,
   "metadata": {},
   "outputs": [],
   "source": [
    "\n",
    "    \n",
    "    \n",
    "    \n",
    "    "
   ]
  },
  {
   "cell_type": "code",
   "execution_count": 17,
   "metadata": {},
   "outputs": [],
   "source": [
    "piece = unionByFour(piece)"
   ]
  },
  {
   "cell_type": "code",
   "execution_count": 12,
   "metadata": {},
   "outputs": [],
   "source": [
    "def printArray(piece):\n",
    "    print(\"np.array([\")\n",
    "    for i in range(len(piece)):\n",
    "        print(\"np.array([\")\n",
    "        for j in range(len(piece[i])):\n",
    "            if(j!=len(piece[i])-1):\n",
    "                print(\"[\", piece[i][j][0], \",\", piece[i][j][1],\"],\")\n",
    "            else:\n",
    "                print(\"[\", piece[i][j][0], \",\", piece[i][j][1],\"]\")\n",
    "        print(\"]),\")\n",
    "    print(\"])\")"
   ]
  },
  {
   "cell_type": "code",
   "execution_count": 60,
   "metadata": {
    "scrolled": false
   },
   "outputs": [
    {
     "data": {
      "text/plain": [
       "<matplotlib.patches.Polygon at 0x1183c7ac8>"
      ]
     },
     "execution_count": 60,
     "metadata": {},
     "output_type": "execute_result"
    }
   ],
   "source": [
    "Polygon(piece1[0])"
   ]
  },
  {
   "cell_type": "code",
   "execution_count": 49,
   "metadata": {},
   "outputs": [],
   "source": [
    "import numpy\n",
    "from PIL import Image, ImageDraw\n",
    "\n",
    "# read image as RGB and add alpha (transparency)\n",
    "im = Image.open(\"ressources/moon.jpg\").convert(\"RGBA\")\n",
    "\n",
    "# convert to numpy (for convenience)\n",
    "imArray = numpy.asarray(im)\n",
    "\n",
    "# create mask\n",
    "maskIm = Image.new('L', (imArray.shape[1], imArray.shape[0]), 0)\n",
    "ImageDraw.Draw(maskIm).polygon(polygon, outline=1\n",
    "                               , fill=1)\n",
    "mask = numpy.array(maskIm)\n",
    "\n",
    "# assemble new image (uint8: 0-255)\n",
    "newImArray = numpy.empty(imArray.shape,dtype='uint8')\n",
    "\n",
    "# colors (three first columns, RGB)\n",
    "newImArray[:,:,:3] = imArray[:,:,:3]\n",
    "\n",
    "# transparency (4th column)\n",
    "newImArray[:,:,3] = mask*255\n",
    "\n",
    "# back to Image from numpy\n",
    "newIm = Image.fromarray(newImArray, \"RGBA\")\n",
    "newIm.save(\"out.png\")"
   ]
  },
  {
   "cell_type": "code",
   "execution_count": 85,
   "metadata": {},
   "outputs": [],
   "source": []
  },
  {
   "cell_type": "code",
   "execution_count": 96,
   "metadata": {},
   "outputs": [
    {
     "name": "stdout",
     "output_type": "stream",
     "text": [
      "(600, 800, 4)\n",
      "(600, 800, 4)\n",
      "(600, 800, 4)\n",
      "(600, 800, 4)\n",
      "(600, 800, 4)\n",
      "(600, 800, 4)\n",
      "(600, 800, 4)\n",
      "(600, 800, 4)\n",
      "(600, 800, 4)\n",
      "(600, 800, 4)\n",
      "(600, 800, 4)\n",
      "(600, 800, 4)\n",
      "(600, 800, 4)\n",
      "(600, 800, 4)\n",
      "(600, 800, 4)\n",
      "(600, 800, 4)\n"
     ]
    }
   ],
   "source": [
    "for i in range(16):\n",
    "    im = Image.open(\"ressources/moon.jpg\").convert(\"RGBA\")\n",
    "    \n",
    "    imArray = numpy.asarray(im)\n",
    "    maskIm = Image.new('L', (imArray.shape[1], imArray.shape[0]), 0)\n",
    "    tmp = [(piece1[i][j][0]*800/2800,piece1[i][j][1]*600/2800) for j in range(len(piece1[i])) ]\n",
    "    ImageDraw.Draw(maskIm).polygon(tmp, outline=1, fill=1)\n",
    "    mask = numpy.array(maskIm)\n",
    "\n",
    "    # assemble new image (uint8: 0-255)\n",
    "    newImArray = numpy.empty(imArray.shape,dtype='uint8')\n",
    "\n",
    "    # colors (three first columns, RGB)\n",
    "    newImArray[:,:,:3] = imArray[:,:,:3]\n",
    "\n",
    "    # transparency (4th column)\n",
    "    newImArray[:,:,3] = mask*255\n",
    "\n",
    "    # back to Image from numpy\n",
    "    newIm = Image.fromarray(newImArray, \"RGBA\")\n",
    "    newIm.save(\"images/out\"+str(i)+\".png\")\n",
    "    "
   ]
  },
  {
   "cell_type": "code",
   "execution_count": 91,
   "metadata": {},
   "outputs": [
    {
     "name": "stdout",
     "output_type": "stream",
     "text": [
      "Polygon21((1850, 1400) ...)\n"
     ]
    },
    {
     "data": {
      "text/plain": [
       "[(444, 203), (623, 243), (691, 177), (581, 26), (482, 42)]"
      ]
     },
     "execution_count": 91,
     "metadata": {},
     "output_type": "execute_result"
    }
   ],
   "source": [
    "print(Polygon(piece1[9]))\n",
    "polygon"
   ]
  },
  {
   "cell_type": "code",
   "execution_count": null,
   "metadata": {},
   "outputs": [],
   "source": []
  }
 ],
 "metadata": {
  "kernelspec": {
   "display_name": "Python 3",
   "language": "python",
   "name": "python3"
  },
  "language_info": {
   "codemirror_mode": {
    "name": "ipython",
    "version": 3
   },
   "file_extension": ".py",
   "mimetype": "text/x-python",
   "name": "python",
   "nbconvert_exporter": "python",
   "pygments_lexer": "ipython3",
   "version": "3.7.3"
  }
 },
 "nbformat": 4,
 "nbformat_minor": 2
}
