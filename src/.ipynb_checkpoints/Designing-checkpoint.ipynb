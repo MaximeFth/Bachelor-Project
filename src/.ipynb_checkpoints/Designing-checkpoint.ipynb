{
 "cells": [
  {
   "cell_type": "markdown",
   "metadata": {},
   "source": [
    "# 2D PUZZLE GRID\n",
    "# Designing program \n",
    "## Non linear Joints Bachelor project 2019-2020\n",
    "### Maxime Fellrath, 274858"
   ]
  },
  {
   "cell_type": "code",
   "execution_count": 1,
   "metadata": {},
   "outputs": [],
   "source": [
    "import random\n",
    "import igl\n",
    "import numpy as np\n",
    "import cvxpy as cp\n",
    "import matplotlib.pyplot as plt\n",
    "import networkx as nx\n",
    "import math\n",
    "import tripy\n",
    "import copy\n",
    "import ipywidgets as widgets\n",
    "import shapely.geometry as shy\n",
    "from shapely.geometry import Point\n",
    "from numpy import linalg as LA\n",
    "from ipywidgets import interact, interactive, fixed, interact_manual\n",
    "from ipywidgets import FloatSlider\n",
    "from random import randrange, uniform\n",
    "from scipy.spatial import Delaunay\n",
    "from matplotlib.patches import Circle, Wedge, Polygon\n",
    "from matplotlib.collections import PatchCollection\n",
    "from matplotlib.pyplot import figure\n",
    "colors = np.array(['#FFF8DC', '#FFEBCD','#FFE4C4','#FFDEAD','#F5DEB3','#DEB887','#D2B48C','#BC8F8F','#F4A460','#DAA520','#B8860B','#CD853F','#D2691E','#8B4513','#A52A2A','#800000'])\n",
    "\n",
    "epsilon=1e-5\n"
   ]
  },
  {
   "cell_type": "markdown",
   "metadata": {},
   "source": [
    "# Global variables"
   ]
  },
  {
   "cell_type": "code",
   "execution_count": 2,
   "metadata": {},
   "outputs": [],
   "source": [
    "gridSize = 1000\n"
   ]
  },
  {
   "cell_type": "markdown",
   "metadata": {},
   "source": [
    "# display"
   ]
  },
  {
   "cell_type": "code",
   "execution_count": 251,
   "metadata": {},
   "outputs": [],
   "source": [
    "def simpleDisplay(figure):\n",
    "    patches = []\n",
    "    xmax=30\n",
    "    ymax=30\n",
    "    xmin =-30\n",
    "    ymin=-30\n",
    "    k=0\n",
    "    fig2 = plt.figure(num=None, figsize=(8, 8))\n",
    "    ax2 = fig2.gca()\n",
    "    for i in range(len(figure)):\n",
    "        polygon = Polygon(figure[i], fill=True, facecolor=colors[i],edgecolor='black',label='figure'+str(i))\n",
    "        ax2.add_artist(polygon)\n",
    "\n",
    "        ax2.set(xlim=(xmin, xmax), ylim=(ymin, ymax))\n",
    "    plt.show()\n",
    "    \n",
    "def printArray(piece):\n",
    "    print(\"np.array([\")\n",
    "    for i in range(len(piece)):\n",
    "        print(\"np.array([\")\n",
    "        for j in range(len(piece[i])):\n",
    "            if(j!=len(piece[i])-1):\n",
    "                print(\"[\", piece[i][j][0], \",\", piece[i][j][1],\"],\")\n",
    "            else:\n",
    "                print(\"[\", piece[i][j][0], \",\", piece[i][j][1],\"]\")\n",
    "        print(\"]),\")\n",
    "    print(\"])\")\n"
   ]
  },
  {
   "cell_type": "markdown",
   "metadata": {},
   "source": [
    "# normals"
   ]
  },
  {
   "cell_type": "code",
   "execution_count": 4,
   "metadata": {},
   "outputs": [],
   "source": [
    "def cross(a,b):\n",
    "    return a[0]*b[1]-b[0]*a[1]\n",
    "\n",
    "def is_between(a, b, c): # is point c between point a and b\n",
    "    if(np.allclose(a,c) or np.allclose(b,c)):\n",
    "        return False\n",
    "    cross_product= cross((c-a),(b-a))\n",
    "    if abs(cross_product) > epsilon:\n",
    "        return False\n",
    "    dotproduct = (b-a)@(c-a)\n",
    "    if dotproduct < 0:\n",
    "        return False\n",
    "    squaredlengthba = np.sum(np.square(b-a))\n",
    "    if dotproduct > squaredlengthba:\n",
    "        return False\n",
    "    return True\n",
    "\n",
    "def isTouching(v1,v2, u1,u2):\n",
    "    if((np.allclose(v1,u1) and np.allclose(v2,u2)) or  (np.allclose(v2,u1) and np.allclose(v1,u2))):\n",
    "        return True\n",
    "    return abs(cross(v1-v2, u1-u2)) < epsilon and (is_between(v1,v2,u1) or is_between(v1,v2,u2) or is_between(u1,u2,v1) or is_between(u1,u2,v2))  \n",
    "def compute_normal_edge(v1,v2,i,j):\n",
    "    normal = np.array(v2-v1)\n",
    "    normal[0], normal[1] = normal[1], -normal[0]\n",
    "    normal = normal / LA.norm(normal)\n",
    "    return np.around(np.array(normal), decimals = 1)\n",
    "\n",
    "def compute_normals_shape(shape):\n",
    "    normals_of_shape= np.array([compute_normal_edge(shape[i],shape[(i+1)%len(shape)]) for i in range(len(shape))])\n",
    "    return normals_of_shape\n",
    "\n",
    "def compute_normals_2_shapes(shape1, shape2): \n",
    "    result = np.array([compute_normal_edge(shape1[i],shape1[(i+1)%len(shape1)],shape2[j],shape2[(j+1)%len(shape2)]) for i in range (len(shape1)) for j in range (len(shape2)) if(isTouching(shape1[i],shape1[(i+1)%len(shape1)],shape2[j],shape2[(j+1)%len(shape2)]))])   \n",
    "    return set(tuple(i) for i in result)\n",
    "\n",
    "def compute_normals_dict(figure):\n",
    "    normals_dic = {}\n",
    "    for i in range(len(figure)):\n",
    "        for j in range(len(figure)):\n",
    "            if(i != j):\n",
    "                normals_dic[i,j]= compute_normals_2_shapes(figure[i], figure[j])\n",
    "    return normals_dic\n",
    "\n",
    "def computeDirections(piece, randomness = False ): \n",
    "    normalsDictionnary = compute_normals_dict(piece)\n",
    "    directions = []\n",
    "    r,s=1,1\n",
    "    if(randomness):\n",
    "        r,s = np.random.uniform(0.7, 1.3), np.random.uniform(0.7,1.3)\n",
    "    for i in range(len(piece)):\n",
    "        directionsi = []\n",
    "\n",
    "        for key in normalsDictionnary:\n",
    "            if(key[0]==i and len(normalsDictionnary[key]) > 0) :\n",
    "                directionsi.append(np.array((list(normalsDictionnary[key])[0])))\n",
    "        directions.append(directionsi)\n",
    "\n",
    "    for i in range(len(directions)):\n",
    "        directions[i] = (r *directions[i][0]+ s * directions[i][1])/ np.linalg.norm(r *directions[i][0]+ s * directions[i][1])\n",
    "    return directions"
   ]
  },
  {
   "cell_type": "markdown",
   "metadata": {},
   "source": [
    "# graph"
   ]
  },
  {
   "cell_type": "code",
   "execution_count": 5,
   "metadata": {},
   "outputs": [],
   "source": [
    "baseGridArr =700* np.array([([(i,j),(i+1, j),(i+1,j+1),(i,j+1)]) for i in range(4) for j in range(4)])\n",
    "\n",
    "def isNeighboorsOf(shape1, shape2):\n",
    "    #simpleDisplay(np.array([shape1,shape2]))\n",
    "    for i in range(len(shape1)):\n",
    "        for j in range(len(shape2)):\n",
    "            if(isTouching(shape1[i],shape1[(i+1)%len(shape1)],shape2[j],shape2[(j+1)%len(shape2)])):\n",
    "                return True\n",
    "    return False\n",
    "def isNeighboorsVertical(shape1, shape2):\n",
    "    #simpleDisplay(np.array([shape1,shape2]))\n",
    "    for i in range(len(shape1)):\n",
    "        for j in range(len(shape2)):\n",
    "            if(isTouching(shape1[i],shape1[(i+1)%len(shape1)],shape2[j],shape2[(j+1)%len(shape2)])):\n",
    "                if(shape1[i][0]==shape1[(i+1)%len(shape1)][0]):\n",
    "                    return True\n",
    "    return False\n",
    "def generateGridGraph(grid):\n",
    "    G = nx.Graph()\n",
    "    for i in range(len(grid)):\n",
    "        G.add_node(i)\n",
    "    for i in range(len(grid)):\n",
    "        for j in range(len(grid)):\n",
    "            if(i!=j and isNeighboorsOf(grid[i],grid[j])):\n",
    "                G.add_edge(i,j)\n",
    "                G.add_edge(j,i)\n",
    "   \n",
    "\n",
    "    return G\n",
    "graph = generateGridGraph(baseGridArr)\n"
   ]
  },
  {
   "cell_type": "markdown",
   "metadata": {},
   "source": [
    "# cycle functions"
   ]
  },
  {
   "cell_type": "code",
   "execution_count": 6,
   "metadata": {},
   "outputs": [],
   "source": [
    "def getCycles(graph, grid):\n",
    "    cycles = nx.minimum_cycle_basis(graph)\n",
    "    finalCycles = [cycles[0]]\n",
    "    append = True\n",
    "    for i in range(len(cycles)): \n",
    "        append = True\n",
    "        for j in range(len(finalCycles)):\n",
    "            if (intersection(cycles[i], finalCycles[j])!= []):\n",
    "                append=False        \n",
    "        if(append and cycles[i] not in finalCycles ):\n",
    "            finalCycles.append(cycles[i])\n",
    "    finalCycles= [ rearangeCycle(finalCycles[i], grid)  for i in range(len(finalCycles)) ]\n",
    "    return finalCycles   \n",
    "\n",
    "def rearangeCycle(cycle, grid):\n",
    "    temp = [cycle[0]]\n",
    "    for i in range(len(cycle)):\n",
    "        for j in range(len(cycle)):\n",
    "            if(isNeighboorsOf(grid[temp[i]], grid[cycle[j]])):\n",
    "                if(cycle[j] not in temp):\n",
    "                    temp.append(cycle[j])\n",
    "                    break\n",
    "    return temp\n",
    "    \n",
    "def intersection(lst1, lst2): \n",
    "    return list(set(lst1) & set(lst2)) \n",
    "def intersection2DArray(a1, a2):\n",
    "    temp = []\n",
    "    for i in range(len(a1)):\n",
    "        for j in range(len(a2)):\n",
    "            \n",
    "            if (np.allclose(a1[i],a2[j])):\n",
    "                temp.append(a1[i])\n",
    "    return np.array(temp)\n",
    "def correctPoints(v1):\n",
    "    v1 = np.round(np.flip(v1, 0),decimals=3)\n",
    "    _, idx = np.unique(v1,axis = 0, return_index=True)\n",
    "    return v1[np.sort(idx)]"
   ]
  },
  {
   "cell_type": "markdown",
   "metadata": {},
   "source": [
    "# 2 parts joint design"
   ]
  },
  {
   "cell_type": "code",
   "execution_count": 7,
   "metadata": {},
   "outputs": [],
   "source": [
    "def designJoint2parts(p1,p2,v, width, height, distance_to_center=0.5 ):\n",
    "    p1 = np.asarray(p1)\n",
    "    p2 = np.asarray(p2)\n",
    "    v = v/ np.linalg.norm(v)\n",
    "    nrows, ncols = p1.shape\n",
    "    dtype={'names':['f{}'.format(i) for i in range(ncols)],\n",
    "           'formats':ncols * [p1.dtype]}\n",
    "    commonPoint = intersection2DArray(p1,p2)\n",
    "    \n",
    "    JointAxis = np.asarray((commonPoint[1]-commonPoint[0])/np.linalg.norm(commonPoint[1]-commonPoint[0]))\n",
    "    midPoint = np.asarray((commonPoint[0]+commonPoint[1])*distance_to_center)\n",
    "    alpha = math.acos(np.dot(v,JointAxis)/(np.linalg.norm(v)*np.linalg.norm(JointAxis)))\n",
    "    polyJoint = shy.Polygon([(midPoint+ JointAxis*width), (midPoint + JointAxis*width + height/math.sin(alpha)*v),(midPoint - JointAxis*width + height/math.sin(alpha)*v),(midPoint - JointAxis*width ),(midPoint - JointAxis*width - height/math.sin(alpha)*v),(midPoint + JointAxis*width - height/math.sin(alpha)*v)])\n",
    "    try: \n",
    "        p1 = shy.Polygon(p1).difference(polyJoint)\n",
    "        p2 = shy.Polygon(p2).union(polyJoint)\n",
    "    except:\n",
    "        print(\"messed up piece: \")\n",
    "        simpleDisplay(np.array([p1]))\n",
    "        print(\"messed up joint: \")\n",
    "        simpleDisplay(np.array(list([polyJoint.exterior.coords])))\n",
    "    return correctPoints(list(p1.exterior.coords)), correctPoints(list(p2.exterior.coords))"
   ]
  },
  {
   "cell_type": "code",
   "execution_count": 8,
   "metadata": {},
   "outputs": [],
   "source": [
    "def reorderCutPiece(cutPiece):\n",
    "    temp = []\n",
    "    global gridSize\n",
    "    order = np.array([[0,0], [gridSize*4,0], [gridSize*4,gridSize*4], [0, gridSize*4]])\n",
    "    for l in range(len(order)):\n",
    "        for i in range(len(cutPiece)):\n",
    "            for j in range(len(cutPiece[i])):\n",
    "                for k in range(len(cutPiece[i][j])):\n",
    "                    if(np.all(np.equal(order[l], np.asarray(cutPiece[i][j][k])))):\n",
    "                        temp.append(cutPiece[i])\n",
    "    \n",
    "    return temp"
   ]
  },
  {
   "cell_type": "markdown",
   "metadata": {},
   "source": [
    "# One piece joint design"
   ]
  },
  {
   "cell_type": "code",
   "execution_count": 9,
   "metadata": {},
   "outputs": [],
   "source": [
    "#Design all joints for one piece\n",
    "def onePieceJD(piece,directionIndex, width, height, randomness=False):\n",
    "    piece = list(piece)\n",
    "    directions  = computeDirections(piece, randomness)\n",
    "    for i in range(len(piece)):\n",
    "         piece[i], piece[(i+1)%len(piece)] = designJoint2parts(piece[i],piece[(i+1)%len(piece)],directions[i], width, height, distance_to_center=0.5 )\n",
    "    return piece    \n"
   ]
  },
  {
   "cell_type": "code",
   "execution_count": 10,
   "metadata": {},
   "outputs": [],
   "source": [
    "def neighboorsNumber(cutPieces):\n",
    "    n = np.zeros((4,4))\n",
    "    for i in range(len(cutPieces)):\n",
    "        for j in range(len(cutPieces)):\n",
    "            for k in range(len(cutPieces[i])):\n",
    "                for l in range(len(cutPieces[j])):\n",
    "                    if(not (k==l and i==j)):\n",
    "                         if(isNeighboorsOf(cutPieces[i][k], cutPieces[j][l])):\n",
    "                                n[i][k] += 1\n",
    "    \n",
    "    return n"
   ]
  },
  {
   "cell_type": "code",
   "execution_count": 11,
   "metadata": {},
   "outputs": [],
   "source": [
    "#Design the joints between all groups of 4 pieces\n",
    "def designBoundaryJoints(cutpiece, width, height):\n",
    "    nn = neighboorsNumber(cutpiece)\n",
    "    cutPieces = cutpiece.copy()\n",
    "    for i in range(len(cutPieces)):\n",
    "        for j in range(len(cutPieces)):\n",
    "            for k in range(len(cutPieces[i])):\n",
    "                for l in range(k,len(cutPieces[j])):\n",
    "                    if(i!= j and k!=l):\n",
    "                        if(isNeighboorsOf(cutPieces[i][k], cutPieces[j][l]) ):\n",
    "                            cutPieces[i][k], cutPieces[j][l] = designJoint2parts(cutPieces[i][k], cutPieces[j][l], (asscociatesDirections[i] -asscociatesDirections[j]) / np.linalg.norm(asscociatesDirections[i]+asscociatesDirections[j]), width, height )\n",
    "    return cutPieces"
   ]
  },
  {
   "cell_type": "markdown",
   "metadata": {},
   "source": [
    "# Main grid design"
   ]
  },
  {
   "cell_type": "code",
   "execution_count": 12,
   "metadata": {},
   "outputs": [],
   "source": [
    "#Main function, designs all joints for a given 4 by 4 grid.\n",
    "def gridDesign(grid,associatesDirections,  width=10, height=10,randomness = False ):\n",
    "    graph = generateGridGraph(grid)\n",
    "    cycles = getCycles(graph, grid)\n",
    "    groupsOfPieces = []\n",
    "    pieceLeastNeighborsIndex = []\n",
    "    for i in range(len(cycles)):\n",
    "        temp = []\n",
    "        minNei = 0\n",
    "        dij = 100\n",
    "        for j in range(len(cycles[i])):\n",
    "            temp.append(grid[cycles[i][j]])\n",
    "            if(len([n for n in graph.neighbors(cycles[i][j])]) < dij):\n",
    "                minNei = j\n",
    "                dij = len([n for n in graph.neighbors(cycles[i][j])])\n",
    "        groupsOfPieces.append(temp)\n",
    "        pieceLeastNeighborsIndex.append(minNei)\n",
    "    groupsOfPieces = np.array(groupsOfPieces)\n",
    "    cutPieces = []\n",
    "    for i in range(len(groupsOfPieces)):\n",
    "        cutPieces.append(onePieceJD(groupsOfPieces[i],pieceLeastNeighborsIndex[i], width, height, randomness))\n",
    "    cutPieces = reorderCutPiece(cutPieces)  \n",
    "    designBoundaryJoints(cutPieces, width, height)\n",
    "    finalPiece = []                        \n",
    "    for i in range(4):\n",
    "        for j in range(4):\n",
    "            finalPiece.append(cutPieces[i][j])\n",
    "    fourth = []\n",
    "    for i in range(4):\n",
    "        tempi = shy.Polygon(finalPiece[i*4])\n",
    "        for j in range(3):\n",
    "            tempi = tempi.union(shy.Polygon(finalPiece[i*4 + j +1]))\n",
    "        fourth.append(np.array(list(tempi.exterior.coords)))\n",
    "    simpleDisplay(np.array(finalPiece))\n",
    "    return finalPiece\n"
   ]
  },
  {
   "cell_type": "markdown",
   "metadata": {},
   "source": [
    "# random 16-square"
   ]
  },
  {
   "cell_type": "code",
   "execution_count": 19,
   "metadata": {},
   "outputs": [],
   "source": [
    "#Random grid generating function\n",
    "def createRandomGrid(seed, display = True):\n",
    "    global gridSize\n",
    "    d = 350\n",
    "    grid = []\n",
    "    np.random.seed(seed)\n",
    "    p1 = [np.random.randint(gridSize-d, gridSize+d), np.random.randint(gridSize-d, gridSize+d)]\n",
    "    np.random.seed(seed+1)\n",
    "    p2 = [np.random.randint(2*gridSize-d, 2*gridSize+d), np.random.randint(gridSize-d, gridSize+d)]\n",
    "    np.random.seed(seed+2)\n",
    "    p3 = [np.random.randint(3*gridSize-d, 3*gridSize+d), np.random.randint(gridSize-d, gridSize+d)]\n",
    "    np.random.seed(seed+3)\n",
    "    p4 = [np.random.randint(3*gridSize-d, 3*gridSize+d), np.random.randint(2*gridSize-d, 2*gridSize+d)]\n",
    "    np.random.seed(seed+4)\n",
    "    p5 = [np.random.randint(2*gridSize-d, 2*gridSize+d), np.random.randint(2*gridSize-d, 2*gridSize+d)]\n",
    "    np.random.seed(seed+5)\n",
    "    p6 = [np.random.randint(gridSize-d, gridSize+d), np.random.randint(2*gridSize-d, 2*gridSize+d)]\n",
    "    np.random.seed(seed+6)\n",
    "    p7 = [np.random.randint(gridSize-d, gridSize+d), np.random.randint(3*gridSize-d, 3*gridSize+d)]\n",
    "    np.random.seed(seed+7)\n",
    "    p8 = [np.random.randint(2*gridSize-d, 2*gridSize+d), np.random.randint(3*gridSize-d, 3*gridSize+d)]\n",
    "    np.random.seed(seed+8)\n",
    "    p9 = [np.random.randint(3*gridSize-d, 3*gridSize+d), np.random.randint(3*gridSize-d, 3*gridSize+d)]\n",
    "    \n",
    "    \n",
    "    grid.append([[0,0], [gridSize,0], p1, [0,gridSize]])\n",
    "    grid.append([[gridSize,0], [2*gridSize,0], p2, p1])\n",
    "    grid.append([[2*gridSize,0], [3*gridSize,0], p3, p2])\n",
    "    grid.append([[3*gridSize,0], [4*gridSize,0], [4*gridSize,gridSize], p3])\n",
    "    \n",
    "    grid.append([[4*gridSize,gridSize], [4*gridSize,2*gridSize], p4, p3])\n",
    "    grid.append([p2,p3,p4,p5])\n",
    "    grid.append([p1,p2,p5,p6])\n",
    "    grid.append([p1,p6,[0,2*gridSize], [0,gridSize]])\n",
    "    \n",
    "    grid.append([p6,p7, [0,3*gridSize],[0,2*gridSize]])\n",
    "    grid.append([p5,p8,p7,p6])\n",
    "    grid.append([p5,p4,p9,p8])\n",
    "    grid.append([p4,[4*gridSize,2*gridSize], [4*gridSize,3*gridSize], p9])\n",
    "    \n",
    "    grid.append([[0,3*gridSize], p7,[gridSize,4*gridSize],[0,4*gridSize]])\n",
    "    grid.append([p7,p8,[2*gridSize,4*gridSize],[gridSize,4*gridSize]])\n",
    "    grid.append([p8,p9,[3*gridSize,4*gridSize],[2*gridSize,4*gridSize]])\n",
    "    grid.append([p9,[4*gridSize, 3*gridSize],[4*gridSize,4*gridSize],[3*gridSize,4*gridSize]])\n",
    "    if(display):\n",
    "        simpleDisplay(np.array(grid))\n",
    "    \n",
    "    return correctPoints(grid)"
   ]
  },
  {
   "cell_type": "code",
   "execution_count": 47,
   "metadata": {},
   "outputs": [
    {
     "data": {
      "image/png": "[encoded data removed]",
      "text/plain": [
       "<Figure size 576x576 with 1 Axes>"
      ]
     },
     "metadata": {
      "needs_background": "light"
     },
     "output_type": "display_data"
    }
   ],
   "source": [
    "randomGrid= createRandomGrid(2777) #79 and 97 are interesting seeds// 97\n",
    "#76953\n",
    "\n",
    "asscociatesDirections = np.array([[0. , -1.],[1.,  0.], [0., 1.],[-1.,  0.] ])\n",
    "\n",
    "\n"
   ]
  },
  {
   "cell_type": "code",
   "execution_count": 21,
   "metadata": {},
   "outputs": [],
   "source": [
    "np.save(\"numpyPieces/randomgrid\", piece2)"
   ]
  },
  {
   "cell_type": "code",
   "execution_count": 22,
   "metadata": {},
   "outputs": [
    {
     "data": {
      "text/plain": [
       "array([], dtype=float64)"
      ]
     },
     "execution_count": 22,
     "metadata": {},
     "output_type": "execute_result"
    }
   ],
   "source": [
    "intersection2DArray(np.array([[0,3]]), np.array([[1,0],[0,1]]))"
   ]
  },
  {
   "cell_type": "markdown",
   "metadata": {},
   "source": [
    "# N-Gon try\n"
   ]
  },
  {
   "cell_type": "code",
   "execution_count": 23,
   "metadata": {},
   "outputs": [],
   "source": [
    "def findNormal(shape1, shape2):\n",
    "    temp  = intersection2DArray(shape1, shape2)\n",
    "\n",
    "    print(temp)\n",
    "    temp = temp[0]-temp[1]\n",
    "    print(temp)\n",
    "    normal = np.array([-temp[1], temp[0]])\n",
    "    return normal"
   ]
  },
  {
   "cell_type": "code",
   "execution_count": 30,
   "metadata": {},
   "outputs": [],
   "source": [
    "def removeCenter(shape):\n",
    "    temp = []\n",
    "    for i in range(len(shape)):\n",
    "        if(not np.allclose(shape[i], np.array([0,0]))):\n",
    "            temp.append(shape[i])\n",
    "    return np.asarray(temp)"
   ]
  },
  {
   "cell_type": "code",
   "execution_count": 29,
   "metadata": {},
   "outputs": [],
   "source": [
    "def fusion(figure1, figure2):\n",
    "    unionF2 = figure2[0]\n",
    "    unionF2 = shy.Polygon(unionF2)\n",
    "              \n",
    "    for j in range(len(figure2)-1):\n",
    "        unionF2 = unionF2.union(shy.Polygon(figure2[j+1]))\n",
    "        \n",
    "    for i in range(len(figure1)):\n",
    "        try:\n",
    "            figure1[i] = shy.Polygon(figure1[i]).difference(unionF2)\n",
    "        except:\n",
    "            print(i*len(figure2) + j)\n",
    "            \n",
    "    for i in range(len(figure1)):\n",
    "        figure1[i] = np.array(figure1[i].exterior.coords)\n",
    "        figure1[i] = removeCenter(figure1[i])\n",
    "        \n",
    "    temp = []\n",
    "    for i in range(len(figure1)):\n",
    "        temp.append(figure1[i])\n",
    "    for i in range(len(figure2)):\n",
    "        temp.append(figure2[i])\n",
    "        \n",
    "    simpleDisplay(np.array(temp))\n",
    "    \n",
    "    return np.array(temp)"
   ]
  },
  {
   "cell_type": "code",
   "execution_count": 51,
   "metadata": {},
   "outputs": [],
   "source": [
    "def designNGon(n, r, width=0.4, height=0.4, space = 0.5):\n",
    "    angle = 2*math.pi/n\n",
    "    points = []\n",
    "    points.append([r*math.sin(angle/2), -r*math.cos(angle/2)])\n",
    "    points.append([-r*math.sin(angle/2), -r*math.cos(angle/2)])\n",
    "    \n",
    "    rotationMatrix = np.array([[math.cos(angle), math.sin(angle)], [-math.sin(angle), math.cos(angle)]])\n",
    "    piece = []\n",
    "    piece.append(np.array([points[0], points[1], [0,0]]))\n",
    "    for i in range(n-1):\n",
    "        points.append(rotationMatrix@ points[i+1])\n",
    "        tempPiece = np.array([[0,0],points[i+1],points[i+2]])\n",
    "        piece.append(tempPiece)\n",
    "    for i in range(len(piece)):\n",
    "        piece[i] = correctPoints(piece[i])\n",
    "    for i in range(len(piece)):\n",
    "        normal =findNormal(piece[i], piece[(i+1)%len(piece)])\n",
    "        \n",
    "        piece[i], piece[(i+1)%len(piece)] = designJoint2parts( piece[i], piece[(i+1)%len(piece)],normal, width, height, distance_to_center=space )\n",
    "    simpleDisplay(piece)\n",
    "\n",
    "    return piece\n",
    "\n",
    "        "
   ]
  },
  {
   "cell_type": "code",
   "execution_count": 102,
   "metadata": {},
   "outputs": [],
   "source": [
    "def NGonPrint(n, r):\n",
    "    angle = 2*math.pi/n\n",
    "    points = []\n",
    "    points.append([r*math.sin(angle/2), -r*math.cos(angle/2)])\n",
    "    points.append([-r*math.sin(angle/2), -r*math.cos(angle/2)])\n",
    "    rotationMatrix = np.array([[math.cos(angle), math.sin(angle)], [-math.sin(angle), math.cos(angle)]])\n",
    "\n",
    "\n",
    "    for i in range(n-1):\n",
    "        \n",
    "\n",
    "        points.append(rotationMatrix@ points[i+1])\n",
    "    simpleDisplay(np.array([points]))\n",
    "    return np.round(np.asarray(points))\n",
    "    "
   ]
  },
  {
   "cell_type": "code",
   "execution_count": 103,
   "metadata": {},
   "outputs": [
    {
     "data": {
      "image/png": "[encoded data removed]",
      "text/plain": [
       "<Figure size 576x576 with 1 Axes>"
      ]
     },
     "metadata": {
      "needs_background": "light"
     },
     "output_type": "display_data"
    },
    {
     "name": "stdout",
     "output_type": "stream",
     "text": [
      "[[  5. -10.]\n",
      " [ -5. -10.]\n",
      " [-11.  -0.]\n",
      " [ -6.  10.]\n",
      " [  5.  10.]\n",
      " [ 11.   0.]\n",
      " [  6. -10.]]\n"
     ]
    }
   ],
   "source": [
    "hexa = NGonPrint(6,11)\n",
    "print(hexa)"
   ]
  },
  {
   "cell_type": "code",
   "execution_count": null,
   "metadata": {},
   "outputs": [],
   "source": []
  },
  {
   "cell_type": "code",
   "execution_count": null,
   "metadata": {},
   "outputs": [],
   "source": []
  },
  {
   "cell_type": "code",
   "execution_count": null,
   "metadata": {},
   "outputs": [],
   "source": []
  },
  {
   "cell_type": "code",
   "execution_count": 32,
   "metadata": {},
   "outputs": [
    {
     "data": {
      "image/png": "[encoded data removed]",
      "text/plain": [
       "<Figure size 576x576 with 1 Axes>"
      ]
     },
     "metadata": {
      "needs_background": "light"
     },
     "output_type": "display_data"
    }
   ],
   "source": [
    "v1, f1 = igl.read_triangle_mesh(\"ressources/3-way-triangle/tri1.obj\")\n",
    "v2, f2 = igl.read_triangle_mesh(\"ressources/3-way-triangle/tri2.obj\")\n",
    "v3, f3 = igl.read_triangle_mesh(\"ressources/3-way-triangle/tri3.obj\")\n",
    "v1=np.flip(np.delete(v1, np.s_[1], 1), 0)\n",
    "v2=np.flip(np.delete(v2, np.s_[1], 1), 0)\n",
    "v3=np.flip(np.delete(v3, np.s_[1], 1), 0)\n",
    "figureTriangle=np.array([v1,v2,v3])\n",
    "simpleDisplay(figureTriangle)"
   ]
  },
  {
   "cell_type": "code",
   "execution_count": 34,
   "metadata": {},
   "outputs": [
    {
     "data": {
      "image/png": "[encoded data removed]",
      "text/plain": [
       "<Figure size 576x576 with 1 Axes>"
      ]
     },
     "metadata": {
      "needs_background": "light"
     },
     "output_type": "display_data"
    }
   ],
   "source": [
    "f =fusion(heptagon, pentagon)\n"
   ]
  },
  {
   "cell_type": "code",
   "execution_count": 261,
   "metadata": {},
   "outputs": [
    {
     "data": {
      "image/png": "[encoded data removed]",
      "text/plain": [
       "<Figure size 576x576 with 1 Axes>"
      ]
     },
     "metadata": {
      "needs_background": "light"
     },
     "output_type": "display_data"
    },
    {
     "name": "stdout",
     "output_type": "stream",
     "text": [
      "[[-3. -5.]\n",
      " [ 3. -5.]\n",
      " [ 6.  0.]\n",
      " [ 3.  5.]\n",
      " [-3.  5.]\n",
      " [-6. -0.]\n",
      " [-3. -5.]\n",
      " [ 3. -5.]]\n",
      "[list([array([-3., -5.]), [-1.0, -5.0], [0.5, -1.0], [-1.8, -0.0], array([-4.5, -2.5])])\n",
      " list([[-1.0, -5.0], array([ 3., -5.]), array([ 4.5, -2.5]), array([ 2.  , -2.75]), [0.5, -1.0]])\n",
      " list([array([ 2.  , -2.75]), array([ 4.5, -2.5]), array([6., 0.]), array([3., 5.])])\n",
      " list([[0.5, -1.0], array([ 2.  , -2.75]), array([3., 5.]), array([-0.5,  5. ]), [0.0, 1.5], [-1.8, -0.0]])\n",
      " list([[-1.8, -0.0], [0.0, 1.5], array([-0.5,  5. ]), array([-3.,  5.]), array([-3.9,  3.5])])\n",
      " list([[-1.8, -0.0], array([-3.9,  3.5]), array([-6., -0.]), array([-4.5, -2.5])])]\n"
     ]
    }
   ],
   "source": [
    "h = NGonPrint(6,6)\n",
    "h = h[::-1]\n",
    "h = np.insert(h,0,h[-2],axis = 0) \n",
    "print(h)\n",
    "cand1 = np.array([[h[0] , \n",
    "                  [2+h[0][0],h[0][1]],\n",
    "                  [3.5+h[0][0],h[2][1]-1],\n",
    "                  [h[0][0]+1.2, h[5][1]] ,\n",
    "                  (h[5]+h[0])/2 ],\n",
    "                  \n",
    "                  \n",
    "                 [[2+h[0][0],h[0][1]], \n",
    "                  h[1],\n",
    "                  (h[1]+h[2])/2,\n",
    "                  ((h[1]+h[2])/2+[(3.5+h[0][0]),h[2][1]-1])/2 -[0.5, 1],\n",
    "                  [(3.5+h[0][0]),h[2][1]-1] ],\n",
    "                  \n",
    "                  [\n",
    "                 ((h[1]+h[2])/2+[(3.5+h[0][0]),h[2][1]-1])/2 -[0.5, 1],\n",
    "                 (h[1]+h[2])/2,\n",
    "                 h[2],\n",
    "                 h[3]\n",
    "                  ],\n",
    "                \n",
    "                  \n",
    "                  [[(3.5+h[0][0]),h[2][1]-1],\n",
    "                   ((h[1]+h[2])/2+[(3.5+h[0][0]),h[2][1]-1])/2 -[0.5, 1],\n",
    "                   h[3],\n",
    "                   (h[3]+h[4])/2-[0.5, 0],\n",
    "                   [h[0][0]+3, h[5][1]+1.5] ,\n",
    "                   [h[0][0]+1.2, h[5][1]]\n",
    "                  ],\n",
    "                  [[h[0][0]+1.2, h[5][1]],\n",
    "                   [h[0][0]+3, h[5][1]+1.5],\n",
    "                   (h[3]+h[4])/2-[0.5, 0],\n",
    "                   h[4],\n",
    "                   (h[5]+h[4])/2 + 0.2*(h[4]-h[5])\n",
    "                   \n",
    "                  ],\n",
    "                  \n",
    "                 [\n",
    "                    [h[0][0]+1.2, h[5][1]],\n",
    "                   (h[5]+h[4])/2+ 0.2*(h[4]-h[5]),\n",
    "                   h[5],\n",
    "                   (h[5]+h[0])/2 \n",
    "                  ]\n",
    "                 \n",
    "                 \n",
    "                 \n",
    "                 \n",
    "                 ])\n",
    "         \n",
    "print(cand1)              \n",
    "for i in range(len(cand1)):\n",
    "    \n",
    "    cand1[i] = correctPoints(cand1[i])            \n",
    "cand1 = cand1*5              "
   ]
  },
  {
   "cell_type": "code",
   "execution_count": 262,
   "metadata": {},
   "outputs": [],
   "source": [
    "cand1[1], cand1[0] = designJoint2parts(cand1[1], cand1[0], [1,0],2,2 )\n",
    "cand1[1], cand1[2] = designJoint2parts(cand1[1], cand1[2], [0,1],2,2 )\n",
    "\n",
    "\n",
    "np.save(\"hexagone.npy\",cand1,  allow_pickle = True)"
   ]
  },
  {
   "cell_type": "code",
   "execution_count": 263,
   "metadata": {},
   "outputs": [
    {
     "data": {
      "image/png": "[encoded data removed]",
      "text/plain": [
       "<Figure size 576x576 with 1 Axes>"
      ]
     },
     "metadata": {
      "needs_background": "light"
     },
     "output_type": "display_data"
    }
   ],
   "source": [
    "simpleDisplay(cand1)\n"
   ]
  },
  {
   "cell_type": "code",
   "execution_count": 54,
   "metadata": {},
   "outputs": [
    {
     "name": "stdout",
     "output_type": "stream",
     "text": [
      "[[[20 20]\n",
      "  [24 24]]]\n"
     ]
    }
   ],
   "source": []
  },
  {
   "cell_type": "code",
   "execution_count": null,
   "metadata": {},
   "outputs": [],
   "source": []
  }
 ],
 "metadata": {
  "kernelspec": {
   "display_name": "Python 3",
   "language": "python",
   "name": "python3"
  },
  "language_info": {
   "codemirror_mode": {
    "name": "ipython",
    "version": 3
   },
   "file_extension": ".py",
   "mimetype": "text/x-python",
   "name": "python",
   "nbconvert_exporter": "python",
   "pygments_lexer": "ipython3",
   "version": "3.7.3"
  }
 },
 "nbformat": 4,
 "nbformat_minor": 2
}
