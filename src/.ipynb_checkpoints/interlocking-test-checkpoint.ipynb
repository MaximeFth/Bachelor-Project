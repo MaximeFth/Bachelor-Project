{
 "cells": [
  {
   "cell_type": "code",
   "execution_count": 16,
   "metadata": {},
   "outputs": [],
   "source": [
    "import numpy as np\n",
    "import wildmeshing as wm\n",
    "import polyfempy as pf\n",
    "import cvxpy \n",
    "import igl\n",
    "import meshplot as mp\n",
    "import networkx as nx\n",
    "import matplotlib.pyplot as plt\n",
    "import svgwrite\n",
    "\n"
   ]
  },
  {
   "cell_type": "code",
   "execution_count": 15,
   "metadata": {},
   "outputs": [
    {
     "data": {
      "application/vnd.jupyter.widget-view+json": {
       "model_id": "31352a4b38cb4f25a4d31f3a4a663084",
       "version_major": 2,
       "version_minor": 0
      },
      "text/plain": [
       "Renderer(camera=PerspectiveCamera(children=(DirectionalLight(color='white', intensity=0.6, position=(0.5, 0.5,…"
      ]
     },
     "metadata": {},
     "output_type": "display_data"
    }
   ],
   "source": [
    "vertices_example_piece = np.array([[0,0],[1/2,0],[1,0],[1,1],[1/2,1],[1/2,3/4],[3/4,3/4],[3/4,1/2],[1/2,1/2],[0,1]])\n",
    "faces_example_piece = np.array([[0,1,8,7,6,5,4,9],[1,8,7,6,5,4,3,2]])\n",
    "p = mp.plot(vertices_example_piece, faces_example_piece, shading={\"wireframe\": True}, return_plot=True)\n",
    "p.add_points(vertices_example_piece[9], shading={\"point_color\": \"red\", \"point_size\": 0.1});"
   ]
  },
  {
   "cell_type": "code",
   "execution_count": 25,
   "metadata": {},
   "outputs": [],
   "source": [
    "dwg = svgwrite.Drawing('testa.svg')\n",
    "dwg.add(dwg.line((0, 0), (20, 0),fill='red', stroke=svgwrite.rgb(109, 100, 165, '%')))\n",
    "dwg.add(dwg.text('Testa', insert=(100, 40.2), fill='red'))\n",
    "dwg.save()"
   ]
  },
  {
   "cell_type": "code",
   "execution_count": null,
   "metadata": {},
   "outputs": [],
   "source": []
  }
 ],
 "metadata": {
  "kernelspec": {
   "display_name": "Python 3",
   "language": "python",
   "name": "python3"
  },
  "language_info": {
   "codemirror_mode": {
    "name": "ipython",
    "version": 3
   },
   "file_extension": ".py",
   "mimetype": "text/x-python",
   "name": "python",
   "nbconvert_exporter": "python",
   "pygments_lexer": "ipython3",
   "version": "3.7.3"
  }
 },
 "nbformat": 4,
 "nbformat_minor": 2
}
