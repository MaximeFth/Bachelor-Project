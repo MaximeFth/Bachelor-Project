{
 "cells": [
  {
   "cell_type": "code",
   "execution_count": 1,
   "metadata": {},
   "outputs": [],
   "source": [
    "from __future__ import print_function\n",
    "from shapely.ops import cascaded_union\n",
    "import geopandas as gpd\n",
    "import descartes\n",
    "import shapely.geometry as shy\n",
    "from ipywidgets import interact, interactive, fixed, interact_manual\n",
    "import ipywidgets as widgets\n",
    "from ipywidgets import FloatSlider\n",
    "import numpy as np\n",
    "import cvxpy as cp\n",
    "import matplotlib.pyplot as plt\n",
    "import random\n",
    "import igl\n",
    "import math\n",
    "import tripy\n",
    "import networkx as nx\n",
    "from matplotlib.patches import Circle, Wedge, Polygon\n",
    "from matplotlib.collections import PatchCollection\n",
    "from matplotlib.pyplot import figure\n",
    "colors= np.array(['#85C17E','#E2BC74','#425B8A','#B666D2','#9393b3','#85C17E','#E2BC74','#425B8A','#B666D2','#85C17E' ,'#85C17E','#E2BC74','#425B8A','#B666D2','#85C17E' ,'#85C17E','#E2BC74','#425B8A','#B666D2','#85C17E' ,'#85C17E','#E2BC74','#425B8A','#B666D2','#85C17E' ,'#85C17E','#E2BC74','#425B8A','#B666D2','#85C17E' ,'#85C17E','#E2BC74','#425B8A','#B666D2','#85C17E' ,'#85C17E','#E2BC74','#425B8A','#B666D2','#85C17E' ,'#85C17E','#E2BC74','#425B8A','#B666D2','#85C17E' ,'#85C17E','#E2BC74','#425B8A','#B666D2','#85C17E'   ])\n",
    "#colors = np.array(['#FFF8DC', '#FFEBCD','#FFE4C4','#FFDEAD','#F5DEB3','#DEB887','#D2B48C','#BC8F8F','#F4A460','#DAA520','#B8860B','#CD853F','#D2691E','#8B4513','#A52A2A','#800000'])\n",
    "#colors = np.array(['#e6194b', '#3cb44b', '#ffe119', '#4363d8', '#f58231', '#911eb4', '#46f0f0', '#f032e6', '#bcf60c', '#fabebe', '#008080', '#e6beff', '#9a6324', '#fffac8', '#800000', '#aaffc3', '#808000', '#ffd8b1', '#000075', '#808080', '#ffffff', '#000000'])\n",
    "import copy\n",
    "from numpy import linalg as LA\n",
    "epsilon=1e-5\n",
    "from shapely.geometry import Point, MultiPoint"
   ]
  },
  {
   "cell_type": "markdown",
   "metadata": {},
   "source": [
    "# parts display function"
   ]
  },
  {
   "cell_type": "code",
   "execution_count": 61,
   "metadata": {},
   "outputs": [],
   "source": [
    "def displayTriangleStable(figure, v, k=0): \n",
    "    clone = copy.deepcopy(figure)\n",
    "    def update(i=0):\n",
    "        patches = []\n",
    "        xmax=20\n",
    "        ymax=5\n",
    "        xmin = 0\n",
    "        ymin= -20\n",
    "        k=0\n",
    "        fig2 = plt.figure(num=None, figsize=(8, 8))\n",
    "        ax2 = fig2.gca()\n",
    "        if(v.size>0):\n",
    "            for k in range(len(figure)):\n",
    "                for l in range(len(figure[k])):\n",
    "                    clone[k][l][0]=figure[k][l][0] + i * v[2*k] \n",
    "                    clone[k][l][1]=figure[k][l][1] + i * v[2*k+1]\n",
    "\n",
    "        for i in range(len(figure)):\n",
    "            polygon = Polygon(clone[i], fill=True, facecolor=colors[i],edgecolor='black',label='figure'+str(i))\n",
    "            ax2.add_artist(polygon)\n",
    "\n",
    "        ax2.set(xlim=(xmin, xmax), ylim=(ymin, ymax))\n",
    "            \n",
    "\n",
    "    interact(update,i=FloatSlider(min=0, max=1000, step=10))\n",
    "\"\"\"def displayPolygonsStable(figure, v, k=0): \n",
    "    clone = copy.deepcopy(figure)\n",
    "    def update(i=0):\n",
    "        patches = []\n",
    "        xmax=25\n",
    "        ymax=7\n",
    "        xmin = -5\n",
    "        ymin=-25\n",
    "        k=0\n",
    "        fig2 = plt.figure(num=None, figsize=(8, 8))\n",
    "        ax2 = fig2.gca()\n",
    "        if(v.size>0):\n",
    "            for k in range(len(figure)):\n",
    "                for l in range(len(figure[k])):\n",
    "                    clone[k][l][0]=figure[k][l][0] + i * v[2*k] \n",
    "                    clone[k][l][1]=figure[k][l][1] + i * v[2*k+1]\n",
    "\n",
    "        for i in range(len(figure)):\n",
    "            polygon = Polygon(clone[i], fill=True, facecolor=colors[i],edgecolor='black',label='figure'+str(i))\n",
    "            ax2.add_artist(polygon)\n",
    "\n",
    "        ax2.set(xlim=(xmin, xmax), ylim=(ymin, ymax))\n",
    "            \n",
    "\n",
    "    interact(update,i=FloatSlider(min=0, max=10, step=1))\n",
    "    \"\"\"\n",
    "def displayPolygonsStable(figure, v, k=0): \n",
    "    clone = copy.deepcopy(figure)\n",
    "    def update(i=0):\n",
    "        patches = []\n",
    "        xmax=3000\n",
    "        ymax=3000\n",
    "        xmin = -100\n",
    "        ymin=-100\n",
    "        k=0\n",
    "        fig2 = plt.figure(num=None, figsize=(10, 10))\n",
    "        ax2 = fig2.gca()\n",
    "        if(v.size>0):\n",
    "            for k in range(len(figure)):\n",
    "                for l in range(len(figure[k])):\n",
    "                    clone[k][l][0]=figure[k][l][0] + i * v[2*k] \n",
    "                    clone[k][l][1]=figure[k][l][1] + i * v[2*k+1]\n",
    "\n",
    "        for i in range(len(figure)):\n",
    "            polygon = Polygon(clone[i], fill=True, facecolor=colors[i],edgecolor='black',label='figure'+str(i))\n",
    "            ax2.add_artist(polygon)\n",
    "\n",
    "        ax2.set(xlim=(xmin, xmax), ylim=(ymin, ymax))\n",
    "            \n",
    "\n",
    "    interact(update,i=FloatSlider(min=0, max=1000, step=10))\n",
    "def displayPolygons(figure, v, k=0): \n",
    "    clone = copy.deepcopy(figure)\n",
    "    def update(i=0):\n",
    "        patches = []\n",
    "        xmax=0\n",
    "        ymax=0\n",
    "        xmin =0\n",
    "        ymin=0\n",
    "        k=0\n",
    "        fig2 = plt.figure(num=None, figsize=(8, 8))\n",
    "        ax2 = fig2.gca()\n",
    "        if(v.size>0):\n",
    "            for k in range(len(figure)):\n",
    "                for l in range(len(figure[k])):\n",
    "                    clone[k][l][0]=figure[k][l][0] + i * v[2*k] \n",
    "                    clone[k][l][1]=figure[k][l][1] + i * v[2*k+1]\n",
    "\n",
    "        for i in range(len(figure)):\n",
    "            polygon = Polygon(clone[i], fill=True, facecolor=colors[i],edgecolor='black',label='figure'+str(i))\n",
    "            ax2.add_artist(polygon)\n",
    "            if(xmax<np.max(clone[i][:,0])):\n",
    "                xmax=np.max(clone[i][:,0])\n",
    "            if(ymax<np.max(clone[i][:,1])):\n",
    "                ymax=np.max(clone[i][:,1])\n",
    "            if(xmin>np.min(clone[i][:,0])):\n",
    "                xmin=np.min(clone[i][:,0])\n",
    "            if(ymin>np.min(clone[i][:,1])):\n",
    "                ymin=np.min(clone[i][:,1])\n",
    "        ax2.set(xlim=(xmin, xmax), ylim=(ymin, ymax))\n",
    "            \n",
    "\n",
    "    interact(update,i=FloatSlider(min=0, max=10, step=0.1))\n",
    "def simpleDisplay(figure):\n",
    "    patches = []\n",
    "    xmax=0\n",
    "    ymax=0\n",
    "    xmin =0\n",
    "    ymin=0\n",
    "    k=0\n",
    "    fig2 = plt.figure(num=None, figsize=(8, 8))\n",
    "    ax2 = fig2.gca()\n",
    "    for i in range(len(figure)):\n",
    "        polygon = Polygon(figure[i], fill=True, facecolor=colors[i],edgecolor='black',label='figure'+str(i))\n",
    "        ax2.add_artist(polygon)\n",
    "        if(xmax<np.max(figure[i][:,0])):\n",
    "            xmax=np.max(figure[i][:,0])\n",
    "        if(ymax<np.max(figure[i][:,1])):\n",
    "            ymax=np.max(figure[i][:,1])\n",
    "        if(xmin>np.min(figure[i][:,0])):\n",
    "            xmin=np.min(figure[i][:,0])\n",
    "        if(ymin>np.min(figure[i][:,1])):\n",
    "            ymin=np.min(figure[i][:,1])\n",
    "        ax2.set(xlim=(xmin, xmax), ylim=(ymin, ymax))\n",
    "    plt.show()"
   ]
  },
  {
   "cell_type": "markdown",
   "metadata": {},
   "source": [
    "# normals computing functions"
   ]
  },
  {
   "cell_type": "code",
   "execution_count": 3,
   "metadata": {},
   "outputs": [],
   "source": [
    "def cross(a,b):\n",
    "    return a[0]*b[1]-b[0]*a[1]\n",
    "\n",
    "def is_between(a, b, c): # is point c between point a and b\n",
    "    if(np.allclose(a,c) or np.allclose(b,c)):\n",
    "        return False\n",
    "    cross_product= cross((c-a),(b-a))\n",
    "    if abs(cross_product) > epsilon:\n",
    "        return False\n",
    "    dotproduct = (b-a)@(c-a)\n",
    "    if dotproduct < 0:\n",
    "        return False\n",
    "    squaredlengthba = np.sum(np.square(b-a))\n",
    "    if dotproduct > squaredlengthba:\n",
    "        return False\n",
    "    return True\n",
    "\n",
    "def isTouching(v1,v2, u1,u2):\n",
    "    if((np.allclose(v1,u1) and np.allclose(v2,u2)) or  (np.allclose(v2,u1) and np.allclose(v1,u2))):\n",
    "        return True\n",
    "    return abs(cross(v1-v2, u1-u2)) < epsilon and (is_between(v1,v2,u1) or is_between(v1,v2,u2) or is_between(u1,u2,v1) or is_between(u1,u2,v2))  \n",
    "def compute_normal_edge(v1,v2,i,j):\n",
    "    normal = np.array(v2-v1)\n",
    "    normal[0], normal[1] = normal[1], -normal[0]\n",
    "    normal = normal / LA.norm(normal)\n",
    "    return np.around(np.array(normal), decimals = 1)\n",
    "\n",
    "def compute_normals_shape(shape):\n",
    "    normals_of_shape= np.array([compute_normal_edge(shape[i],shape[(i+1)%len(shape)]) for i in range(len(shape))])\n",
    "    return normals_of_shape\n",
    "\n",
    "def compute_normals_2_shapes(shape1, shape2): \n",
    "    result = np.array([compute_normal_edge(shape1[i],shape1[(i+1)%len(shape1)],shape2[j],shape2[(j+1)%len(shape2)]) for i in range (len(shape1)) for j in range (len(shape2)) if(isTouching(shape1[i],shape1[(i+1)%len(shape1)],shape2[j],shape2[(j+1)%len(shape2)]))])   \n",
    "    return set(tuple(i) for i in result)\n",
    "\n",
    "def compute_normals_dict(figure):\n",
    "    normals_dic = {}\n",
    "    for i in range(len(figure)):\n",
    "        for j in range(len(figure)):\n",
    "            if(i != j):\n",
    "                normals_dic[i,j]= compute_normals_2_shapes(figure[i], figure[j])\n",
    "    return normals_dic"
   ]
  },
  {
   "cell_type": "markdown",
   "metadata": {},
   "source": [
    "# inequation solver functions"
   ]
  },
  {
   "cell_type": "code",
   "execution_count": 46,
   "metadata": {},
   "outputs": [],
   "source": [
    "\n",
    "def construct_A(figure):\n",
    "    normals= compute_normals_dict(figure)\n",
    "    count=0\n",
    "    for x in normals: \n",
    "        count += len(normals[x]) \n",
    "    A = np.zeros((count,  len(figure)*2))\n",
    "    c=0\n",
    "    for x in normals:\n",
    "        for j in range(len(normals[x])):\n",
    "            a= list(normals[x])\n",
    "            A[c][2*list(x)[0]]=-a[j][0]\n",
    "            A[c][2*list(x)[0]+1]=-a[j][1]\n",
    "            A[c][2*list(x)[1]]=a[j][0]\n",
    "            A[c][2*list(x)[1]+1]=a[j][1]\n",
    "\n",
    "            c=c+1\n",
    "    return np.unique(A, axis=0)\n",
    "\n",
    "def solver(A, i): #fixes all velocities except the i part to 0\n",
    "    x = cp.Variable(len(A[0]))\n",
    "    tij=cp.Variable(len(A))\n",
    "    index=np.arange(len(A[0]))\n",
    "    index= np.delete(index, 2*i)\n",
    "    index= np.delete(index, 2*i)\n",
    "\n",
    "    constraints = [(A*x-tij)>=np.zeros(len(A)), x[index]==0, tij>=0, tij<=1]\n",
    "\n",
    "    objective =  cp.Maximize(cp.sum(tij))\n",
    "    prob = cp.Problem(objective, constraints)\n",
    "    result = prob.solve()\n",
    "    return np.round(tij.value,decimals=3), np.round(x.value,decimals=3)\n",
    "\n",
    "def solver_2(A, i,n, iskey=False,): #fixes only one reference part pr velocity to 0\n",
    "    x = cp.Variable(len(A[0]))\n",
    "    tij=cp.Variable(len(A))    \n",
    "    if(iskey and n>2):\n",
    "        constraints = [(A*x-tij)>=np.zeros(len(A)), x[(i+1)%len(A[0])]==0, x[i]==0, tij>=0, tij<=1]\n",
    "    elif(n<=2):\n",
    "        constraints = [(A*x-tij)>=np.zeros(len(A)),  tij>=0, tij<=1]\n",
    "    else:\n",
    "        constraints = [(A*x-tij)>=np.zeros(len(A)), x[(i+1)%len(A[0])]==0, tij>=0, tij<=1]\n",
    "\n",
    "    objective =  cp.Maximize(cp.sum(tij))\n",
    "    prob = cp.Problem(objective, constraints)\n",
    "    result = prob.solve()\n",
    "    return np.round(tij.value,decimals=3), np.round(x.value,decimals=3)\n",
    "\n",
    "def solverMultipleMoving(A):\n",
    "    x = cp.Variable(len(A[0]))\n",
    "    tij=cp.Variable(len(A))    \n",
    "    \n",
    "    constraints = [(A*x-tij)>=np.zeros(len(A)), tij>=0, tij<=1]\n",
    "    objective =  cp.Maximize(cp.sum(tij))\n",
    "    prob = cp.Problem(objective, constraints)\n",
    "    result = prob.solve()\n",
    "    return np.round(tij.value,decimals=3), np.round(x.value,decimals=3)"
   ]
  },
  {
   "cell_type": "markdown",
   "metadata": {},
   "source": [
    "# testing functions"
   ]
  },
  {
   "cell_type": "code",
   "execution_count": 5,
   "metadata": {},
   "outputs": [],
   "source": [
    "def interlocking_test(figure, allVelocitiesFixed = True, key=None):\n",
    "    A=construct_A(figure)\n",
    "    final_v = np.array([])\n",
    "    max_tij = np.zeros(len(A)) \n",
    "    \n",
    "    for i in range(len(figure)):\n",
    "        if(allVelocitiesFixed):\n",
    "            temp_tij, v = solver(A, i)\n",
    "        else:\n",
    "            if(key is not None):\n",
    "                temp_tij, v = solver_2(A, i,len(figure),True)\n",
    "            else:\n",
    "                temp_tij, v = solver_2(A, i,len(figure))\n",
    "\n",
    "        if(np.sum(temp_tij) > np.sum(max_tij)):\n",
    "            max_tij=temp_tij\n",
    "            final_v=v\n",
    "            \n",
    "    return  max_tij, final_v   \n",
    "def interlocking_test_moving(figure):\n",
    "    A=construct_A(figure)\n",
    "    final_v = np.array([])\n",
    "    max_tij = np.zeros(len(A)) \n",
    "    temp_tij, v = solverMultipleMoving(A)\n",
    "    if(np.sum(temp_tij) > np.sum(max_tij)):\n",
    "        max_tij=temp_tij\n",
    "        final_v=v\n",
    "\n",
    "    return  max_tij, final_v   \n",
    "def movingPieces(v):\n",
    "    movingPieces=[]\n",
    "    for i in range(len(v)//2):\n",
    "        if(v[2*i]>0 or v[2*i+1]> 0):\n",
    "            movingPieces.append(i)\n",
    "    return movingPieces\n",
    "\n",
    "def fullStudy(figure, display = 0):\n",
    "    if(display == 0):\n",
    "        tij, v= interlocking_test(figure, True)\n",
    "        print(v)\n",
    "        if(v.size>0):\n",
    "            if(len(movingPieces(v))>1):\n",
    "                displayPolygons(figure, v)\n",
    "                return \"non interlocking, figure {} are able to move together\".format(movingPieces(v))\n",
    "            else:\n",
    "                print(\"only piece \"+str(movingPieces(v))+\" can move, it's the key\")\n",
    "                displayPolygons(figure,v)\n",
    "                if(v.size!=0):\n",
    "                    return \"it is an interlocking assembly ( deadlocking if key is fixed)\"\n",
    "\n",
    "        else:\n",
    "            displayPolygons(figure,v)\n",
    "            return \"deadlocking\"\n",
    "    else:\n",
    "        tij, v= interlocking_test(figure, True)\n",
    "        print(v)\n",
    "        if(v.size>0):\n",
    "            if(len(movingPieces(v))>1):\n",
    "                displayPolygonsStable(figure, v)\n",
    "                return \"non interlocking, figure {} are able to move together\".format(movingPieces(v))\n",
    "            else:\n",
    "                print(\"only piece \"+str(movingPieces(v))+\" can move, it's the key\")\n",
    "                displayPolygonsStable(figure,v)\n",
    "                tij, v = interlocking_test(figure, False, movingPieces(v)[0])\n",
    "                if(v.size!=0):\n",
    "                    return \"it is an interlocking assembly ( deadlocking if key is fixed)\"\n",
    "\n",
    "        else:\n",
    "            displayPolygonsStable(figure,v)\n",
    "        \n",
    "    return \"deadlocking\"\n",
    "def StudyMultipleMoving(figure, k=0):\n",
    "    tij, v= interlocking_test_moving(figure)\n",
    "    print(v)\n",
    "    if(v.size>0):\n",
    "            displayPolygonsStable(figure, v, k)\n",
    "       \n",
    "    else:\n",
    "        displayPolygonsStable(figure,v, k)\n",
    "        return \"deadlocking\"\n",
    "              "
   ]
  },
  {
   "cell_type": "markdown",
   "metadata": {},
   "source": [
    "# triangle test"
   ]
  },
  {
   "cell_type": "code",
   "execution_count": 6,
   "metadata": {},
   "outputs": [],
   "source": [
    "v1, f1 = igl.read_triangle_mesh(\"ressources/3-way-triangle/tri1.obj\")\n",
    "v2, f2 = igl.read_triangle_mesh(\"ressources/3-way-triangle/tri2.obj\")\n",
    "v3, f3 = igl.read_triangle_mesh(\"ressources/3-way-triangle/tri3.obj\")\n",
    "v1=np.flip(np.delete(v1, np.s_[1], 1), 0)\n",
    "v2=np.flip(np.delete(v2, np.s_[1], 1), 0)\n",
    "v3=np.flip(np.delete(v3, np.s_[1], 1), 0)\n",
    "figureTriangle=np.array([v1,v2,v3])\n"
   ]
  },
  {
   "cell_type": "code",
   "execution_count": 48,
   "metadata": {},
   "outputs": [
    {
     "name": "stdout",
     "output_type": "stream",
     "text": [
      "[ 0.    -0.723 -0.565  0.293  0.565  0.293]\n"
     ]
    },
    {
     "data": {
      "application/vnd.jupyter.widget-view+json": {
       "model_id": "9c608a8ec37d4d8084ad649a2fd51784",
       "version_major": 2,
       "version_minor": 0
      },
      "text/plain": [
       "interactive(children=(FloatSlider(value=0.0, description='i', max=10.0, step=1.0), Output()), _dom_classes=('w…"
      ]
     },
     "metadata": {},
     "output_type": "display_data"
    }
   ],
   "source": [
    "StudyMultipleMoving(figureTriangle)\n"
   ]
  },
  {
   "cell_type": "code",
   "execution_count": 43,
   "metadata": {},
   "outputs": [],
   "source": [
    "])"
   ]
  },
  {
   "cell_type": "code",
   "execution_count": 44,
   "metadata": {},
   "outputs": [
    {
     "data": {
      "image/png": "[encoded data removed]",
      "text/plain": [
       "<Figure size 576x576 with 1 Axes>"
      ]
     },
     "metadata": {
      "needs_background": "light"
     },
     "output_type": "display_data"
    }
   ],
   "source": [
    "simpleDisplay(figureTotes)"
   ]
  },
  {
   "cell_type": "code",
   "execution_count": 57,
   "metadata": {},
   "outputs": [
    {
     "name": "stdout",
     "output_type": "stream",
     "text": [
      "[ 1.495  0.323 -0.64   2.458 -2.35  -1.391  1.495 -1.391]\n"
     ]
    },
    {
     "data": {
      "application/vnd.jupyter.widget-view+json": {
       "model_id": "08392c51216446d9a615ce12b2cbf5ea",
       "version_major": 2,
       "version_minor": 0
      },
      "text/plain": [
       "interactive(children=(FloatSlider(value=0.0, description='i', max=1000.0, step=10.0), Output()), _dom_classes=…"
      ]
     },
     "metadata": {},
     "output_type": "display_data"
    }
   ],
   "source": [
    "StudyMultipleMoving(figureTotes)"
   ]
  },
  {
   "cell_type": "code",
   "execution_count": 58,
   "metadata": {},
   "outputs": [],
   "source": []
  },
  {
   "cell_type": "code",
   "execution_count": 59,
   "metadata": {},
   "outputs": [
    {
     "data": {
      "image/png": "[encoded data removed]",
      "text/plain": [
       "<Figure size 576x576 with 1 Axes>"
      ]
     },
     "metadata": {
      "needs_background": "light"
     },
     "output_type": "display_data"
    }
   ],
   "source": [
    "simpleDisplay(piece)"
   ]
  },
  {
   "cell_type": "code",
   "execution_count": 68,
   "metadata": {},
   "outputs": [
    {
     "name": "stdout",
     "output_type": "stream",
     "text": [
      "[-1.  0.  0.  1.  1.  0.  0. -1.]\n"
     ]
    },
    {
     "data": {
      "application/vnd.jupyter.widget-view+json": {
       "model_id": "116cf39fb26e401683a84e9364940881",
       "version_major": 2,
       "version_minor": 0
      },
      "text/plain": [
       "interactive(children=(FloatSlider(value=0.0, description='i', max=1000.0, step=10.0), Output()), _dom_classes=…"
      ]
     },
     "metadata": {},
     "output_type": "display_data"
    }
   ],
   "source": [
    "StudyMultipleMoving(piece[4:8])"
   ]
  },
  {
   "cell_type": "code",
   "execution_count": null,
   "metadata": {},
   "outputs": [],
   "source": []
  }
 ],
 "metadata": {
  "kernelspec": {
   "display_name": "Python 3",
   "language": "python",
   "name": "python3"
  },
  "language_info": {
   "codemirror_mode": {
    "name": "ipython",
    "version": 3
   },
   "file_extension": ".py",
   "mimetype": "text/x-python",
   "name": "python",
   "nbconvert_exporter": "python",
   "pygments_lexer": "ipython3",
   "version": "3.7.3"
  }
 },
 "nbformat": 4,
 "nbformat_minor": 2
}
