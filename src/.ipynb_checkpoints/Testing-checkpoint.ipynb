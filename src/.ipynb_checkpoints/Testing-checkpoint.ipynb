{
 "cells": [
  {
   "cell_type": "code",
   "execution_count": 196,
   "metadata": {},
   "outputs": [],
   "source": [
    "from __future__ import print_function\n",
    "from PIL import Image, ImageOps  \n",
    "from shapely.ops import cascaded_union\n",
    "from matplotlib.pyplot import figure, draw, pause\n",
    "import geopandas as gpd\n",
    "import descartes\n",
    "import shapely.geometry as shy\n",
    "from ipywidgets import interact, interactive, fixed, interact_manual\n",
    "import ipywidgets as widgets\n",
    "from ipywidgets import FloatSlider\n",
    "import numpy as np\n",
    "import cvxpy as cp\n",
    "import matplotlib.pyplot as plt\n",
    "import random\n",
    "import igl\n",
    "import math\n",
    "import tripy\n",
    "from PIL import Image, ImageDraw\n",
    "import cv2 \n",
    "import numpy as np\n",
    "import networkx as nx\n",
    "from matplotlib.patches import Circle, Wedge, Polygon\n",
    "from matplotlib.collections import PatchCollection\n",
    "from matplotlib.pyplot import figure\n",
    "colors= np.array(['#85C17E','#E2BC74','#425B8A','#B666D2','#9393b3','#85C17E','#E2BC74','#425B8A','#B666D2','#85C17E' ,'#85C17E','#E2BC74','#425B8A','#B666D2','#85C17E' ,'#85C17E','#E2BC74','#425B8A','#B666D2','#85C17E' ,'#85C17E','#E2BC74','#425B8A','#B666D2','#85C17E' ,'#85C17E','#E2BC74','#425B8A','#B666D2','#85C17E' ,'#85C17E','#E2BC74','#425B8A','#B666D2','#85C17E' ,'#85C17E','#E2BC74','#425B8A','#B666D2','#85C17E' ,'#85C17E','#E2BC74','#425B8A','#B666D2','#85C17E' ,'#85C17E','#E2BC74','#425B8A','#B666D2','#85C17E'   ])\n",
    "colors = np.array(['#FFF8DC', '#FFEBCD','#FFE4C4','#FFDEAD','#F5DEB3','#DEB887','#D2B48C','#BC8F8F','#F4A460','#DAA520','#B8860B','#CD853F','#D2691E','#8B4513','#A52A2A','#800000'])\n",
    "#colors = np.array(['#e6194b', '#3cb44b', '#ffe119', '#4363d8', '#f58231', '#911eb4', '#46f0f0', '#f032e6', '#bcf60c', '#fabebe', '#008080', '#e6beff', '#9a6324', '#fffac8', '#800000', '#aaffc3', '#808000', '#ffd8b1', '#000075', '#808080', '#ffffff', '#000000'])\n",
    "#colors = np.array(['#FFE4C4','#BC8F8F','#CD853F','#D2691E','#8B4513','#A52A2A','#CD853F','#CD853F','#CD853F','#CD853F','#CD853F','#CD853F','#CD853F','#CD853F','#CD853F','#CD853F','#CD853F','#CD853F','#CD853F','#CD853F','#CD853F','#CD853F','#CD853F'])\n",
    "\n",
    "import copy\n",
    "from numpy import linalg as LA\n",
    "epsilon=1e-5\n",
    "from shapely.geometry import Point, MultiPoint"
   ]
  },
  {
   "cell_type": "markdown",
   "metadata": {},
   "source": [
    "# Image operation functions"
   ]
  },
  {
   "cell_type": "code",
   "execution_count": 226,
   "metadata": {},
   "outputs": [],
   "source": [
    "# code inspiration : https://stackoverflow.com/questions/47528222/how-to-get-only-the-cropped-portion-of-an-image-in-python\n",
    "def createImages(piece1, img, l= 2800):\n",
    "    for i in range(16):\n",
    "        im = Image.open(\"ressources/\"+str(img)).convert(\"RGBA\")\n",
    "        im = im.transpose(Image.FLIP_TOP_BOTTOM)\n",
    "\n",
    "        im = im.resize((l, l), Image.ANTIALIAS)\n",
    "        imArray = np.asarray(im)\n",
    "\n",
    "        maskIm = Image.new('L', (imArray.shape[1], imArray.shape[0]), 0)\n",
    "        tmp = [(piece1[i][j][0]*(l)/4053,piece1[i][j][1]*(l)/4000) for j in range(len(piece1[i])) ]\n",
    "\n",
    "        ImageDraw.Draw(maskIm).polygon(tmp, outline=0, fill=1)\n",
    "        mask = np.array(maskIm)\n",
    "\n",
    "        newImArray = np.empty(imArray.shape,dtype='uint8')\n",
    "        newImArray[:,:,:3] = imArray[:,:,:3]\n",
    "        newImArray[:,:,3] = mask*255\n",
    "        newIm = Image.fromarray(newImArray, \"RGBA\")\n",
    "\n",
    "\n",
    "        newIm.save(\"images/\"+str(img)+\"out\"+str(i)+\".png\")\n",
    "        "
   ]
  },
  {
   "cell_type": "code",
   "execution_count": 179,
   "metadata": {},
   "outputs": [],
   "source": [
    "def translateImg(img, tx, ty):\n",
    "    a = 1\n",
    "    b = 0\n",
    "    d = 0\n",
    "    e = 1\n",
    "    im2 = ImageOps.expand(img, border = 20, fill = 50)\n",
    "    im2 = im2.transform(im2.size, Image.AFFINE, (a, b, tx, d, e, ty))\n",
    "    return im2"
   ]
  },
  {
   "cell_type": "markdown",
   "metadata": {},
   "source": [
    "# Display Function"
   ]
  },
  {
   "cell_type": "code",
   "execution_count": 223,
   "metadata": {},
   "outputs": [],
   "source": [
    "\n",
    "def displayPolygonsStable(figure, v, k=0, image = None, l= 4000): \n",
    "    clone = copy.deepcopy(figure)\n",
    "    def update(m=0, size= 1000):\n",
    "        patches = []\n",
    "        xmax=size+200\n",
    "        ymax=size+200\n",
    "        xmin = -200-size/200\n",
    "        ymin=-200-size/200\n",
    "        k=0\n",
    "        fig2 = plt.figure(num=None, figsize=(8, 8))\n",
    "        ax2 = fig2.gca()\n",
    "        if(v.size>0):\n",
    "            for k in range(len(figure)):\n",
    "                for l in range(len(figure[k])):\n",
    "                    clone[k][l][0]=figure[k][l][0] + m * v[2*k] \n",
    "                    clone[k][l][1]=figure[k][l][1] + m * v[2*k+1]\n",
    "\n",
    "        for i in range(len(figure)):\n",
    "            \n",
    "            if(image == None):\n",
    "                polygon = Polygon(clone[i], fill=True, facecolor=colors[i],edgecolor='black',label='figure'+str(i))\n",
    "                ax2.add_artist(polygon)\n",
    "            else:\n",
    "                newIm = Image.open(\"images/\"+str(image)+\"out\"+str(i)+\".png\")\n",
    "                newIm = translateImg(newIm, -m * v[2*i] ,-m * v[2*i+1] )\n",
    "\n",
    "                h = ax2.imshow(newIm)  \n",
    "\n",
    "        ax2.set(xlim=(xmin, xmax), ylim=(ymin, ymax))\n",
    "            \n",
    "\n",
    "    interact(update,m=FloatSlider(min=0, max=100, step=1))\n",
    "    \n",
    "\n",
    "def displayPolygons(figure, v, k=0): \n",
    "    clone = copy.deepcopy(figure)\n",
    "    def update(i=0):\n",
    "        patches = []\n",
    "        xmax=0\n",
    "        ymax=0\n",
    "        xmin =0\n",
    "        ymin=0\n",
    "        k=0\n",
    "        fig2 = plt.figure(num=None, figsize=(8, 8))\n",
    "        ax2 = fig2.gca()\n",
    "        if(v.size>0):\n",
    "            for k in range(len(figure)):\n",
    "                for l in range(len(figure[k])):\n",
    "                    clone[k][l][0]=figure[k][l][0] + i * v[2*k] \n",
    "                    clone[k][l][1]=figure[k][l][1] + i * v[2*k+1]\n",
    "\n",
    "        for i in range(len(figure)):\n",
    "            polygon = Polygon(clone[i], fill=True, facecolor=colors[i],edgecolor='black',label='figure'+str(i))\n",
    "            ax2.add_artist(polygon)\n",
    "            if(xmax<np.max(clone[i][:,0])):\n",
    "                xmax=np.max(clone[i][:,0])\n",
    "            if(ymax<np.max(clone[i][:,1])):\n",
    "                ymax=np.max(clone[i][:,1])\n",
    "            if(xmin>np.min(clone[i][:,0])):\n",
    "                xmin=np.min(clone[i][:,0])\n",
    "            if(ymin>np.min(clone[i][:,1])):\n",
    "                ymin=np.min(clone[i][:,1])\n",
    "        ax2.set(xlim=(xmin, xmax), ylim=(ymin, ymax))\n",
    "            \n",
    "\n",
    "    interact(update,i=FloatSlider(min=0, max=10, step=0.1))\n",
    "def simpleDisplay(figure):\n",
    "    patches = []\n",
    "    xmax=0\n",
    "    ymax=0\n",
    "    xmin =0\n",
    "    ymin=0\n",
    "    k=0\n",
    "    fig2 = plt.figure(num=None, figsize=(8, 8))\n",
    "    ax2 = fig2.gca()\n",
    "    for i in range(len(figure)):\n",
    "        polygon = Polygon(figure[i], fill=True, facecolor=colors[i],edgecolor='black',label='figure'+str(i))\n",
    "        ax2.add_artist(polygon)\n",
    "        if(xmax<np.max(figure[i][:,0])):\n",
    "            xmax=np.max(figure[i][:,0])\n",
    "        if(ymax<np.max(figure[i][:,1])):\n",
    "            ymax=np.max(figure[i][:,1])\n",
    "        if(xmin>np.min(figure[i][:,0])):\n",
    "            xmin=np.min(figure[i][:,0])\n",
    "        if(ymin>np.min(figure[i][:,1])):\n",
    "            ymin=np.min(figure[i][:,1])\n",
    "        ax2.set(xlim=(xmin, xmax), ylim=(ymin, ymax))\n",
    "    plt.show()"
   ]
  },
  {
   "cell_type": "markdown",
   "metadata": {},
   "source": [
    "# normals computing functions"
   ]
  },
  {
   "cell_type": "code",
   "execution_count": 181,
   "metadata": {},
   "outputs": [],
   "source": [
    "def cross(a,b):\n",
    "    return a[0]*b[1]-b[0]*a[1]\n",
    "\n",
    "def is_between(a, b, c): # is point c between point a and b\n",
    "    if(np.allclose(a,c) or np.allclose(b,c)):\n",
    "        return False\n",
    "    cross_product= cross((c-a),(b-a))\n",
    "    if abs(cross_product) > epsilon:\n",
    "        return False\n",
    "    dotproduct = (b-a)@(c-a)\n",
    "    if dotproduct < 0:\n",
    "        return False\n",
    "    squaredlengthba = np.sum(np.square(b-a))\n",
    "    if dotproduct > squaredlengthba:\n",
    "        return False\n",
    "    return True\n",
    "\n",
    "def isTouching(v1,v2, u1,u2):\n",
    "    if((np.allclose(v1,u1) and np.allclose(v2,u2)) or  (np.allclose(v2,u1) and np.allclose(v1,u2))):\n",
    "        return True\n",
    "    return abs(cross(v1-v2, u1-u2)) < epsilon and (is_between(v1,v2,u1) or is_between(v1,v2,u2) or is_between(u1,u2,v1) or is_between(u1,u2,v2))  \n",
    "def compute_normal_edge(v1,v2,i,j):\n",
    "    normal = np.array(v2-v1)\n",
    "    normal[0], normal[1] = normal[1], -normal[0]\n",
    "    normal = normal / LA.norm(normal)\n",
    "    return np.around(np.array(normal), decimals = 1)\n",
    "\n",
    "def compute_normals_shape(shape):\n",
    "    normals_of_shape= np.array([compute_normal_edge(shape[i],shape[(i+1)%len(shape)]) for i in range(len(shape))])\n",
    "    return normals_of_shape\n",
    "\n",
    "def compute_normals_2_shapes(shape1, shape2): \n",
    "    result = np.array([compute_normal_edge(shape1[i],shape1[(i+1)%len(shape1)],shape2[j],shape2[(j+1)%len(shape2)]) for i in range (len(shape1)) for j in range (len(shape2)) if(isTouching(shape1[i],shape1[(i+1)%len(shape1)],shape2[j],shape2[(j+1)%len(shape2)]))])   \n",
    "    return set(tuple(i) for i in result)\n",
    "\n",
    "def compute_normals_dict(figure):\n",
    "    normals_dic = {}\n",
    "    for i in range(len(figure)):\n",
    "        for j in range(len(figure)):\n",
    "            if(i != j):\n",
    "                normals_dic[i,j]= compute_normals_2_shapes(figure[i], figure[j])\n",
    "    return normals_dic"
   ]
  },
  {
   "cell_type": "markdown",
   "metadata": {},
   "source": [
    "# inequation solver functions"
   ]
  },
  {
   "cell_type": "code",
   "execution_count": 182,
   "metadata": {},
   "outputs": [],
   "source": [
    "\n",
    "def construct_A(figure):\n",
    "    normals= compute_normals_dict(figure)\n",
    "    count=0\n",
    "    for x in normals: \n",
    "        count += len(normals[x]) \n",
    "    A = np.zeros((count,  len(figure)*2))\n",
    "    c=0\n",
    "    for x in normals:\n",
    "        for j in range(len(normals[x])):\n",
    "            a= list(normals[x])\n",
    "            A[c][2*list(x)[0]]=-a[j][0]\n",
    "            A[c][2*list(x)[0]+1]=-a[j][1]\n",
    "            A[c][2*list(x)[1]]=a[j][0]\n",
    "            A[c][2*list(x)[1]+1]=a[j][1]\n",
    "\n",
    "            c=c+1\n",
    "    return np.unique(A, axis=0)\n",
    "\n",
    "def solver(A, i): #fixes all velocities except the i part to 0\n",
    "    x = cp.Variable(len(A[0]))\n",
    "    tij=cp.Variable(len(A))\n",
    "    index=np.arange(len(A[0]))\n",
    "    index= np.delete(index, 2*i)\n",
    "    index= np.delete(index, 2*i)\n",
    "\n",
    "    constraints = [(A*x-tij)>=np.zeros(len(A)), x[index]==0, tij>=0, tij<=1]\n",
    "\n",
    "    objective =  cp.Maximize(cp.sum(tij))\n",
    "    prob = cp.Problem(objective, constraints)\n",
    "    result = prob.solve()\n",
    "    return np.round(tij.value,decimals=3), np.round(x.value,decimals=3)\n",
    "\n",
    "def solver_2(A, i,n, iskey=False,): #fixes only one reference part pr velocity to 0\n",
    "    x = cp.Variable(len(A[0]))\n",
    "    tij=cp.Variable(len(A))    \n",
    "    if(iskey and n>2):\n",
    "        constraints = [(A*x-tij)>=np.zeros(len(A)), x[(i+1)%len(A[0])]==0, x[i]==0, tij>=0, tij<=1]\n",
    "    elif(n<=2):\n",
    "        constraints = [(A*x-tij)>=np.zeros(len(A)),  tij>=0, tij<=1]\n",
    "    else:\n",
    "        constraints = [(A*x-tij)>=np.zeros(len(A)), x[(i+1)%len(A[0])]==0, tij>=0, tij<=1]\n",
    "\n",
    "    objective =  cp.Maximize(cp.sum(tij))\n",
    "    prob = cp.Problem(objective, constraints)\n",
    "    result = prob.solve()\n",
    "    return np.round(tij.value,decimals=3), np.round(x.value,decimals=3)\n",
    "\n",
    "def solverMultipleMoving(A):\n",
    "    x = cp.Variable(len(A[0]))\n",
    "    tij=cp.Variable(len(A))    \n",
    "    \n",
    "    constraints = [(A*x-tij)>=np.zeros(len(A)), tij>=0, tij<=1]\n",
    "    objective =  cp.Maximize(cp.sum(tij))\n",
    "    prob = cp.Problem(objective, constraints)\n",
    "    result = prob.solve()\n",
    "    return np.round(tij.value,decimals=3), np.round(x.value,decimals=3)"
   ]
  },
  {
   "cell_type": "markdown",
   "metadata": {},
   "source": [
    "# testing functions"
   ]
  },
  {
   "cell_type": "code",
   "execution_count": 183,
   "metadata": {},
   "outputs": [],
   "source": [
    "def interlocking_test(figure, allVelocitiesFixed = True, key=None):\n",
    "    A=construct_A(figure)\n",
    "    final_v = np.array([])\n",
    "    max_tij = np.zeros(len(A)) \n",
    "    \n",
    "    for i in range(len(figure)):\n",
    "        if(allVelocitiesFixed):\n",
    "            temp_tij, v = solver(A, i)\n",
    "        else:\n",
    "            if(key is not None):\n",
    "                temp_tij, v = solver_2(A, i,len(figure),True)\n",
    "            else:\n",
    "                temp_tij, v = solver_2(A, i,len(figure))\n",
    "\n",
    "        if(np.sum(temp_tij) > np.sum(max_tij)):\n",
    "            max_tij=temp_tij\n",
    "            final_v=v\n",
    "            \n",
    "    return  max_tij, final_v   \n",
    "def interlocking_test_moving(figure):\n",
    "    A=construct_A(figure)\n",
    "    final_v = np.array([])\n",
    "    max_tij = np.zeros(len(A)) \n",
    "    temp_tij, v = solverMultipleMoving(A)\n",
    "    if(np.sum(temp_tij) > np.sum(max_tij)):\n",
    "        max_tij=temp_tij\n",
    "        final_v=v\n",
    "\n",
    "    return  max_tij, final_v   \n",
    "def movingPieces(v):\n",
    "    movingPieces=[]\n",
    "    for i in range(len(v)//2):\n",
    "        if(v[2*i]>0 or v[2*i+1]> 0):\n",
    "            movingPieces.append(i)\n",
    "    return movingPieces\n",
    "\n",
    "#single piece moving function test and interactive plot\n",
    "def fullStudy(figure, display = 0):\n",
    "    if(display == 0):\n",
    "        tij, v= interlocking_test(figure, True)\n",
    "        print(v)\n",
    "        if(v.size>0):\n",
    "            if(len(movingPieces(v))>1):\n",
    "                displayPolygons(figure, v)\n",
    "                return \"non interlocking, figure {} are able to move together\".format(movingPieces(v))\n",
    "            else:\n",
    "                print(\"only piece \"+str(movingPieces(v))+\" can move, it's the key\")\n",
    "                displayPolygons(figure,v)\n",
    "                if(v.size!=0):\n",
    "                    return \"it is an interlocking assembly ( deadlocking if key is fixed)\"\n",
    "\n",
    "        else:\n",
    "            displayPolygons(figure,v)\n",
    "            return \"deadlocking\"\n",
    "    else:\n",
    "        tij, v= interlocking_test(figure, True)\n",
    "        print(v)\n",
    "        if(v.size>0):\n",
    "            if(len(movingPieces(v))>1):\n",
    "                displayPolygonsStable(figure, v)\n",
    "                return \"non interlocking, figure {} are able to move together\".format(movingPieces(v))\n",
    "            else:\n",
    "                print(\"only piece \"+str(movingPieces(v))+\" can move, it's the key\")\n",
    "                displayPolygonsStable(figure,v)\n",
    "                tij, v = interlocking_test(figure, False, movingPieces(v)[0])\n",
    "                if(v.size!=0):\n",
    "                    return \"it is an interlocking assembly ( deadlocking if key is fixed)\"\n",
    "\n",
    "        else:\n",
    "            displayPolygonsStable(figure,v)\n",
    "        \n",
    "    return \"deadlocking\"\n",
    "\n",
    "#Multiple Moving function test and interactive plot\n",
    "def StudyMultipleMoving(figure, k=0, image = None, l=2800, recreate = False):\n",
    "    if(image != None and recreate):\n",
    "        createImages(figure, image, l)\n",
    "\n",
    "    tij, v= interlocking_test_moving(figure)\n",
    "    print(v)\n",
    "    if(v.size>0):\n",
    "            displayPolygonsStable(figure, v, k, image, l = 4000)\n",
    "       \n",
    "    else:\n",
    "        displayPolygonsStable(figure,v, k, image, l=4000)\n",
    "        return \"deadlocking\"\n",
    "              "
   ]
  },
  {
   "cell_type": "code",
   "execution_count": null,
   "metadata": {},
   "outputs": [],
   "source": []
  },
  {
   "cell_type": "markdown",
   "metadata": {},
   "source": [
    "# Test with image: "
   ]
  },
  {
   "cell_type": "code",
   "execution_count": 184,
   "metadata": {},
   "outputs": [],
   "source": [
    "piece = np.load(\"numpyPieces/GridPieceArray.npy\",allow_pickle = True)"
   ]
  },
  {
   "cell_type": "code",
   "execution_count": 215,
   "metadata": {},
   "outputs": [
    {
     "name": "stdout",
     "output_type": "stream",
     "text": [
      "[-5.23  -0.411 -3.977  0.842 -2.076 -1.06  -3.329 -2.313 -3.977  4.094\n",
      " -1.13   5.675  0.271  4.897 -2.076  0.672 -1.61  -4.032 -0.357 -2.779\n",
      "  2.362 -5.498  1.109 -6.751  1.177  0.672  6.81   4.897  8.389  3.713\n",
      "  3.643 -2.616]\n"
     ]
    },
    {
     "data": {
      "application/vnd.jupyter.widget-view+json": {
       "model_id": "a56bc1bf1cae4da3a92fbfe7c6fa24e8",
       "version_major": 2,
       "version_minor": 0
      },
      "text/plain": [
       "interactive(children=(FloatSlider(value=0.0, description='m', step=1.0), IntSlider(value=4000, description='si…"
      ]
     },
     "metadata": {},
     "output_type": "display_data"
    }
   ],
   "source": [
    "StudyMultipleMoving(piece, image = \"robert-bahn.jpg\", l= 4000, recreate= 1)"
   ]
  },
  {
   "cell_type": "markdown",
   "metadata": {},
   "source": [
    "Photo by Robert Bahn on Unsplash"
   ]
  },
  {
   "cell_type": "markdown",
   "metadata": {},
   "source": [
    "# Array testing:"
   ]
  },
  {
   "cell_type": "code",
   "execution_count": 186,
   "metadata": {},
   "outputs": [],
   "source": [
    "#load piece to test, must have been saved using np.save(\"title\")\n",
    "to_test = np.load(\"numpyPieces/GridPieceArray.npy\", allow_pickle = True)"
   ]
  },
  {
   "cell_type": "code",
   "execution_count": 197,
   "metadata": {},
   "outputs": [
    {
     "name": "stdout",
     "output_type": "stream",
     "text": [
      "[-5.23  -0.411 -3.977  0.842 -2.076 -1.06  -3.329 -2.313 -3.977  4.094\n",
      " -1.13   5.675  0.271  4.897 -2.076  0.672 -1.61  -4.032 -0.357 -2.779\n",
      "  2.362 -5.498  1.109 -6.751  1.177  0.672  6.81   4.897  8.389  3.713\n",
      "  3.643 -2.616]\n"
     ]
    },
    {
     "data": {
      "application/vnd.jupyter.widget-view+json": {
       "model_id": "ebfdd23a78d54e859a01f3611bfca7b4",
       "version_major": 2,
       "version_minor": 0
      },
      "text/plain": [
       "interactive(children=(FloatSlider(value=0.0, description='m', step=1.0), IntSlider(value=4000, description='si…"
      ]
     },
     "metadata": {},
     "output_type": "display_data"
    }
   ],
   "source": [
    "StudyMultipleMoving(to_test, l = 4000)"
   ]
  },
  {
   "cell_type": "code",
   "execution_count": 216,
   "metadata": {},
   "outputs": [],
   "source": [
    "to_test = np.load(\"numpyPieces/randomGrid.npy\", allow_pickle = True)"
   ]
  },
  {
   "cell_type": "code",
   "execution_count": 227,
   "metadata": {},
   "outputs": [
    {
     "name": "stdout",
     "output_type": "stream",
     "text": [
      "[ -9.936   4.413   1.842  -4.421  -2.529  -8.792 -11.363   2.986   3.605\n",
      "  -2.657  44.61  -33.411  38.753 -37.804   3.605  -2.657  -7.58   15.937\n",
      "  -8.857  12.106  -8.282   9.23   -1.185  12.384 -11.524   9.439 -13.15\n",
      "   7.271 -11.728   6.205 -10.045   7.467]\n"
     ]
    },
    {
     "data": {
      "application/vnd.jupyter.widget-view+json": {
       "model_id": "ee36e99983ff43e18fdcf00069980b28",
       "version_major": 2,
       "version_minor": 0
      },
      "text/plain": [
       "interactive(children=(FloatSlider(value=0.0, description='m', step=1.0), IntSlider(value=1000, description='si…"
      ]
     },
     "metadata": {},
     "output_type": "display_data"
    }
   ],
   "source": [
    "StudyMultipleMoving(to_test, image = \"robert-bahn.jpg\", l= 1000, recreate= 1)"
   ]
  },
  {
   "cell_type": "code",
   "execution_count": null,
   "metadata": {},
   "outputs": [],
   "source": []
  }
 ],
 "metadata": {
  "kernelspec": {
   "display_name": "Python 3",
   "language": "python",
   "name": "python3"
  },
  "language_info": {
   "codemirror_mode": {
    "name": "ipython",
    "version": 3
   },
   "file_extension": ".py",
   "mimetype": "text/x-python",
   "name": "python",
   "nbconvert_exporter": "python",
   "pygments_lexer": "ipython3",
   "version": "3.7.3"
  }
 },
 "nbformat": 4,
 "nbformat_minor": 2
}
