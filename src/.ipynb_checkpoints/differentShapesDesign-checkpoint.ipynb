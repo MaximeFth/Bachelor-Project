{
 "cells": [
  {
   "cell_type": "code",
   "execution_count": 1,
   "metadata": {},
   "outputs": [],
   "source": [
    "from __future__ import print_function\n",
    "from shapely.ops import cascaded_union\n",
    "import geopandas as gpd\n",
    "import descartes\n",
    "import shapely.geometry as shy\n",
    "from ipywidgets import interact, interactive, fixed, interact_manual\n",
    "import ipywidgets as widgets\n",
    "from ipywidgets import FloatSlider\n",
    "import numpy as np\n",
    "import cvxpy as cp\n",
    "import matplotlib.pyplot as plt\n",
    "import random\n",
    "import igl\n",
    "import math\n",
    "import tripy\n",
    "import networkx as nx\n",
    "from matplotlib.patches import Circle, Wedge, Polygon\n",
    "from matplotlib.collections import PatchCollection\n",
    "from matplotlib.pyplot import figure\n",
    "colors= np.array(['#85C17E','#E2BC74','#425B8A','#B666D2','#9393b3','#85C17E','#E2BC74','#425B8A','#B666D2','#85C17E' ,'#85C17E','#E2BC74','#425B8A','#B666D2','#85C17E' ,'#85C17E','#E2BC74','#425B8A','#B666D2','#85C17E' ,'#85C17E','#E2BC74','#425B8A','#B666D2','#85C17E' ,'#85C17E','#E2BC74','#425B8A','#B666D2','#85C17E' ,'#85C17E','#E2BC74','#425B8A','#B666D2','#85C17E' ,'#85C17E','#E2BC74','#425B8A','#B666D2','#85C17E' ,'#85C17E','#E2BC74','#425B8A','#B666D2','#85C17E' ,'#85C17E','#E2BC74','#425B8A','#B666D2','#85C17E'   ])\n",
    "colors = np.array(['#FFF8DC', '#FFEBCD','#FFE4C4','#FFDEAD','#F5DEB3','#DEB887','#D2B48C','#BC8F8F','#F4A460','#DAA520','#B8860B','#CD853F','#D2691E','#8B4513','#A52A2A','#800000'])\n",
    "colors = np.array(['#FFE4C4','#BC8F8F','#CD853F','#D2691E','#8B4513','#A52A2A','#CD853F','#CD853F','#CD853F','#CD853F','#CD853F','#CD853F','#CD853F','#CD853F','#CD853F','#CD853F','#CD853F','#CD853F','#CD853F','#CD853F'])\n",
    "\n",
    "#colors = np.array(['#e6194b', '#3cb44b', '#ffe119', '#4363d8', '#f58231', '#911eb4', '#46f0f0', '#f032e6', '#bcf60c', '#fabebe', '#008080', '#e6beff', '#9a6324', '#fffac8', '#800000', '#aaffc3', '#808000', '#ffd8b1', '#000075', '#808080', '#ffffff', '#000000'])\n",
    "import copy\n",
    "from numpy import linalg as LA\n",
    "epsilon=1e-5\n",
    "from shapely.geometry import Point, MultiPoint"
   ]
  },
  {
   "cell_type": "markdown",
   "metadata": {},
   "source": [
    "# part triangulation Functions\n",
    "\n",
    "            "
   ]
  },
  {
   "cell_type": "code",
   "execution_count": 2,
   "metadata": {},
   "outputs": [],
   "source": [
    "def triangulate(figure):\n",
    "    result = np.array([tripy.earclip(figure[i]) for i in range(len(figure))])\n",
    "    return result\n",
    "def display_triangulated_shape(triangles):\n",
    "    patches = []\n",
    "    xmax=0\n",
    "    ymax=0\n",
    "    fig = plt.figure(num=None, figsize=(8, 8))\n",
    "    ax = fig.gca()\n",
    "    for i in range(len(triangles)):\n",
    "        polygon = Polygon(triangles[i], fill=True,edgecolor='black',label='figure'+str(i))\n",
    "        ax.add_artist(polygon)\n",
    "    ax.set(xlim=(0, 1000), ylim=(0, 600))\n",
    "    plt.show()\n",
    "    \n"
   ]
  },
  {
   "cell_type": "code",
   "execution_count": null,
   "metadata": {},
   "outputs": [],
   "source": []
  },
  {
   "cell_type": "markdown",
   "metadata": {},
   "source": [
    "# parts display function"
   ]
  },
  {
   "cell_type": "code",
   "execution_count": 51,
   "metadata": {},
   "outputs": [],
   "source": [
    "\n",
    "def displayPolygonsStable(figure, v, k=0, image = None, l= 0): \n",
    "    clone = copy.deepcopy(figure)\n",
    "    def update(m=0, size= l):\n",
    "        patches = []\n",
    "        center = (0,0)\n",
    "        margin = 1000\n",
    "        xmax=center[0]+margin\n",
    "        ymax=center[1]+margin\n",
    "        xmin = center[0]-margin\n",
    "        ymin=center[1]-margin\n",
    "        k=0\n",
    "        fig2 = plt.figure(num=None, figsize=(8, 8))\n",
    "        ax2 = fig2.gca()\n",
    "        if(v.size>0):\n",
    "            for k in range(len(figure)):\n",
    "                for l in range(len(figure[k])):\n",
    "                    clone[k][l][0]=figure[k][l][0] + m * v[2*k] \n",
    "                    clone[k][l][1]=figure[k][l][1] + m * v[2*k+1]\n",
    "\n",
    "        for i in range(len(figure)):\n",
    "            \n",
    "            if(image == None):\n",
    "                polygon = Polygon(clone[i], fill=True, facecolor=colors[i],edgecolor='black',label='figure'+str(i))\n",
    "                ax2.add_artist(polygon)\n",
    "            else:\n",
    "                newIm = Image.open(\"images/\"+str(image)+\"out\"+str(i)+\".png\")\n",
    "                newIm = translateImg(newIm, -m * v[2*i] ,-m * v[2*i+1] )\n",
    "\n",
    "                h = ax2.imshow(newIm)  \n",
    "\n",
    "        ax2.set(xlim=(xmin, xmax), ylim=(ymin, ymax))\n",
    "            \n",
    "\n",
    "    interact(update,m=FloatSlider(min=0, max=1, step=0.05))\n",
    "    \n",
    "\n",
    "def displayPolygons(figure, v, k=0): \n",
    "    clone = copy.deepcopy(figure)\n",
    "    def update(i=0):\n",
    "        patches = []\n",
    "        xmax=0\n",
    "        ymax=0\n",
    "        xmin =0\n",
    "        ymin=0\n",
    "        k=0\n",
    "        fig2 = plt.figure(num=None, figsize=(8, 8))\n",
    "        ax2 = fig2.gca()\n",
    "        if(v.size>0):\n",
    "            for k in range(len(figure)):\n",
    "                for l in range(len(figure[k])):\n",
    "                    clone[k][l][0]=figure[k][l][0] + i * v[2*k] \n",
    "                    clone[k][l][1]=figure[k][l][1] + i * v[2*k+1]\n",
    "\n",
    "        for i in range(len(figure)):\n",
    "            polygon = Polygon(clone[i], fill=True, facecolor=colors[i],edgecolor='black',label='figure'+str(i))\n",
    "            ax2.add_artist(polygon)\n",
    "            if(xmax<np.max(clone[i][:,0])):\n",
    "                xmax=np.max(clone[i][:,0])\n",
    "            if(ymax<np.max(clone[i][:,1])):\n",
    "                ymax=np.max(clone[i][:,1])\n",
    "            if(xmin>np.min(clone[i][:,0])):\n",
    "                xmin=np.min(clone[i][:,0])\n",
    "            if(ymin>np.min(clone[i][:,1])):\n",
    "                ymin=np.min(clone[i][:,1])\n",
    "        ax2.set(xlim=(xmin, xmax), ylim=(ymin, ymax))\n",
    "            \n",
    "\n",
    "    interact(update,i=FloatSlider(min=0, max=10, step=0.1))\n",
    "def simpleDisplay(figure):\n",
    "    patches = []\n",
    "    xmax=0\n",
    "    ymax=0\n",
    "    xmin =0\n",
    "    ymin=0\n",
    "    k=0\n",
    "    fig2 = plt.figure(num=None, figsize=(8, 8))\n",
    "    ax2 = fig2.gca()\n",
    "    for i in range(len(figure)):\n",
    "        polygon = Polygon(figure[i], fill=True, facecolor=colors[i],edgecolor='black',label='figure'+str(i))\n",
    "        ax2.add_artist(polygon)\n",
    "        if(xmax<np.max(figure[i][:,0])):\n",
    "            xmax=np.max(figure[i][:,0])\n",
    "        if(ymax<np.max(figure[i][:,1])):\n",
    "            ymax=np.max(figure[i][:,1])\n",
    "        if(xmin>np.min(figure[i][:,0])):\n",
    "            xmin=np.min(figure[i][:,0])\n",
    "        if(ymin>np.min(figure[i][:,1])):\n",
    "            ymin=np.min(figure[i][:,1])\n",
    "        ax2.set(xlim=(xmin, xmax), ylim=(ymin, ymax))\n",
    "    plt.show()"
   ]
  },
  {
   "cell_type": "markdown",
   "metadata": {},
   "source": [
    "# normals computing functions"
   ]
  },
  {
   "cell_type": "code",
   "execution_count": 4,
   "metadata": {},
   "outputs": [],
   "source": [
    "def cross(a,b):\n",
    "    return a[0]*b[1]-b[0]*a[1]\n",
    "\n",
    "def is_between(a, b, c): # is point c between point a and b\n",
    "    if(np.allclose(a,c) or np.allclose(b,c)):\n",
    "        return False\n",
    "    cross_product= cross((c-a),(b-a))\n",
    "    if abs(cross_product) > epsilon:\n",
    "        return False\n",
    "    dotproduct = (b-a)@(c-a)\n",
    "    if dotproduct < 0:\n",
    "        return False\n",
    "    squaredlengthba = np.sum(np.square(b-a))\n",
    "    if dotproduct > squaredlengthba:\n",
    "        return False\n",
    "    return True\n",
    "\n",
    "def isTouching(v1,v2, u1,u2):\n",
    "    if((np.allclose(v1,u1) and np.allclose(v2,u2)) or  (np.allclose(v2,u1) and np.allclose(v1,u2))):\n",
    "        return True\n",
    "    return abs(cross(v1-v2, u1-u2)) < epsilon and (is_between(v1,v2,u1) or is_between(v1,v2,u2) or is_between(u1,u2,v1) or is_between(u1,u2,v2))  \n",
    "def compute_normal_edge(v1,v2,i,j):\n",
    "    normal = np.array(v2-v1)\n",
    "    normal[0], normal[1] = normal[1], -normal[0]\n",
    "    normal = normal / LA.norm(normal)\n",
    "    return np.around(np.array(normal), decimals = 1)\n",
    "\n",
    "def compute_normals_shape(shape):\n",
    "    normals_of_shape= np.array([compute_normal_edge(shape[i],shape[(i+1)%len(shape)]) for i in range(len(shape))])\n",
    "    return normals_of_shape\n",
    "\n",
    "def compute_normals_2_shapes(shape1, shape2): \n",
    "    result = np.array([compute_normal_edge(shape1[i],shape1[(i+1)%len(shape1)],shape2[j],shape2[(j+1)%len(shape2)]) for i in range (len(shape1)) for j in range (len(shape2)) if(isTouching(shape1[i],shape1[(i+1)%len(shape1)],shape2[j],shape2[(j+1)%len(shape2)]))])   \n",
    "    return set(tuple(i) for i in result)\n",
    "\n",
    "def compute_normals_dict(figure):\n",
    "    normals_dic = {}\n",
    "    for i in range(len(figure)):\n",
    "        for j in range(len(figure)):\n",
    "            if(i != j):\n",
    "                normals_dic[i,j]= compute_normals_2_shapes(figure[i], figure[j])\n",
    "    return normals_dic"
   ]
  },
  {
   "cell_type": "markdown",
   "metadata": {},
   "source": [
    "# inequation solver functions"
   ]
  },
  {
   "cell_type": "code",
   "execution_count": 5,
   "metadata": {},
   "outputs": [],
   "source": [
    "\n",
    "def construct_A(figure):\n",
    "    normals= compute_normals_dict(figure)\n",
    "    count=0\n",
    "    for x in normals: \n",
    "        count += len(normals[x]) \n",
    "    A = np.zeros((count,  len(figure)*2))\n",
    "    c=0\n",
    "    for x in normals:\n",
    "        for j in range(len(normals[x])):\n",
    "            a= list(normals[x])\n",
    "            A[c][2*list(x)[0]]=-a[j][0]\n",
    "            A[c][2*list(x)[0]+1]=-a[j][1]\n",
    "            A[c][2*list(x)[1]]=a[j][0]\n",
    "            A[c][2*list(x)[1]+1]=a[j][1]\n",
    "\n",
    "            c=c+1\n",
    "    return np.unique(A, axis=0)\n",
    "\n",
    "def solver(A, i): #fixes all velocities except the i part to 0\n",
    "    x = cp.Variable(len(A[0]))\n",
    "    tij=cp.Variable(len(A))\n",
    "    index=np.arange(len(A[0]))\n",
    "    index= np.delete(index, 2*i)\n",
    "    index= np.delete(index, 2*i)\n",
    "\n",
    "    constraints = [(A*x-tij)>=np.zeros(len(A)), x[index]==0, tij>=0, tij<=1]\n",
    "\n",
    "    objective =  cp.Maximize(cp.sum(tij))\n",
    "    prob = cp.Problem(objective, constraints)\n",
    "    result = prob.solve()\n",
    "    return np.round(tij.value,decimals=3), np.round(x.value,decimals=3)\n",
    "\n",
    "def solver_2(A, i,n, iskey=False,): #fixes only one reference part pr velocity to 0\n",
    "    x = cp.Variable(len(A[0]))\n",
    "    tij=cp.Variable(len(A))    \n",
    "    if(iskey and n>2):\n",
    "        constraints = [(A*x-tij)>=np.zeros(len(A)), x[(i+1)%len(A[0])]==0, x[i]==0, tij>=0, tij<=1]\n",
    "    elif(n<=2):\n",
    "        constraints = [(A*x-tij)>=np.zeros(len(A)),  tij>=0, tij<=1]\n",
    "    else:\n",
    "        constraints = [(A*x-tij)>=np.zeros(len(A)), x[(i+1)%len(A[0])]==0, tij>=0, tij<=1]\n",
    "\n",
    "    objective =  cp.Maximize(cp.sum(tij))\n",
    "    prob = cp.Problem(objective, constraints)\n",
    "    result = prob.solve()\n",
    "    return np.round(tij.value,decimals=3), np.round(x.value,decimals=3)\n",
    "\n",
    "def solverMultipleMoving(A):\n",
    "    x = cp.Variable(len(A[0]))\n",
    "    tij=cp.Variable(len(A))    \n",
    "    \n",
    "    constraints = [(A*x-tij)>=np.zeros(len(A)), tij>=0, tij<=1]\n",
    "    objective =  cp.Maximize(cp.sum(tij))\n",
    "    prob = cp.Problem(objective, constraints)\n",
    "    result = prob.solve()\n",
    "    return np.round(tij.value,decimals=3), np.round(x.value,decimals=3)"
   ]
  },
  {
   "cell_type": "markdown",
   "metadata": {},
   "source": [
    "# testing functions"
   ]
  },
  {
   "cell_type": "code",
   "execution_count": 6,
   "metadata": {},
   "outputs": [],
   "source": [
    "def interlocking_test(figure, allVelocitiesFixed = True, key=None):\n",
    "    A=construct_A(figure)\n",
    "    final_v = np.array([])\n",
    "    max_tij = np.zeros(len(A)) \n",
    "    \n",
    "    for i in range(len(figure)):\n",
    "        if(allVelocitiesFixed):\n",
    "            temp_tij, v = solver(A, i)\n",
    "        else:\n",
    "            if(key is not None):\n",
    "                temp_tij, v = solver_2(A, i,len(figure),True)\n",
    "            else:\n",
    "                temp_tij, v = solver_2(A, i,len(figure))\n",
    "\n",
    "        if(np.sum(temp_tij) > np.sum(max_tij)):\n",
    "            max_tij=temp_tij\n",
    "            final_v=v\n",
    "            \n",
    "    return  max_tij, final_v   \n",
    "def interlocking_test_moving(figure):\n",
    "    A=construct_A(figure)\n",
    "    final_v = np.array([])\n",
    "    max_tij = np.zeros(len(A)) \n",
    "    temp_tij, v = solverMultipleMoving(A)\n",
    "    if(np.sum(temp_tij) > np.sum(max_tij)):\n",
    "        max_tij=temp_tij\n",
    "        final_v=v\n",
    "\n",
    "    return  max_tij, final_v   \n",
    "def movingPieces(v):\n",
    "    movingPieces=[]\n",
    "    for i in range(len(v)//2):\n",
    "        if(v[2*i]>0 or v[2*i+1]> 0):\n",
    "            movingPieces.append(i)\n",
    "    return movingPieces\n",
    "\n",
    "#single piece moving function test and interactive plot\n",
    "def fullStudy(figure, display = 0):\n",
    "    if(display == 0):\n",
    "        tij, v= interlocking_test(figure, True)\n",
    "        print(v)\n",
    "        if(v.size>0):\n",
    "            if(len(movingPieces(v))>1):\n",
    "                displayPolygons(figure, v)\n",
    "                return \"non interlocking, figure {} are able to move together\".format(movingPieces(v))\n",
    "            else:\n",
    "                print(\"only piece \"+str(movingPieces(v))+\" can move, it's the key\")\n",
    "                displayPolygons(figure,v)\n",
    "                if(v.size!=0):\n",
    "                    return \"it is an interlocking assembly ( deadlocking if key is fixed)\"\n",
    "\n",
    "        else:\n",
    "            displayPolygons(figure,v)\n",
    "            return \"deadlocking\"\n",
    "    else:\n",
    "        tij, v= interlocking_test(figure, True)\n",
    "        print(v)\n",
    "        if(v.size>0):\n",
    "            if(len(movingPieces(v))>1):\n",
    "                displayPolygonsStable(figure, v)\n",
    "                return \"non interlocking, figure {} are able to move together\".format(movingPieces(v))\n",
    "            else:\n",
    "                print(\"only piece \"+str(movingPieces(v))+\" can move, it's the key\")\n",
    "                displayPolygonsStable(figure,v)\n",
    "                tij, v = interlocking_test(figure, False, movingPieces(v)[0])\n",
    "                if(v.size!=0):\n",
    "                    return \"it is an interlocking assembly ( deadlocking if key is fixed)\"\n",
    "\n",
    "        else:\n",
    "            displayPolygonsStable(figure,v)\n",
    "        \n",
    "    return \"deadlocking\"\n",
    "\n",
    "#Multiple Moving function test and interactive plot\n",
    "def StudyMultipleMoving(figure, k=0, image = None, l=2800, recreate = False):\n",
    "    if(image != None and recreate):\n",
    "        createImages(figure, image, l)\n",
    "\n",
    "    tij, v= interlocking_test_moving(figure)\n",
    "    print(v)\n",
    "    if(v.size>0):\n",
    "            displayPolygonsStable(figure, v, k, image, l = 4000)\n",
    "       \n",
    "    else:\n",
    "        displayPolygonsStable(figure,v, k, image, l=4000)\n",
    "        return \"deadlocking\"\n",
    "              "
   ]
  },
  {
   "cell_type": "markdown",
   "metadata": {},
   "source": [
    "# figure 1 test"
   ]
  },
  {
   "cell_type": "code",
   "execution_count": 7,
   "metadata": {},
   "outputs": [
    {
     "name": "stdout",
     "output_type": "stream",
     "text": [
      "[-6.242 -2.254  0.     0.   ]\n",
      "only piece [] can move, it's the key\n"
     ]
    },
    {
     "data": {
      "application/vnd.jupyter.widget-view+json": {
       "model_id": "da85ceabecf4415793b2483075c6d7e0",
       "version_major": 2,
       "version_minor": 0
      },
      "text/plain": [
       "interactive(children=(FloatSlider(value=0.0, description='i', max=10.0), Output()), _dom_classes=('widget-inte…"
      ]
     },
     "metadata": {},
     "output_type": "display_data"
    },
    {
     "data": {
      "text/plain": [
       "'it is an interlocking assembly ( deadlocking if key is fixed)'"
      ]
     },
     "execution_count": 7,
     "metadata": {},
     "output_type": "execute_result"
    }
   ],
   "source": [
    "#figure 1\n",
    "p1 = np.array([[0,0], [400,0], [400,100],[100,100], [100,200], [200,300], [0,300]])\n",
    "p2= np.array([[400,100],[400,300],[200,300],[100,200],[100,100]])\n",
    "figure1= np.array([p1,p2])\n",
    "fullStudy(figure1)"
   ]
  },
  {
   "cell_type": "markdown",
   "metadata": {},
   "source": [
    "# figure 2 test"
   ]
  },
  {
   "cell_type": "code",
   "execution_count": 8,
   "metadata": {},
   "outputs": [
    {
     "name": "stdout",
     "output_type": "stream",
     "text": [
      "[ 1.  1. -0.  0.  0. -0.  0. -0.]\n",
      "only piece [0] can move, it's the key\n"
     ]
    },
    {
     "data": {
      "application/vnd.jupyter.widget-view+json": {
       "model_id": "4aee0cccdd674c1fa45c982ff8ff5865",
       "version_major": 2,
       "version_minor": 0
      },
      "text/plain": [
       "interactive(children=(FloatSlider(value=0.0, description='m', max=1.0, step=0.05), IntSlider(value=0, descript…"
      ]
     },
     "metadata": {},
     "output_type": "display_data"
    },
    {
     "data": {
      "text/plain": [
       "'it is an interlocking assembly ( deadlocking if key is fixed)'"
      ]
     },
     "execution_count": 8,
     "metadata": {},
     "output_type": "execute_result"
    }
   ],
   "source": [
    "#figure 2\n",
    "f1= np.array([[0,600],[0,200],[200,200],[100,100],[300,100],[800,600]])\n",
    "f2= np.array([[0 ,0],[1000,0],[1000 , 600],[800, 600],[700 ,500],[800, 500],[700 ,400],[1000 , 400],[800 ,200],[400, 200],[300 ,100],[100 ,100],[200 ,200],[  0 ,200]])\n",
    "f3= np.array([[400,200],[800,200],[1000,400],[700,400],[600,300],[500,300]])\n",
    "f4= np.array([[500,300],[600,300], [800,500],[700,500]])\n",
    "figure2=np.array([f1,f2,f3,f4])\n",
    "fullStudy(figure2, display = 1)"
   ]
  },
  {
   "cell_type": "code",
   "execution_count": 9,
   "metadata": {},
   "outputs": [
    {
     "data": {
      "image/png": "[encoded data removed]",
      "text/plain": [
       "<Figure size 576x576 with 1 Axes>"
      ]
     },
     "metadata": {
      "needs_background": "light"
     },
     "output_type": "display_data"
    }
   ],
   "source": [
    "simpleDisplay(figure2)"
   ]
  },
  {
   "cell_type": "markdown",
   "metadata": {},
   "source": [
    "# DeadLocking test"
   ]
  },
  {
   "cell_type": "code",
   "execution_count": 10,
   "metadata": {},
   "outputs": [
    {
     "name": "stdout",
     "output_type": "stream",
     "text": [
      "[]\n"
     ]
    },
    {
     "data": {
      "application/vnd.jupyter.widget-view+json": {
       "model_id": "9645cc59df7548fa8a25e8d0e1a02b84",
       "version_major": 2,
       "version_minor": 0
      },
      "text/plain": [
       "interactive(children=(FloatSlider(value=0.0, description='i', max=10.0), Output()), _dom_classes=('widget-inte…"
      ]
     },
     "metadata": {},
     "output_type": "display_data"
    },
    {
     "data": {
      "text/plain": [
       "'deadlocking'"
      ]
     },
     "execution_count": 10,
     "metadata": {},
     "output_type": "execute_result"
    }
   ],
   "source": [
    "deadLockingPart1 = np.array([[0,0],[300,0],[300,200],[200,200],[200,100],[100,100],[100,400],[200,400],[200,300],[300,300],[300,500],[0,500]])\n",
    "deadLockingPart2 = np.array([[300,0],[400,0],[400,500],[300,500],[300,300],[200,300],[200,400],[100,400],[100,100],[200,100],[200,200],[300,200]])\n",
    "\n",
    "deadLockingFigure=np.array([deadLockingPart1,deadLockingPart2])\n",
    "fullStudy(deadLockingFigure , 0)"
   ]
  },
  {
   "cell_type": "markdown",
   "metadata": {},
   "source": [
    "# triangle test"
   ]
  },
  {
   "cell_type": "code",
   "execution_count": 11,
   "metadata": {},
   "outputs": [],
   "source": [
    "v1, f1 = igl.read_triangle_mesh(\"ressources/3-way-triangle/tri1.obj\")\n",
    "v2, f2 = igl.read_triangle_mesh(\"ressources/3-way-triangle/tri2.obj\")\n",
    "v3, f3 = igl.read_triangle_mesh(\"ressources/3-way-triangle/tri3.obj\")\n",
    "v1=np.flip(np.delete(v1, np.s_[1], 1), 0)\n",
    "v2=np.flip(np.delete(v2, np.s_[1], 1), 0)\n",
    "v3=np.flip(np.delete(v3, np.s_[1], 1), 0)\n",
    "figureTriangle=np.array([v1,v2,v3])\n"
   ]
  },
  {
   "cell_type": "code",
   "execution_count": 12,
   "metadata": {
    "scrolled": false
   },
   "outputs": [
    {
     "name": "stdout",
     "output_type": "stream",
     "text": [
      "[ 0.    -0.723 -0.565  0.293  0.565  0.293]\n"
     ]
    },
    {
     "data": {
      "application/vnd.jupyter.widget-view+json": {
       "model_id": "e4a0475344204945b3ff57ebb6977837",
       "version_major": 2,
       "version_minor": 0
      },
      "text/plain": [
       "interactive(children=(FloatSlider(value=0.0, description='m', max=1.0, step=0.05), IntSlider(value=4000, descr…"
      ]
     },
     "metadata": {},
     "output_type": "display_data"
    }
   ],
   "source": [
    "StudyMultipleMoving(figureTriangle)"
   ]
  },
  {
   "cell_type": "code",
   "execution_count": null,
   "metadata": {},
   "outputs": [],
   "source": []
  },
  {
   "cell_type": "markdown",
   "metadata": {},
   "source": [
    "# DESIGNING PART"
   ]
  },
  {
   "cell_type": "markdown",
   "metadata": {},
   "source": [
    "# designing 2D\n"
   ]
  },
  {
   "cell_type": "code",
   "execution_count": 13,
   "metadata": {},
   "outputs": [],
   "source": [
    "def findMiddlePoints(piece, pointsIndices):\n",
    "    boundaryCoordinates = list(piece.exterior.coords)\n",
    "    middlePoints = []\n",
    "    space = len(boundaryCoordinates) // 3\n",
    "    "
   ]
  },
  {
   "cell_type": "code",
   "execution_count": 14,
   "metadata": {},
   "outputs": [],
   "source": [
    "def createPieceFromPolygons(Ai):\n",
    "    boundary = gpd.GeoSeries(cascaded_union(Ai))\n",
    "    #boundary.plot(color = 'red')\n",
    "    #plt.show()\n",
    "    return boundary\n",
    "\n",
    "def getCoordFromPolygon(polygon):\n",
    "    d=shy.mapping(polygon)\n",
    "    return (list(d.get('features')[0].get('geometry').get('coordinates')))"
   ]
  },
  {
   "cell_type": "code",
   "execution_count": 15,
   "metadata": {},
   "outputs": [],
   "source": [
    "from descartes.patch import PolygonPatch\n",
    "def simplePolygonDisplay(polygon):\n",
    "    \n",
    "    patches = []\n",
    "    xmax=10\n",
    "    ymax=10\n",
    "    xmin =-10\n",
    "    ymin=-10\n",
    "    k=0\n",
    "    fig2 = plt.figure(num=None, figsize=(10, 10))\n",
    "    ax = fig2.gca()\n",
    "\n",
    "    patch = PolygonPatch(polygon, facecolor=[0,0,0.5], edgecolor=[0,0,0], alpha=0.7, zorder=2)\n",
    "    ax.add_patch(patch)\n",
    "    ax.set(xlim=(xmin, xmax), ylim=(ymin, ymax))\n",
    "plt.show()\n"
   ]
  },
  {
   "cell_type": "code",
   "execution_count": null,
   "metadata": {},
   "outputs": [],
   "source": []
  },
  {
   "cell_type": "code",
   "execution_count": 16,
   "metadata": {},
   "outputs": [],
   "source": [
    "def createFirstPart(piece, pointsIndices, center):\n",
    "    totalArea = piece.area\n",
    "    areaPerPart = totalArea/ len(pointsIndices)\n",
    "    pieceCoords = list(piece.exterior.coords)\n",
    "    numberIndices = len(list(pieceCoords))\n",
    "\n",
    "    patchWork = pieceCoords + pieceCoords + pieceCoords\n",
    "    spaces = [pointsIndices[i+1]-pointsIndices[i] for i in range(len(pointsIndices)-1) ]\n",
    "    spaces.append(numberIndices-pointsIndices[-1]+ pointsIndices[0])\n",
    "    \n",
    "    firstPart = patchWork[pointsIndices[0]+numberIndices-spaces[0]//2:pointsIndices[0]+numberIndices+spaces[1]//2 ]\n",
    "    \n",
    "    firstPart.append(center)\n",
    "    aug = 0\n",
    "    augneg = 0\n",
    "    partArea = shy.Polygon(firstPart).area        \n",
    "    while(not math.isclose(partArea, areaPerPart, rel_tol = 0.05)):\n",
    "        firstPart= firstPart[:-1]\n",
    "\n",
    "        if (partArea< areaPerPart and pointsIndices[0]+spaces[1]//2+aug < pointsIndices[1] ):\n",
    "            #print(\"augment a droite\")\n",
    "            aug = aug+1\n",
    "            firstPart = patchWork[pointsIndices[0]+numberIndices-spaces[0]//2:pointsIndices[0]+numberIndices+spaces[0]//2+aug ]\n",
    "        elif (partArea< areaPerPart and (pointsIndices[0]-spaces[0]//2-augneg)  > pointsIndices[-1] -numberIndices):\n",
    "            augneg = augneg+1\n",
    "            #print(\"augment a gauche\")\n",
    "            firstPart = patchWork[pointsIndices[0]+numberIndices-spaces[0]//2-augneg:pointsIndices[0]+numberIndices+spaces[0]//2+aug ]\n",
    "        elif (partArea> areaPerPart and pointsIndices[0]+spaces[1]//2+aug > pointsIndices[0] ):\n",
    "            aug = aug-1\n",
    "            #print(\"decrease a droite\")\n",
    "            firstPart = patchWork[pointsIndices[0]+numberIndices-spaces[0]//2:pointsIndices[0]+numberIndices+spaces[0]//2+aug ]\n",
    "        elif (partArea> areaPerPart and (pointsIndices[0]-spaces[0]//2-augneg)%numberIndices < pointsIndices[0] ):\n",
    "            aug = augneg-1\n",
    "            #print(\"decrease a gauche\")\n",
    "            firstPart = patchWork[pointsIndices[0]+numberIndices-spaces[0]//2-augneg:pointsIndices[0]+numberIndices+spaces[0]//2+aug ]\n",
    "        else:\n",
    "            print(len(firstPart))\n",
    "            return \"impossible area of max piece is {} and min area required is {}\".format( partArea, areaPerPart)\n",
    "        firstPart.append(center)\n",
    "\n",
    "        partArea = shy.Polygon(firstPart).area       \n",
    "    \n",
    "    return firstPart[:-1]"
   ]
  },
  {
   "cell_type": "code",
   "execution_count": 17,
   "metadata": {},
   "outputs": [],
   "source": [
    "def fairSplit(piece, pointsIndices, center):\n",
    "    firstPart = createFirstPart(piece, pointsIndices, center)\n",
    "    \n",
    "    totalArea = piece.area\n",
    "    partsIndices = [(firstPart[0], firstPart[-1])]\n",
    "    areaPerPart = totalArea/ len(pointsIndices)\n",
    "    print(areaPerPart, \"/\", totalArea)\n",
    "    pieceCoords = list(piece.exterior.coords)\n",
    "    numberIndices = len(list(pieceCoords))\n",
    "\n",
    "    patchWork = pieceCoords + pieceCoords + pieceCoords\n",
    "    spaces = [pointsIndices[i+1]-pointsIndices[i] for i in range(len(pointsIndices)-1) ]\n",
    "    spaces.append(numberIndices-pointsIndices[-1]+ pointsIndices[0])\n",
    "    indicesPart = [(0,0) for i in range(len(pointsIndices))]\n",
    "    indicesPart[0] = (pieceCoords.index(firstPart[0]), pieceCoords.index(firstPart[-1]))\n",
    "    \n",
    "    \n",
    "    \n",
    "    for i in range(len(pointsIndices)-2):\n",
    "        i= i+1\n",
    "        parti = patchWork[indicesPart[i-1][1]: pointsIndices[i]+1] \n",
    "        parti.append(center)\n",
    "        aug = 0\n",
    "        augneg = 0\n",
    "        partArea = shy.Polygon(parti).area\n",
    "        if(partArea > areaPerPart and not math.isclose(partArea, areaPerPart, rel_tol = 0.05)):\n",
    "            return 0\n",
    "        \n",
    "        while(not math.isclose(partArea, areaPerPart, rel_tol = 0.05)):\n",
    "            parti = parti[:-1]\n",
    "            if (partArea< areaPerPart and pointsIndices[i]+1//2+aug < pointsIndices[i+1] ):\n",
    "                #print(\"augment a droite\")\n",
    "                aug = aug+1\n",
    "                parti = pieceCoords[indicesPart[i-1][1]:(pointsIndices[i]+1)+aug ]\n",
    "\n",
    "            else:\n",
    "                return \"impossible area of max piece is {} and min area required is {}\".format( partArea, areaPerPart)\n",
    "            indicesPart[i]= (pieceCoords.index(parti[0]), pieceCoords.index(parti[-1]) )\n",
    "            parti.append(center)\n",
    "            partArea = shy.Polygon(parti).area    \n",
    "            \n",
    "    if(pieceCoords.index(firstPart[0]) > pieceCoords.index(firstPart[-1])):\n",
    "        indicesPart[0] = (pieceCoords.index(firstPart[0])-len(pieceCoords), pieceCoords.index(firstPart[-1]))\n",
    "    else:\n",
    "        indicesPart[0] = (pieceCoords.index(firstPart[0]), pieceCoords.index(firstPart[-1]))\n",
    "    \n",
    "    indicesPart[-1]= (indicesPart[-2][1], indicesPart[0][0])\n",
    "    fairPartSplit = []\n",
    "    for i in range(len(indicesPart)-1):\n",
    "        fairPartSplit.append(patchWork[indicesPart[i][0]+len(pieceCoords):indicesPart[i][1]+len(pieceCoords)+1])\n",
    "        fairPartSplit[i].append(center)\n",
    "        fairPartSplit[i] = np.array(fairPartSplit[i])\n",
    "    fairPartSplit.append(patchWork[indicesPart[-1][0]+len(pieceCoords):indicesPart[-1][1]+2*len(pieceCoords)+1])\n",
    "    fairPartSplit[-1].append(center)\n",
    "    fairPartSplit[-1] = np.array(fairPartSplit[-1])\n",
    "    simpleDisplay(np.array(fairPartSplit))\n",
    "    return np.array(fairPartSplit)"
   ]
  },
  {
   "cell_type": "code",
   "execution_count": 18,
   "metadata": {},
   "outputs": [],
   "source": [
    "def intersect(holes, joint):\n",
    "    emptyPol = Point(0,0).buffer(1).intersection(Point(0,5).buffer(1))\n",
    "\n",
    "    for i in range(len(holes)):\n",
    "        if(holes[i].intersection(joint) != emptyPol):\n",
    "            return True\n",
    "    return False"
   ]
  },
  {
   "cell_type": "code",
   "execution_count": 19,
   "metadata": {},
   "outputs": [],
   "source": [
    "def designJoint2(p1,p2,holes,  v, width, height, distance_to_center=0.5, center= [0,0] ):\n",
    "    \n",
    "    p1 = np.asarray(p1)\n",
    "    p2 = np.asarray(p2)\n",
    "    v = np.asarray(v)\n",
    "    nrows, ncols = p1.shape\n",
    "    dtype={'names':['f{}'.format(i) for i in range(ncols)],\n",
    "           'formats':ncols * [p1.dtype]}\n",
    "\n",
    "    C = np.intersect1d(p1.view(dtype), p2.view(dtype))\n",
    "\n",
    "    commonPoints = C.view(p1.dtype).reshape(-1, ncols) \n",
    "\n",
    "    commonPoints = [commonPoints[i] for i in range(len(commonPoints)) if not np.allclose(commonPoints[i], center)]\n",
    "    otherPoint=commonPoints[0]\n",
    "\n",
    "    midPoint = np.asarray((center+otherPoint)*distance_to_center)\n",
    "    \n",
    "    JointAxis = np.asarray((center-otherPoint)/np.linalg.norm(center-otherPoint))\n",
    "    polyJoint = shy.Polygon([(midPoint+ JointAxis*width), (midPoint + JointAxis*width + height*v),(midPoint - JointAxis*width + height*v),(midPoint - JointAxis*width ),(midPoint - JointAxis*width - height*v),(midPoint + JointAxis*width - height*v)])\n",
    "    if(len(holes)!=0):\n",
    "        i = 1\n",
    "        while(intersect(holes, polyJoint)):\n",
    "            distance_to_center = 1 - 0.2 *i\n",
    "            i=i+1\n",
    "            \n",
    "            midPoint = np.asarray((center+otherPoint)*distance_to_center)\n",
    "            polyJoint = shy.Polygon([(midPoint+ JointAxis*width), (midPoint + JointAxis*width + height*v),(midPoint - JointAxis*width + height*v),(midPoint - JointAxis*width ),(midPoint - JointAxis*width - height*v),(midPoint + JointAxis*width - height*v)])\n",
    "            if (i > 8):\n",
    "                return \"no non intersecting joint found\"\n",
    "    p1 = shy.Polygon(p1).difference(polyJoint)\n",
    "    p2 = shy.Polygon(p2).union(polyJoint)\n",
    "    \n",
    "    return list(p1.exterior.coords), list(p2.exterior.coords)"
   ]
  },
  {
   "cell_type": "code",
   "execution_count": 20,
   "metadata": {},
   "outputs": [
    {
     "name": "stdout",
     "output_type": "stream",
     "text": [
      "[0.60885024]\n"
     ]
    }
   ],
   "source": [
    "print(np.random.rand(1))"
   ]
  },
  {
   "cell_type": "code",
   "execution_count": 21,
   "metadata": {},
   "outputs": [],
   "source": [
    "def correctPoints(v1):\n",
    "    v1 = np.round(np.flip(v1, 0),decimals=3)\n",
    "    _, idx = np.unique(v1,axis = 0, return_index=True)\n",
    "    return v1[np.sort(idx)]"
   ]
  },
  {
   "cell_type": "code",
   "execution_count": 55,
   "metadata": {},
   "outputs": [],
   "source": [
    "def design(piece, vectors, pointsIndices,nParts=3, center = (0,0)): # enter a polygon piece, 3 vectors, 3points indices\n",
    "    assert nParts == len(pointsIndices) and nParts == len(vectors), \"number of points should match number of pieces and number of vectors\"  \n",
    "    for i in range(len(vectors)):\n",
    "        vectors[i] = vectors[i]/np.linalg.norm(vectors[i])\n",
    "    holes = piece[1:]\n",
    "    width = 20\n",
    "    height = 40\n",
    "    parts  =[]\n",
    "    directions = []\n",
    "    fs = fairSplit(piece[0],pointsIndices, center )\n",
    "    for part in fs:\n",
    "        parts.append(part)\n",
    "        \n",
    "    for i in range(nParts):\n",
    "        directions.append((vectors[i]-vectors[i-1])/np.linalg.norm(vectors[i]-vectors[i-1]) )\n",
    "    \n",
    "    for i in range(nParts):\n",
    "        parts[i], parts[(i+1)%len(parts)] = designJoint2(parts[i], parts[(i+1)%len(parts)],holes,  directions[(i+1)%len(parts)], width, height, distance_to_center=0.5, center= [0,0] )\n",
    "\n",
    "    for i in range(nParts):\n",
    "        parts[i] = shy.Polygon(parts[i])\n",
    "        for j in range(len(piece)-1):\n",
    "            parts[i] = parts[i].difference(piece[j+1])\n",
    "        \n",
    "        parts[i] = list(parts[i].exterior.coords)\n",
    "        \n",
    "    for i in range(len(parts)):\n",
    "        parts[i] = correctPoints(parts[i])\n",
    "    \n",
    "    \n",
    "    \n",
    "    return np.asarray(parts)\n",
    "    \n",
    "    \n",
    "    \n",
    "    \n",
    "    \n",
    "    "
   ]
  },
  {
   "cell_type": "code",
   "execution_count": 56,
   "metadata": {},
   "outputs": [
    {
     "data": {
      "image/png": "[encoded data removed]",
      "text/plain": [
       "<Figure size 576x576 with 1 Axes>"
      ]
     },
     "metadata": {
      "needs_background": "light"
     },
     "output_type": "display_data"
    }
   ],
   "source": [
    "point = Point(0,0).buffer(10)\n",
    "simpleDisplay(np.array([point.exterior.coords]))"
   ]
  },
  {
   "cell_type": "code",
   "execution_count": 57,
   "metadata": {},
   "outputs": [
    {
     "name": "stdout",
     "output_type": "stream",
     "text": [
      "10455.161635153127 / 31365.48490545938\n"
     ]
    },
    {
     "data": {
      "image/png": "[encoded data removed]",
      "text/plain": [
       "<Figure size 576x576 with 1 Axes>"
      ]
     },
     "metadata": {
      "needs_background": "light"
     },
     "output_type": "display_data"
    },
    {
     "name": "stdout",
     "output_type": "stream",
     "text": [
      "[ 0.921 -0.046 -0.594 -0.72  -0.151  0.757]\n"
     ]
    },
    {
     "data": {
      "application/vnd.jupyter.widget-view+json": {
       "model_id": "0b5bdaae90c04cde8e79cec8743ff43f",
       "version_major": 2,
       "version_minor": 0
      },
      "text/plain": [
       "interactive(children=(FloatSlider(value=0.0, description='m', max=1.0, step=0.05), IntSlider(value=4000, descr…"
      ]
     },
     "metadata": {},
     "output_type": "display_data"
    }
   ],
   "source": [
    "point = np.array([Point(0,0).buffer(200)])\n",
    "## def design(Polygon, [directionVectors], pointsIndices, numberofParts)\n",
    "circle = design(point, np.array([[1, 0],[ -1, -1],[-0.2, 1]]), [0, 22, 44], 3)\n",
    "StudyMultipleMoving(circle)"
   ]
  },
  {
   "cell_type": "code",
   "execution_count": 58,
   "metadata": {},
   "outputs": [
    {
     "name": "stdout",
     "output_type": "stream",
     "text": [
      "[array([[ 63.439,  77.301],\n",
      "       [ 38.064,  46.381],\n",
      "       [ 22.597,  59.06 ],\n",
      "       [  9.909,  43.6  ],\n",
      "       [ 25.376,  30.92 ],\n",
      "       [  0.   ,   0.   ],\n",
      "       [ 15.307, -36.955],\n",
      "       [ 33.785, -29.302],\n",
      "       [ 41.439, -47.779],\n",
      "       [ 22.961, -55.433],\n",
      "       [ 38.268, -92.388],\n",
      "       [ 47.14 , -88.192],\n",
      "       [ 55.557, -83.147],\n",
      "       [ 63.439, -77.301],\n",
      "       [ 70.711, -70.711],\n",
      "       [ 77.301, -63.439],\n",
      "       [ 83.147, -55.557],\n",
      "       [ 88.192, -47.14 ],\n",
      "       [ 92.388, -38.268],\n",
      "       [ 95.694, -29.028],\n",
      "       [ 98.079, -19.509],\n",
      "       [ 99.518,  -9.802],\n",
      "       [100.   ,   0.   ],\n",
      "       [ 99.518,   9.802],\n",
      "       [ 98.079,  19.509],\n",
      "       [ 95.694,  29.028],\n",
      "       [ 92.388,  38.268],\n",
      "       [ 88.192,  47.14 ],\n",
      "       [ 83.147,  55.557],\n",
      "       [ 77.301,  63.439],\n",
      "       [ 70.711,  70.711]])\n",
      " array([[  38.268,  -92.388],\n",
      "       [  22.961,  -55.433],\n",
      "       [  41.439,  -47.779],\n",
      "       [  33.785,  -29.302],\n",
      "       [  15.307,  -36.955],\n",
      "       [   0.   ,    0.   ],\n",
      "       [ -39.807,    3.921],\n",
      "       [ -45.603,  -15.221],\n",
      "       [ -65.507,  -13.261],\n",
      "       [ -59.711,    5.881],\n",
      "       [ -99.518,    9.802],\n",
      "       [-100.   ,   -0.   ],\n",
      "       [ -99.518,   -9.802],\n",
      "       [ -98.079,  -19.509],\n",
      "       [ -95.694,  -29.028],\n",
      "       [ -92.388,  -38.268],\n",
      "       [ -88.192,  -47.14 ],\n",
      "       [ -83.147,  -55.557],\n",
      "       [ -77.301,  -63.439],\n",
      "       [ -70.711,  -70.711],\n",
      "       [ -63.439,  -77.301],\n",
      "       [ -55.557,  -83.147],\n",
      "       [ -47.14 ,  -88.192],\n",
      "       [ -38.268,  -92.388],\n",
      "       [ -29.028,  -95.694],\n",
      "       [ -19.509,  -98.079],\n",
      "       [  -9.802,  -99.518],\n",
      "       [   0.   , -100.   ],\n",
      "       [   9.802,  -99.518],\n",
      "       [  19.509,  -98.079],\n",
      "       [  29.028,  -95.694]])\n",
      " array([[-99.518,   9.802],\n",
      "       [-59.711,   5.881],\n",
      "       [-65.507, -13.261],\n",
      "       [-45.603, -15.221],\n",
      "       [-39.807,   3.921],\n",
      "       [  0.   ,   0.   ],\n",
      "       [ 25.376,  30.92 ],\n",
      "       [  9.909,  43.6  ],\n",
      "       [ 22.597,  59.06 ],\n",
      "       [ 38.064,  46.381],\n",
      "       [ 63.439,  77.301],\n",
      "       [ 55.557,  83.147],\n",
      "       [ 47.14 ,  88.192],\n",
      "       [ 38.268,  92.388],\n",
      "       [ 29.028,  95.694],\n",
      "       [ 19.509,  98.079],\n",
      "       [  9.802,  99.518],\n",
      "       [ -0.   , 100.   ],\n",
      "       [ -9.802,  99.518],\n",
      "       [-19.509,  98.079],\n",
      "       [-29.028,  95.694],\n",
      "       [-38.268,  92.388],\n",
      "       [-47.14 ,  88.192],\n",
      "       [-55.557,  83.147],\n",
      "       [-63.439,  77.301],\n",
      "       [-70.711,  70.711],\n",
      "       [-77.301,  63.439],\n",
      "       [-83.147,  55.557],\n",
      "       [-88.192,  47.14 ],\n",
      "       [-92.388,  38.268],\n",
      "       [-95.694,  29.028],\n",
      "       [-98.079,  19.509]])]\n"
     ]
    }
   ],
   "source": [
    "print(circle\n",
    "     )\n",
    "np.save(\"circle20cm.npy\", circle, allow_pickle = True)"
   ]
  },
  {
   "cell_type": "code",
   "execution_count": 31,
   "metadata": {},
   "outputs": [
    {
     "name": "stdout",
     "output_type": "stream",
     "text": [
      "250.92387924367512 / 1254.6193962183756\n"
     ]
    },
    {
     "data": {
      "image/png": "[encoded data removed]",
      "text/plain": [
       "<Figure size 576x576 with 1 Axes>"
      ]
     },
     "metadata": {
      "needs_background": "light"
     },
     "output_type": "display_data"
    },
    {
     "name": "stdout",
     "output_type": "stream",
     "text": [
      "[ 2.916  0.15  -2.005 -2.584 -2.666 -0.603 -0.146  1.287  2.063  1.287]\n"
     ]
    },
    {
     "data": {
      "application/vnd.jupyter.widget-view+json": {
       "model_id": "fa2d7b7c5019496bab5b7fd2771b7873",
       "version_major": 2,
       "version_minor": 0
      },
      "text/plain": [
       "interactive(children=(FloatSlider(value=0.0, description='m', max=1.0, step=0.05), IntSlider(value=4000, descr…"
      ]
     },
     "metadata": {},
     "output_type": "display_data"
    }
   ],
   "source": [
    "a = Point(0,0).buffer(20)\n",
    "circle5Parts= design(np.array([a]),np.array([[1, 0],[-0.5, -1],[-1, 0.5], [-0.2, 1],[0.5, 2]]), [0,12,24,36,54], nParts = 5)\n",
    "StudyMultipleMoving(circle5Parts, l=0)\n"
   ]
  },
  {
   "cell_type": "code",
   "execution_count": 36,
   "metadata": {},
   "outputs": [],
   "source": [
    "np.save( \"circle.npy\", circle, allow_pickle=True)"
   ]
  },
  {
   "cell_type": "markdown",
   "metadata": {},
   "source": [
    "## 4-part eight"
   ]
  },
  {
   "cell_type": "code",
   "execution_count": null,
   "metadata": {},
   "outputs": [],
   "source": [
    "h1 = Point(0,-12).buffer(16)\n",
    "h2 = Point(0,12).buffer(16)\n",
    "eight = h1.union(h2)\n",
    "hole1 = Point(0,12).buffer(6)\n",
    "hole2 = Point(0,-12).buffer(6)\n",
    "eightDesign = design(np.array([eight, hole1, hole2]),\n",
    "                     np.array([[1,     -1],[ -0.5  ,  -1],[ -1  ,  1 ], [1,1]]), [0,25,50,75], nParts = 4)\n",
    "StudyMultipleMoving(eightDesign)\n"
   ]
  },
  {
   "cell_type": "markdown",
   "metadata": {},
   "source": [
    "\n",
    "# https://gist.github.com/pv/8036995"
   ]
  },
  {
   "cell_type": "code",
   "execution_count": null,
   "metadata": {},
   "outputs": [],
   "source": []
  },
  {
   "cell_type": "code",
   "execution_count": null,
   "metadata": {},
   "outputs": [],
   "source": []
  },
  {
   "cell_type": "code",
   "execution_count": null,
   "metadata": {},
   "outputs": [],
   "source": []
  },
  {
   "cell_type": "code",
   "execution_count": null,
   "metadata": {},
   "outputs": [],
   "source": []
  },
  {
   "cell_type": "markdown",
   "metadata": {},
   "source": [
    "# puzzle 2d design"
   ]
  },
  {
   "cell_type": "code",
   "execution_count": null,
   "metadata": {},
   "outputs": [],
   "source": [
    "def randomStructure(nPoints):\n",
    "    np.random.seed(8)\n",
    "    # make up data points\n",
    "    points = list(500*np.random.rand(12, 2))\n",
    "    points.append([0,0])\n",
    "    points.append([500,0])\n",
    "    points.append([0,500])\n",
    "    points.append([500,500])\n",
    "    \n",
    "    vor = Voronoi(points)\n",
    "\n",
    "    regions, vertices = voronoi_finite_polygons_2d(vor)\n",
    "\n",
    "    pts = MultiPoint([Point(i) for i in points])\n",
    "    \n",
    "    mask = pts.convex_hull\n",
    "    new_vertices = []\n",
    "    for region in regions:\n",
    "        polygon = vertices[region]\n",
    "        shape = list(polygon.shape)\n",
    "        shape[0] += 1\n",
    "        p = Polygon(np.append(polygon, polygon[0]).reshape(*shape)).intersection(mask)\n",
    "        poly = np.array(list(zip(p.boundary.coords.xy[0][:-1], p.boundary.coords.xy[1][:-1])))\n",
    "        new_vertices.append(poly)\n",
    "        plt.fill(*zip(*poly), alpha=0.4)\n",
    "    plt.plot(points[:,0], points[:,1], 'ko')\n",
    "    plt.show()\n",
    "    return regions, vertices"
   ]
  },
  {
   "cell_type": "code",
   "execution_count": null,
   "metadata": {},
   "outputs": [],
   "source": [
    "a, b = randomStructure(8)\n",
    "index = [6, 4, 3, 5]\n",
    "for i in index:\n",
    "    print(b[i])\n",
    "    \n",
    "np.array([b[i] for i in index])\n",
    "simpleDisplay\n",
    "print(a)\n"
   ]
  },
  {
   "cell_type": "code",
   "execution_count": null,
   "metadata": {},
   "outputs": [],
   "source": [
    "def mapToNpArray(regions, vertices):\n",
    "    myMap = []\n",
    "    for i in range(len(regions)):\n",
    "        temp = [vertices[j] for j in range(len(regions[i]))]\n",
    "        myMap.append(np.asarray(temp))\n",
    "    return np.array(myMap)"
   ]
  },
  {
   "cell_type": "code",
   "execution_count": null,
   "metadata": {},
   "outputs": [],
   "source": [
    "a = (np.array([[253.67073494, 405.63902563],\n",
    "[356.61177344, 280.43286361],\n",
    "[513.59792774 ,374.09495392],\n",
    "[290.50334159 ,472.1004617]]))\n",
    "simpleDisplay(np.array([a]))"
   ]
  },
  {
   "cell_type": "code",
   "execution_count": null,
   "metadata": {},
   "outputs": [],
   "source": [
    "def simple_voronoi(vor, lim=None):\n",
    "    # Make Voronoi Diagram \n",
    "    fig = voronoi_plot_2d(vor, show_points=True, show_vertices=True)\n",
    "    # Configure figure \n",
    "    fig.set_size_inches(5,5)\n",
    "    plt.axis(\"equal\")\n",
    "    if lim:\n",
    "        plt.xlim(*lim)\n",
    "        plt.ylim(*lim)\n",
    "    plt.show()\n",
    "simple_voronoi(a, lim=(0,500))"
   ]
  },
  {
   "cell_type": "code",
   "execution_count": null,
   "metadata": {},
   "outputs": [],
   "source": [
    "def gridS(nPoints):\n",
    "    listofPoints = 500 * np.random.rand(nPoints, 2)\n",
    "    listof = list([[0,0],[0,500],[500,500],[500,0]])\n",
    "    listofPoints= list(listofPoints) + listof\n",
    "    listofPoints=np.array(listofPoints)\n",
    "    vor = Voronoi(listofPoints)\n",
    "    voronoi_plot_2d(vor)\n",
    "    plt.show()\n",
    "    return vor\n",
    "def getCycles(graph):\n",
    "    cycles = nx.minimum_cycle_basis(graph)\n",
    "    finalCycles = [cycles[0]]\n",
    "    append = True\n",
    "    for i in range(len(cycles)): \n",
    "        append = True\n",
    "        for j in range(len(finalCycles)):\n",
    "            if (intersection(cycles[i], finalCycles[j])!= []):\n",
    "                append=False        \n",
    "        if(append and cycles[i] not in finalCycles ):\n",
    "            finalCycles.append(cycles[i])\n",
    "    return finalCycles  "
   ]
  },
  {
   "cell_type": "code",
   "execution_count": null,
   "metadata": {},
   "outputs": [],
   "source": [
    "def aug(a):\n",
    "    return a+1"
   ]
  },
  {
   "cell_type": "code",
   "execution_count": null,
   "metadata": {},
   "outputs": [],
   "source": []
  },
  {
   "cell_type": "code",
   "execution_count": null,
   "metadata": {},
   "outputs": [],
   "source": [
    "baseGrid = [([shy.Polygon([(i,j),(i+1, j),(i+1,j+1),(i,j+1)]) for i in range(4) for j in range(4)])]\n",
    "baseGridArr =700* np.array([([(i,j),(i+1, j),(i+1,j+1),(i,j+1)]) for i in range(4) for j in range(4)])\n",
    "a = "
   ]
  },
  {
   "cell_type": "code",
   "execution_count": null,
   "metadata": {},
   "outputs": [],
   "source": [
    "StudyMultipleMoving(baseGridArr)"
   ]
  },
  {
   "cell_type": "code",
   "execution_count": null,
   "metadata": {},
   "outputs": [],
   "source": [
    "def isNeighboorsOf(shape1, shape2):\n",
    "    #simpleDisplay(np.array([shape1,shape2]))\n",
    "    for i in range(len(shape1)):\n",
    "        for j in range(len(shape2)):\n",
    "            if(isTouching(shape1[i],shape1[(i+1)%len(shape1)],shape2[j],shape2[(j+1)%len(shape2)])):\n",
    "                return True\n",
    "    return False\n",
    "def generateGridGraph(grid):\n",
    "    G = nx.Graph()\n",
    "    for i in range(len(grid)):\n",
    "        G.add_node(i)\n",
    "    for i in range(len(grid)):\n",
    "        for j in range(len(grid)):\n",
    "            if(i!=j and isNeighboorsOf(grid[i],grid[j])):\n",
    "                G.add_edge(i,j)\n",
    "                G.add_edge(j,i)\n",
    "    return G\n"
   ]
  },
  {
   "cell_type": "code",
   "execution_count": null,
   "metadata": {},
   "outputs": [],
   "source": [
    "graph = generateGridGraph(baseGridArr)"
   ]
  },
  {
   "cell_type": "code",
   "execution_count": null,
   "metadata": {},
   "outputs": [],
   "source": [
    "nx.draw(graph, with_labels=True, font_weight='bold')\n",
    "print(type(nx.minimum_cycle_basis(graph)))\n"
   ]
  },
  {
   "cell_type": "code",
   "execution_count": null,
   "metadata": {},
   "outputs": [],
   "source": [
    "gridDesign(baseGridArr)"
   ]
  },
  {
   "cell_type": "code",
   "execution_count": null,
   "metadata": {},
   "outputs": [],
   "source": []
  },
  {
   "cell_type": "code",
   "execution_count": null,
   "metadata": {},
   "outputs": [],
   "source": []
  },
  {
   "cell_type": "code",
   "execution_count": null,
   "metadata": {},
   "outputs": [],
   "source": [
    "def designJoint2parts(p1,p2, width, height, distance_to_center=0.5 ):\n",
    "    \n",
    "    p1 = np.asarray(p1)\n",
    "    p2 = np.asarray(p2)\n",
    "\n",
    "    nrows, ncols = p1.shape\n",
    "    dtype={'names':['f{}'.format(i) for i in range(ncols)],\n",
    "           'formats':ncols * [p1.dtype]}\n",
    "\n",
    "    C = np.intersect1d(p1.view(dtype), p2.view(dtype))\n",
    "\n",
    "    commonPoint = C.view(p1.dtype).reshape(-1, ncols) \n",
    "    JointAxis = np.asarray((commonPoint[1]-commonPoint[0])/np.linalg.norm(commonPoint[1]-commonPoint[0]))\n",
    "    v = np.array(JointAxis[1],-JointAxis[0])\n",
    "    \n",
    "\n",
    "    midPoint = np.asarray((commonPoint[0]+commonPoint[1])*distance_to_center)\n",
    "    \n",
    "    polyJoint = shy.Polygon([(midPoint+ JointAxis*width), (midPoint + JointAxis*width + height*v),(midPoint - JointAxis*width + height*v),(midPoint - JointAxis*width ),(midPoint - JointAxis*width - height*v),(midPoint + JointAxis*width - height*v)])\n",
    "    p1 = shy.Polygon(p1).difference(polyJoint)\n",
    "    p2 = shy.Polygon(p2).union(polyJoint)\n",
    "    \n",
    "    return list(p1.exterior.coords), list(p2.exterior.coords)"
   ]
  },
  {
   "cell_type": "code",
   "execution_count": null,
   "metadata": {},
   "outputs": [],
   "source": [
    "def designJointsPieces(nPartPiece, nParts = 4):\n",
    "    parts = nPartPiece[0]\n",
    "    normals = compute_normals_dict(parts)\n",
    "    print(normals)\n",
    "    for i in range(nParts):\n",
    "        parts[i], parts[(i+1)%len(parts)] = designJoint2(parts[i], parts[(i+1)%len(parts)],  directions[(i+1)%len(parts)], width, height, distance_to_center=0.5, center= [0,0] )\n",
    "\n",
    "\n",
    "        \n",
    "        parts[i] = list(parts[i].exterior.coords)\n",
    "        \n",
    "    for i in range(len(parts)):\n",
    "        parts[i] = correctPoints(parts[i]) \n",
    "    return 0"
   ]
  },
  {
   "cell_type": "code",
   "execution_count": null,
   "metadata": {},
   "outputs": [],
   "source": [
    "def gridDesign(grid):\n",
    "    graph = generateGridGraph(grid)\n",
    "    cycles = getCycles(graph)\n",
    "    groupsOfPieces = []\n",
    "    for i in range(len(cycles)):\n",
    "        temp = []\n",
    "        for j in range(len(cycles[i])):\n",
    "            temp.append(grid[cycles[i][j]])\n",
    "        groupsOfPieces.append(temp)\n",
    "    groupsOfPieces = np.array(groupsOfPieces)\n",
    "    \n",
    "    p1 , p2 = designJoint2parts(groupsOfPieces[0][0],groupsOfPieces[0][1], 100, 100, distance_to_center=0.5 )\n",
    "    parts = groupsOfPieces[0]\n",
    "\n",
    "    \n",
    "    a,b= designJoint2parts(parts[0],parts[1], 100, 100, distance_to_center=0.5 )\n",
    "\n",
    "    \n",
    "    \n",
    "    \n",
    "    simpleDisplay(np.array([a,b]))\n",
    "    \n",
    "    return 0"
   ]
  },
  {
   "cell_type": "code",
   "execution_count": null,
   "metadata": {},
   "outputs": [],
   "source": []
  },
  {
   "cell_type": "markdown",
   "metadata": {},
   "source": [
    "# Polygon <-> grid function"
   ]
  },
  {
   "cell_type": "code",
   "execution_count": 44,
   "metadata": {},
   "outputs": [],
   "source": [
    "def createPieceFromPolygons(Ai):\n",
    "    boundary = gpd.GeoSeries(cascaded_union(Ai))\n",
    "    #boundary.plot(color = 'red')\n",
    "    #plt.show()\n",
    "    return boundary\n",
    "\n",
    "def getCoordFromPolygon(polygon):\n",
    "    d=shy.mapping(polygon)\n",
    "    return (list(d.get('features')[0].get('geometry').get('coordinates')))\n",
    "\n",
    "def getPolygonFromCoord(array):\n",
    "    poly= [shy.Polygon(array[i]) for i in range(len(array))]\n",
    "    return createPieceFromPolygons(poly)\n",
    "\n",
    "def createPieceFromGrid(grid):\n",
    "    grid = getCoordFromPolygon(getPolygonFromCoord(grid))\n",
    "    grid = np.flip(grid, 1)\n",
    "    grid = np.squeeze(grid,axis=0)\n",
    "    return grid"
   ]
  },
  {
   "cell_type": "code",
   "execution_count": 87,
   "metadata": {},
   "outputs": [
    {
     "name": "stdout",
     "output_type": "stream",
     "text": [
      "[ 0.000e+00 -1.002e+00  1.002e+00 -0.000e+00  2.003e+00 -1.002e+00\n",
      "  1.002e+00 -2.003e+00  2.002e+00  1.001e+00  3.003e+00  2.002e+00\n",
      "  4.005e+00  1.000e+00  3.004e+00 -1.000e-03  2.003e+00 -3.005e+00\n",
      "  3.005e+00 -2.003e+00  4.006e+00 -3.004e+00  3.004e+00 -4.006e+00\n",
      "  4.006e+00 -1.002e+00  5.006e+00 -2.000e-03  6.007e+00 -1.002e+00\n",
      "  5.006e+00 -2.003e+00]\n"
     ]
    },
    {
     "data": {
      "application/vnd.jupyter.widget-view+json": {
       "model_id": "1757234fb2874edd9a5817f1235f920b",
       "version_major": 2,
       "version_minor": 0
      },
      "text/plain": [
       "interactive(children=(FloatSlider(value=0.0, description='i', max=1000.0, step=10.0), Output()), _dom_classes=…"
      ]
     },
     "metadata": {},
     "output_type": "display_data"
    }
   ],
   "source": []
  },
  {
   "cell_type": "code",
   "execution_count": 82,
   "metadata": {},
   "outputs": [
    {
     "name": "stdout",
     "output_type": "stream",
     "text": [
      "[-4.587  0.198 -3.489  1.296 -2.217  0.024 -3.315 -1.074 -2.208  2.577\n",
      "  0.39   6.041  2.164  3.676 -0.754  1.487 -1.031 -3.359  0.067 -2.26\n",
      "  1.286 -3.479  0.187 -4.577  1.53  -0.798  3.719  2.121  5.335 -0.033\n",
      "  2.922 -1.842]\n"
     ]
    },
    {
     "data": {
      "application/vnd.jupyter.widget-view+json": {
       "model_id": "e75e11ca997747cb90afb5f32baef534",
       "version_major": 2,
       "version_minor": 0
      },
      "text/plain": [
       "interactive(children=(FloatSlider(value=0.0, description='m', max=10.0, step=0.2), IntSlider(value=4000, descr…"
      ]
     },
     "metadata": {},
     "output_type": "display_data"
    }
   ],
   "source": [
    "StudyMultipleMoving(randomArray, k=10)"
   ]
  },
  {
   "cell_type": "code",
   "execution_count": 84,
   "metadata": {},
   "outputs": [
    {
     "name": "stdout",
     "output_type": "stream",
     "text": [
      "[-4.406e+00 -1.166e+00 -3.067e+00  1.740e-01 -1.770e+00 -1.123e+00\n",
      " -3.110e+00 -2.462e+00 -3.067e+00  2.058e+00  4.110e-01  6.694e+00\n",
      "  2.318e+00  4.152e+00 -1.770e+00  1.086e+00 -1.334e+00 -4.238e+00\n",
      "  6.000e-03 -2.898e+00  1.240e+00 -4.133e+00 -1.000e-01 -5.472e+00\n",
      "  1.776e+00  1.086e+00  4.076e+00  4.152e+00  5.683e+00  2.009e+00\n",
      "  3.114e+00  8.300e-02]\n"
     ]
    },
    {
     "data": {
      "application/vnd.jupyter.widget-view+json": {
       "model_id": "17e841c0b58d47168a6fbfaba91bb606",
       "version_major": 2,
       "version_minor": 0
      },
      "text/plain": [
       "interactive(children=(FloatSlider(value=0.0, description='m', max=10.0, step=0.2), IntSlider(value=4000, descr…"
      ]
     },
     "metadata": {},
     "output_type": "display_data"
    }
   ],
   "source": [
    "StudyMultipleMoving(better)"
   ]
  },
  {
   "cell_type": "code",
   "execution_count": 86,
   "metadata": {},
   "outputs": [],
   "source": [
    "test = np.array([[[0,0],[10,0], [10,4], [11,3], [11,4,], [10,5], [10,10],[5,10], [5,9], [4,9], [4,10], [0,10]]])"
   ]
  },
  {
   "cell_type": "code",
   "execution_count": 87,
   "metadata": {},
   "outputs": [],
   "source": [
    "test = np.array([[[0,0],[10,0], [10,4], [11,3], [11,4,], [10,5], [10,10],[5,10], [5,9], [4,9], [4,10], [0,10]],\n",
    "                [[10,0], [20,0], [20,10], [15, 10], [16,11], [15, 11], [14, 10], [10,10], [10,5], [11,4], [11,3], [10,4]],\n",
    "                [[20, 10], [20,20], [10,20], [10, 15], [11,15], [11,14], [10, 14],[10, 10], [14,10], [15,11], [16,11],[15,10]]\n",
    "                ,[[10,10], [10,14], [11,14], [11,15],[10,15], [10,20], [0,20], [0,10], [4, 10], [4,9], [5,9], [5,10]]\n",
    "                \n",
    "                ])"
   ]
  },
  {
   "cell_type": "code",
   "execution_count": null,
   "metadata": {},
   "outputs": [],
   "source": [
    "StudyMultipleMoving(pp[4:8])"
   ]
  },
  {
   "cell_type": "code",
   "execution_count": null,
   "metadata": {},
   "outputs": [],
   "source": []
  },
  {
   "cell_type": "code",
   "execution_count": null,
   "metadata": {},
   "outputs": [],
   "source": []
  }
 ],
 "metadata": {
  "kernelspec": {
   "display_name": "Python 3",
   "language": "python",
   "name": "python3"
  },
  "language_info": {
   "codemirror_mode": {
    "name": "ipython",
    "version": 3
   },
   "file_extension": ".py",
   "mimetype": "text/x-python",
   "name": "python",
   "nbconvert_exporter": "python",
   "pygments_lexer": "ipython3",
   "version": "3.7.3"
  }
 },
 "nbformat": 4,
 "nbformat_minor": 2
}
